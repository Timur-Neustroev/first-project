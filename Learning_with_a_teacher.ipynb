{
 "cells": [
  {
   "cell_type": "markdown",
   "metadata": {
    "id": "MQRaP9Xz2Ht4",
    "pycharm": {
     "name": "#%% md\n"
    }
   },
   "source": [
    "<div style=\"border:solid Chocolate 2px; padding: 40px\">\n",
    "\n",
    "<b> Тимур, привет!👋</b>  \n",
    "\n",
    "Меня зовут Кирилл Васильев, я буду ревьюером твоего проекта. Я предлагаю общаться на «ты», но если привычнее на «вы», просто скажи об этом!\n",
    "    \n",
    "**Заранее прошу прощения за долгую проверку. Многие решили сдать проекты одновременно.**\n",
    "\n",
    "\n",
    "Я буду оставлять комментарии в твоем проекте. Пожалуйста, не удаляй их, они могут быть полезны в случае повторной проверки.\n",
    "\n",
    "Ты можешь реагировать на комментарии как просто написав их в Markdown-ячейках, так и выделив их цветом. Например, <font color='blue'>синим</font>. Второй способ, на мой взгляд, удобнее.\n",
    "\n",
    "Свои комментарии я буду обозначать <font color='green'>зеленым</font>, <font color='gold'>желтым</font> и <font color='red'>красным</font> цветами, например:\n",
    "  \n",
    "<br/>\n",
    "\n",
    "<div class=\"alert alert-success\">\n",
    "<h2> Комментарий ревьюера <a class=\"tocSkip\"> </h2>\n",
    "\n",
    "<b>Все отлично!👍:</b> В случае, если решение на отдельном шаге является полностью правильным. Здесь же я могу давать советы и предложения.\n",
    "</div>\n",
    "\n",
    "<br/>\n",
    "\n",
    "<div class=\"alert alert-warning\">\n",
    "    <h2> Комментарий ревьюера <a class=\"tocSkip\"> </h2>\n",
    "    \n",
    "<b>Некоторые замечания и рекомендации💡:</b> В случае, когда решение на отдельном шаге станет еще лучше, если внести небольшие коррективы.\n",
    "</div>\n",
    "\n",
    "\n",
    "<br/>\n",
    "<div class=\"alert alert-block alert-danger\">\n",
    "<h2> Комментарий ревьюера <a class=\"tocSkip\"></h2>\n",
    "\n",
    "    \n",
    "<b>На доработку🤔:</b>\n",
    " В случае, когда решение на отдельном шаге требует существенной переработки и внесения правок. Напоминаю, что проект не может быть принят с первого раза, если ревью содержит комментарии, рекомендующие доработать шаги.\n",
    "</div>\n",
    "\n",
    "<br/>\n",
    "<div class=\"alert alert-info\">\n",
    "Рекомендую для твоих комментариев использовать синий или любой другой цветной фон. Я постараюсь ничего не пропустить, но если комментарии будут выделены, то это мне очень поможет!\n",
    "</div>\n",
    "    \n",
    "Увидев у тебя неточность, в первый раз я лишь укажу на ее наличие и дам тебе возможность самостоятельно найти и исправить ее. На реальной работе твой руководитель будет поступать также. Но если ты пока не справишься с такой задачей - при следующей проверке я дам более точную подсказку."
   ]
  },
  {
   "cell_type": "markdown",
   "metadata": {
    "toc": true,
    "id": "60SzBkF62Ht9",
    "pycharm": {
     "name": "#%% md\n"
    }
   },
   "source": [
    "<h1>Содержание<span class=\"tocSkip\"></span></h1>\n",
    "<div class=\"toc\"><ul class=\"toc-item\"><li><span><a href=\"#Подготовка-данных\" data-toc-modified-id=\"Подготовка-данных-1\"><span class=\"toc-item-num\">1&nbsp;&nbsp;</span>Подготовка данных</a></span></li><li><span><a href=\"#Исследование-задачи\" data-toc-modified-id=\"Исследование-задачи-2\"><span class=\"toc-item-num\">2&nbsp;&nbsp;</span>Исследование задачи</a></span></li><li><span><a href=\"#Борьба-с-дисбалансом\" data-toc-modified-id=\"Борьба-с-дисбалансом-3\"><span class=\"toc-item-num\">3&nbsp;&nbsp;</span>Борьба с дисбалансом</a></span></li><li><span><a href=\"#Тестирование-модели\" data-toc-modified-id=\"Тестирование-модели-4\"><span class=\"toc-item-num\">4&nbsp;&nbsp;</span>Тестирование модели</a></span></li><li><span><a href=\"#Чек-лист-готовности-проекта\" data-toc-modified-id=\"Чек-лист-готовности-проекта-5\"><span class=\"toc-item-num\">5&nbsp;&nbsp;</span>Чек-лист готовности проекта</a></span></li></ul></div>"
   ]
  },
  {
   "cell_type": "markdown",
   "metadata": {
    "id": "4ciWGk1J2Ht-",
    "pycharm": {
     "name": "#%% md\n"
    }
   },
   "source": [
    "# Отток клиентов"
   ]
  },
  {
   "cell_type": "markdown",
   "metadata": {
    "id": "IA8chNW02Ht-",
    "pycharm": {
     "name": "#%% md\n"
    }
   },
   "source": [
    "Из «Бета-Банка» стали уходить клиенты. Каждый месяц. Немного, но заметно. Банковские маркетологи посчитали: сохранять текущих клиентов дешевле, чем привлекать новых.\n",
    "\n",
    "Нужно спрогнозировать, уйдёт клиент из банка в ближайшее время или нет. Вам предоставлены исторические данные о поведении клиентов и расторжении договоров с банком.\n",
    "\n",
    "Постройте модель с предельно большим значением *F1*-меры. Чтобы сдать проект успешно, нужно довести метрику до 0.59. Проверьте *F1*-меру на тестовой выборке самостоятельно.\n",
    "\n",
    "Дополнительно измеряйте *AUC-ROC*, сравнивайте её значение с *F1*-мерой.\n",
    "\n",
    "Источник данных: [https://www.kaggle.com/barelydedicated/bank-customer-churn-modeling](https://www.kaggle.com/barelydedicated/bank-customer-churn-modeling)"
   ]
  },
  {
   "cell_type": "markdown",
   "metadata": {
    "id": "98GfT12p2Ht_",
    "pycharm": {
     "name": "#%% md\n"
    }
   },
   "source": [
    "## Подготовка данных"
   ]
  },
  {
   "cell_type": "code",
   "execution_count": null,
   "metadata": {
    "id": "3QvkyGbe2Ht_",
    "pycharm": {
     "name": "#%%\n"
    }
   },
   "outputs": [],
   "source": [
    "import math\n",
    "import pandas as pd\n",
    "import matplotlib.pyplot as plt\n",
    "from sklearn.model_selection import train_test_split\n",
    "from sklearn.preprocessing import StandardScaler\n",
    "from sklearn.utils import shuffle\n",
    "from sklearn.linear_model import LogisticRegression\n",
    "from sklearn.tree import DecisionTreeClassifier\n",
    "from sklearn.ensemble import RandomForestClassifier\n",
    "from sklearn.metrics import accuracy_score, f1_score, roc_curve, roc_auc_score\n",
    "from tqdm.notebook import trange"
   ]
  },
  {
   "cell_type": "code",
   "execution_count": null,
   "metadata": {
    "id": "Qh1MWZaA2HuB",
    "pycharm": {
     "name": "#%%\n"
    }
   },
   "outputs": [],
   "source": [
    "data_bank = pd.read_csv('/datasets/Churn.csv')"
   ]
  },
  {
   "cell_type": "markdown",
   "metadata": {
    "id": "R_HZBD4K2HuC",
    "pycharm": {
     "name": "#%% md\n"
    }
   },
   "source": [
    "**A. Знакомство с данными**"
   ]
  },
  {
   "cell_type": "code",
   "execution_count": null,
   "metadata": {
    "id": "Zzfn0LW92HuC",
    "outputId": "af56bd5f-ee2e-4a6a-a192-e719a56379e2",
    "pycharm": {
     "name": "#%%\n"
    }
   },
   "outputs": [
    {
     "data": {
      "text/html": [
       "<div>\n",
       "<style scoped>\n",
       "    .dataframe tbody tr th:only-of-type {\n",
       "        vertical-align: middle;\n",
       "    }\n",
       "\n",
       "    .dataframe tbody tr th {\n",
       "        vertical-align: top;\n",
       "    }\n",
       "\n",
       "    .dataframe thead th {\n",
       "        text-align: right;\n",
       "    }\n",
       "</style>\n",
       "<table border=\"1\" class=\"dataframe\">\n",
       "  <thead>\n",
       "    <tr style=\"text-align: right;\">\n",
       "      <th></th>\n",
       "      <th>RowNumber</th>\n",
       "      <th>CustomerId</th>\n",
       "      <th>Surname</th>\n",
       "      <th>CreditScore</th>\n",
       "      <th>Geography</th>\n",
       "      <th>Gender</th>\n",
       "      <th>Age</th>\n",
       "      <th>Tenure</th>\n",
       "      <th>Balance</th>\n",
       "      <th>NumOfProducts</th>\n",
       "      <th>HasCrCard</th>\n",
       "      <th>IsActiveMember</th>\n",
       "      <th>EstimatedSalary</th>\n",
       "      <th>Exited</th>\n",
       "    </tr>\n",
       "  </thead>\n",
       "  <tbody>\n",
       "    <tr>\n",
       "      <th>0</th>\n",
       "      <td>1</td>\n",
       "      <td>15634602</td>\n",
       "      <td>Hargrave</td>\n",
       "      <td>619</td>\n",
       "      <td>France</td>\n",
       "      <td>Female</td>\n",
       "      <td>42</td>\n",
       "      <td>2.0</td>\n",
       "      <td>0.00</td>\n",
       "      <td>1</td>\n",
       "      <td>1</td>\n",
       "      <td>1</td>\n",
       "      <td>101348.88</td>\n",
       "      <td>1</td>\n",
       "    </tr>\n",
       "    <tr>\n",
       "      <th>1</th>\n",
       "      <td>2</td>\n",
       "      <td>15647311</td>\n",
       "      <td>Hill</td>\n",
       "      <td>608</td>\n",
       "      <td>Spain</td>\n",
       "      <td>Female</td>\n",
       "      <td>41</td>\n",
       "      <td>1.0</td>\n",
       "      <td>83807.86</td>\n",
       "      <td>1</td>\n",
       "      <td>0</td>\n",
       "      <td>1</td>\n",
       "      <td>112542.58</td>\n",
       "      <td>0</td>\n",
       "    </tr>\n",
       "    <tr>\n",
       "      <th>2</th>\n",
       "      <td>3</td>\n",
       "      <td>15619304</td>\n",
       "      <td>Onio</td>\n",
       "      <td>502</td>\n",
       "      <td>France</td>\n",
       "      <td>Female</td>\n",
       "      <td>42</td>\n",
       "      <td>8.0</td>\n",
       "      <td>159660.80</td>\n",
       "      <td>3</td>\n",
       "      <td>1</td>\n",
       "      <td>0</td>\n",
       "      <td>113931.57</td>\n",
       "      <td>1</td>\n",
       "    </tr>\n",
       "    <tr>\n",
       "      <th>3</th>\n",
       "      <td>4</td>\n",
       "      <td>15701354</td>\n",
       "      <td>Boni</td>\n",
       "      <td>699</td>\n",
       "      <td>France</td>\n",
       "      <td>Female</td>\n",
       "      <td>39</td>\n",
       "      <td>1.0</td>\n",
       "      <td>0.00</td>\n",
       "      <td>2</td>\n",
       "      <td>0</td>\n",
       "      <td>0</td>\n",
       "      <td>93826.63</td>\n",
       "      <td>0</td>\n",
       "    </tr>\n",
       "    <tr>\n",
       "      <th>4</th>\n",
       "      <td>5</td>\n",
       "      <td>15737888</td>\n",
       "      <td>Mitchell</td>\n",
       "      <td>850</td>\n",
       "      <td>Spain</td>\n",
       "      <td>Female</td>\n",
       "      <td>43</td>\n",
       "      <td>2.0</td>\n",
       "      <td>125510.82</td>\n",
       "      <td>1</td>\n",
       "      <td>1</td>\n",
       "      <td>1</td>\n",
       "      <td>79084.10</td>\n",
       "      <td>0</td>\n",
       "    </tr>\n",
       "    <tr>\n",
       "      <th>5</th>\n",
       "      <td>6</td>\n",
       "      <td>15574012</td>\n",
       "      <td>Chu</td>\n",
       "      <td>645</td>\n",
       "      <td>Spain</td>\n",
       "      <td>Male</td>\n",
       "      <td>44</td>\n",
       "      <td>8.0</td>\n",
       "      <td>113755.78</td>\n",
       "      <td>2</td>\n",
       "      <td>1</td>\n",
       "      <td>0</td>\n",
       "      <td>149756.71</td>\n",
       "      <td>1</td>\n",
       "    </tr>\n",
       "    <tr>\n",
       "      <th>6</th>\n",
       "      <td>7</td>\n",
       "      <td>15592531</td>\n",
       "      <td>Bartlett</td>\n",
       "      <td>822</td>\n",
       "      <td>France</td>\n",
       "      <td>Male</td>\n",
       "      <td>50</td>\n",
       "      <td>7.0</td>\n",
       "      <td>0.00</td>\n",
       "      <td>2</td>\n",
       "      <td>1</td>\n",
       "      <td>1</td>\n",
       "      <td>10062.80</td>\n",
       "      <td>0</td>\n",
       "    </tr>\n",
       "    <tr>\n",
       "      <th>7</th>\n",
       "      <td>8</td>\n",
       "      <td>15656148</td>\n",
       "      <td>Obinna</td>\n",
       "      <td>376</td>\n",
       "      <td>Germany</td>\n",
       "      <td>Female</td>\n",
       "      <td>29</td>\n",
       "      <td>4.0</td>\n",
       "      <td>115046.74</td>\n",
       "      <td>4</td>\n",
       "      <td>1</td>\n",
       "      <td>0</td>\n",
       "      <td>119346.88</td>\n",
       "      <td>1</td>\n",
       "    </tr>\n",
       "    <tr>\n",
       "      <th>8</th>\n",
       "      <td>9</td>\n",
       "      <td>15792365</td>\n",
       "      <td>He</td>\n",
       "      <td>501</td>\n",
       "      <td>France</td>\n",
       "      <td>Male</td>\n",
       "      <td>44</td>\n",
       "      <td>4.0</td>\n",
       "      <td>142051.07</td>\n",
       "      <td>2</td>\n",
       "      <td>0</td>\n",
       "      <td>1</td>\n",
       "      <td>74940.50</td>\n",
       "      <td>0</td>\n",
       "    </tr>\n",
       "    <tr>\n",
       "      <th>9</th>\n",
       "      <td>10</td>\n",
       "      <td>15592389</td>\n",
       "      <td>H?</td>\n",
       "      <td>684</td>\n",
       "      <td>France</td>\n",
       "      <td>Male</td>\n",
       "      <td>27</td>\n",
       "      <td>2.0</td>\n",
       "      <td>134603.88</td>\n",
       "      <td>1</td>\n",
       "      <td>1</td>\n",
       "      <td>1</td>\n",
       "      <td>71725.73</td>\n",
       "      <td>0</td>\n",
       "    </tr>\n",
       "  </tbody>\n",
       "</table>\n",
       "</div>"
      ],
      "text/plain": [
       "   RowNumber  CustomerId   Surname  CreditScore Geography  Gender  Age  \\\n",
       "0          1    15634602  Hargrave          619    France  Female   42   \n",
       "1          2    15647311      Hill          608     Spain  Female   41   \n",
       "2          3    15619304      Onio          502    France  Female   42   \n",
       "3          4    15701354      Boni          699    France  Female   39   \n",
       "4          5    15737888  Mitchell          850     Spain  Female   43   \n",
       "5          6    15574012       Chu          645     Spain    Male   44   \n",
       "6          7    15592531  Bartlett          822    France    Male   50   \n",
       "7          8    15656148    Obinna          376   Germany  Female   29   \n",
       "8          9    15792365        He          501    France    Male   44   \n",
       "9         10    15592389        H?          684    France    Male   27   \n",
       "\n",
       "   Tenure    Balance  NumOfProducts  HasCrCard  IsActiveMember  \\\n",
       "0     2.0       0.00              1          1               1   \n",
       "1     1.0   83807.86              1          0               1   \n",
       "2     8.0  159660.80              3          1               0   \n",
       "3     1.0       0.00              2          0               0   \n",
       "4     2.0  125510.82              1          1               1   \n",
       "5     8.0  113755.78              2          1               0   \n",
       "6     7.0       0.00              2          1               1   \n",
       "7     4.0  115046.74              4          1               0   \n",
       "8     4.0  142051.07              2          0               1   \n",
       "9     2.0  134603.88              1          1               1   \n",
       "\n",
       "   EstimatedSalary  Exited  \n",
       "0        101348.88       1  \n",
       "1        112542.58       0  \n",
       "2        113931.57       1  \n",
       "3         93826.63       0  \n",
       "4         79084.10       0  \n",
       "5        149756.71       1  \n",
       "6         10062.80       0  \n",
       "7        119346.88       1  \n",
       "8         74940.50       0  \n",
       "9         71725.73       0  "
      ]
     },
     "execution_count": 3,
     "metadata": {},
     "output_type": "execute_result"
    }
   ],
   "source": [
    "data_bank.head(10)"
   ]
  },
  {
   "cell_type": "code",
   "execution_count": null,
   "metadata": {
    "id": "Bsl3vJKU2HuE",
    "outputId": "c81ebe52-adb0-4708-e81a-4673e4da6c42",
    "pycharm": {
     "name": "#%%\n"
    }
   },
   "outputs": [
    {
     "name": "stdout",
     "output_type": "stream",
     "text": [
      "<class 'pandas.core.frame.DataFrame'>\n",
      "RangeIndex: 10000 entries, 0 to 9999\n",
      "Data columns (total 14 columns):\n",
      " #   Column           Non-Null Count  Dtype  \n",
      "---  ------           --------------  -----  \n",
      " 0   RowNumber        10000 non-null  int64  \n",
      " 1   CustomerId       10000 non-null  int64  \n",
      " 2   Surname          10000 non-null  object \n",
      " 3   CreditScore      10000 non-null  int64  \n",
      " 4   Geography        10000 non-null  object \n",
      " 5   Gender           10000 non-null  object \n",
      " 6   Age              10000 non-null  int64  \n",
      " 7   Tenure           9091 non-null   float64\n",
      " 8   Balance          10000 non-null  float64\n",
      " 9   NumOfProducts    10000 non-null  int64  \n",
      " 10  HasCrCard        10000 non-null  int64  \n",
      " 11  IsActiveMember   10000 non-null  int64  \n",
      " 12  EstimatedSalary  10000 non-null  float64\n",
      " 13  Exited           10000 non-null  int64  \n",
      "dtypes: float64(3), int64(8), object(3)\n",
      "memory usage: 1.1+ MB\n"
     ]
    }
   ],
   "source": [
    "data_bank.info()"
   ]
  },
  {
   "cell_type": "code",
   "execution_count": null,
   "metadata": {
    "id": "_qxtGPNx2HuE",
    "outputId": "b38ce6f5-911c-4e61-b24e-2f94009eac17",
    "pycharm": {
     "name": "#%%\n"
    }
   },
   "outputs": [
    {
     "data": {
      "text/plain": [
       "RowNumber            0\n",
       "CustomerId           0\n",
       "Surname              0\n",
       "CreditScore          0\n",
       "Geography            0\n",
       "Gender               0\n",
       "Age                  0\n",
       "Tenure             909\n",
       "Balance              0\n",
       "NumOfProducts        0\n",
       "HasCrCard            0\n",
       "IsActiveMember       0\n",
       "EstimatedSalary      0\n",
       "Exited               0\n",
       "dtype: int64"
      ]
     },
     "execution_count": 5,
     "metadata": {},
     "output_type": "execute_result"
    }
   ],
   "source": [
    "data_bank.isna().sum()"
   ]
  },
  {
   "cell_type": "code",
   "execution_count": null,
   "metadata": {
    "id": "6o8i6a6d2HuF",
    "outputId": "6818bb47-b746-4b51-e9b4-2310ab544bc3",
    "pycharm": {
     "name": "#%%\n"
    }
   },
   "outputs": [
    {
     "data": {
      "text/html": [
       "<style  type=\"text/css\" >\n",
       "#T_c22fe_row0_col3,#T_c22fe_row0_col7,#T_c22fe_row2_col3,#T_c22fe_row2_col7,#T_c22fe_row3_col3,#T_c22fe_row3_col7{\n",
       "            background-color:  #000000;\n",
       "            color:  #f1f1f1;\n",
       "        }#T_c22fe_row1_col3{\n",
       "            background-color:  #182a7a;\n",
       "            color:  #f1f1f1;\n",
       "        }#T_c22fe_row1_col7{\n",
       "            background-color:  #172978;\n",
       "            color:  #f1f1f1;\n",
       "        }#T_c22fe_row4_col3{\n",
       "            background-color:  #f7fcc7;\n",
       "            color:  #000000;\n",
       "        }#T_c22fe_row4_col7{\n",
       "            background-color:  #f8fcc9;\n",
       "            color:  #000000;\n",
       "        }#T_c22fe_row5_col3,#T_c22fe_row5_col7{\n",
       "            background-color:  #feffd8;\n",
       "            color:  #000000;\n",
       "        }#T_c22fe_row6_col3,#T_c22fe_row6_col7,#T_c22fe_row10_col3,#T_c22fe_row10_col7{\n",
       "            background-color:  #081d58;\n",
       "            color:  #f1f1f1;\n",
       "        }#T_c22fe_row7_col3,#T_c22fe_row7_col7,#T_c22fe_row8_col3,#T_c22fe_row8_col7,#T_c22fe_row9_col3,#T_c22fe_row9_col7,#T_c22fe_row11_col3,#T_c22fe_row11_col7{\n",
       "            background-color:  #ffffd9;\n",
       "            color:  #000000;\n",
       "        }</style><table id=\"T_c22fe_\" ><thead>    <tr>        <th class=\"blank level0\" ></th>        <th class=\"col_heading level0 col0\" >unique</th>        <th class=\"col_heading level0 col1\" >top</th>        <th class=\"col_heading level0 col2\" >freq</th>        <th class=\"col_heading level0 col3\" >mean</th>        <th class=\"col_heading level0 col4\" >std</th>        <th class=\"col_heading level0 col5\" >min</th>        <th class=\"col_heading level0 col6\" >25%</th>        <th class=\"col_heading level0 col7\" >50%</th>        <th class=\"col_heading level0 col8\" >75%</th>        <th class=\"col_heading level0 col9\" >max</th>    </tr></thead><tbody>\n",
       "                <tr>\n",
       "                        <th id=\"T_c22fe_level0_row0\" class=\"row_heading level0 row0\" >Surname</th>\n",
       "                        <td id=\"T_c22fe_row0_col0\" class=\"data row0 col0\" >2932</td>\n",
       "                        <td id=\"T_c22fe_row0_col1\" class=\"data row0 col1\" >Smith</td>\n",
       "                        <td id=\"T_c22fe_row0_col2\" class=\"data row0 col2\" >32</td>\n",
       "                        <td id=\"T_c22fe_row0_col3\" class=\"data row0 col3\" >nan</td>\n",
       "                        <td id=\"T_c22fe_row0_col4\" class=\"data row0 col4\" >nan</td>\n",
       "                        <td id=\"T_c22fe_row0_col5\" class=\"data row0 col5\" >nan</td>\n",
       "                        <td id=\"T_c22fe_row0_col6\" class=\"data row0 col6\" >nan</td>\n",
       "                        <td id=\"T_c22fe_row0_col7\" class=\"data row0 col7\" >nan</td>\n",
       "                        <td id=\"T_c22fe_row0_col8\" class=\"data row0 col8\" >nan</td>\n",
       "                        <td id=\"T_c22fe_row0_col9\" class=\"data row0 col9\" >nan</td>\n",
       "            </tr>\n",
       "            <tr>\n",
       "                        <th id=\"T_c22fe_level0_row1\" class=\"row_heading level0 row1\" >CreditScore</th>\n",
       "                        <td id=\"T_c22fe_row1_col0\" class=\"data row1 col0\" >nan</td>\n",
       "                        <td id=\"T_c22fe_row1_col1\" class=\"data row1 col1\" >nan</td>\n",
       "                        <td id=\"T_c22fe_row1_col2\" class=\"data row1 col2\" >nan</td>\n",
       "                        <td id=\"T_c22fe_row1_col3\" class=\"data row1 col3\" >650.528800</td>\n",
       "                        <td id=\"T_c22fe_row1_col4\" class=\"data row1 col4\" >96.653299</td>\n",
       "                        <td id=\"T_c22fe_row1_col5\" class=\"data row1 col5\" >350.000000</td>\n",
       "                        <td id=\"T_c22fe_row1_col6\" class=\"data row1 col6\" >584.000000</td>\n",
       "                        <td id=\"T_c22fe_row1_col7\" class=\"data row1 col7\" >652.000000</td>\n",
       "                        <td id=\"T_c22fe_row1_col8\" class=\"data row1 col8\" >718.000000</td>\n",
       "                        <td id=\"T_c22fe_row1_col9\" class=\"data row1 col9\" >850.000000</td>\n",
       "            </tr>\n",
       "            <tr>\n",
       "                        <th id=\"T_c22fe_level0_row2\" class=\"row_heading level0 row2\" >Geography</th>\n",
       "                        <td id=\"T_c22fe_row2_col0\" class=\"data row2 col0\" >3</td>\n",
       "                        <td id=\"T_c22fe_row2_col1\" class=\"data row2 col1\" >France</td>\n",
       "                        <td id=\"T_c22fe_row2_col2\" class=\"data row2 col2\" >5014</td>\n",
       "                        <td id=\"T_c22fe_row2_col3\" class=\"data row2 col3\" >nan</td>\n",
       "                        <td id=\"T_c22fe_row2_col4\" class=\"data row2 col4\" >nan</td>\n",
       "                        <td id=\"T_c22fe_row2_col5\" class=\"data row2 col5\" >nan</td>\n",
       "                        <td id=\"T_c22fe_row2_col6\" class=\"data row2 col6\" >nan</td>\n",
       "                        <td id=\"T_c22fe_row2_col7\" class=\"data row2 col7\" >nan</td>\n",
       "                        <td id=\"T_c22fe_row2_col8\" class=\"data row2 col8\" >nan</td>\n",
       "                        <td id=\"T_c22fe_row2_col9\" class=\"data row2 col9\" >nan</td>\n",
       "            </tr>\n",
       "            <tr>\n",
       "                        <th id=\"T_c22fe_level0_row3\" class=\"row_heading level0 row3\" >Gender</th>\n",
       "                        <td id=\"T_c22fe_row3_col0\" class=\"data row3 col0\" >2</td>\n",
       "                        <td id=\"T_c22fe_row3_col1\" class=\"data row3 col1\" >Male</td>\n",
       "                        <td id=\"T_c22fe_row3_col2\" class=\"data row3 col2\" >5457</td>\n",
       "                        <td id=\"T_c22fe_row3_col3\" class=\"data row3 col3\" >nan</td>\n",
       "                        <td id=\"T_c22fe_row3_col4\" class=\"data row3 col4\" >nan</td>\n",
       "                        <td id=\"T_c22fe_row3_col5\" class=\"data row3 col5\" >nan</td>\n",
       "                        <td id=\"T_c22fe_row3_col6\" class=\"data row3 col6\" >nan</td>\n",
       "                        <td id=\"T_c22fe_row3_col7\" class=\"data row3 col7\" >nan</td>\n",
       "                        <td id=\"T_c22fe_row3_col8\" class=\"data row3 col8\" >nan</td>\n",
       "                        <td id=\"T_c22fe_row3_col9\" class=\"data row3 col9\" >nan</td>\n",
       "            </tr>\n",
       "            <tr>\n",
       "                        <th id=\"T_c22fe_level0_row4\" class=\"row_heading level0 row4\" >Age</th>\n",
       "                        <td id=\"T_c22fe_row4_col0\" class=\"data row4 col0\" >nan</td>\n",
       "                        <td id=\"T_c22fe_row4_col1\" class=\"data row4 col1\" >nan</td>\n",
       "                        <td id=\"T_c22fe_row4_col2\" class=\"data row4 col2\" >nan</td>\n",
       "                        <td id=\"T_c22fe_row4_col3\" class=\"data row4 col3\" >38.921800</td>\n",
       "                        <td id=\"T_c22fe_row4_col4\" class=\"data row4 col4\" >10.487806</td>\n",
       "                        <td id=\"T_c22fe_row4_col5\" class=\"data row4 col5\" >18.000000</td>\n",
       "                        <td id=\"T_c22fe_row4_col6\" class=\"data row4 col6\" >32.000000</td>\n",
       "                        <td id=\"T_c22fe_row4_col7\" class=\"data row4 col7\" >37.000000</td>\n",
       "                        <td id=\"T_c22fe_row4_col8\" class=\"data row4 col8\" >44.000000</td>\n",
       "                        <td id=\"T_c22fe_row4_col9\" class=\"data row4 col9\" >92.000000</td>\n",
       "            </tr>\n",
       "            <tr>\n",
       "                        <th id=\"T_c22fe_level0_row5\" class=\"row_heading level0 row5\" >Tenure</th>\n",
       "                        <td id=\"T_c22fe_row5_col0\" class=\"data row5 col0\" >nan</td>\n",
       "                        <td id=\"T_c22fe_row5_col1\" class=\"data row5 col1\" >nan</td>\n",
       "                        <td id=\"T_c22fe_row5_col2\" class=\"data row5 col2\" >nan</td>\n",
       "                        <td id=\"T_c22fe_row5_col3\" class=\"data row5 col3\" >4.997690</td>\n",
       "                        <td id=\"T_c22fe_row5_col4\" class=\"data row5 col4\" >2.894723</td>\n",
       "                        <td id=\"T_c22fe_row5_col5\" class=\"data row5 col5\" >0.000000</td>\n",
       "                        <td id=\"T_c22fe_row5_col6\" class=\"data row5 col6\" >2.000000</td>\n",
       "                        <td id=\"T_c22fe_row5_col7\" class=\"data row5 col7\" >5.000000</td>\n",
       "                        <td id=\"T_c22fe_row5_col8\" class=\"data row5 col8\" >7.000000</td>\n",
       "                        <td id=\"T_c22fe_row5_col9\" class=\"data row5 col9\" >10.000000</td>\n",
       "            </tr>\n",
       "            <tr>\n",
       "                        <th id=\"T_c22fe_level0_row6\" class=\"row_heading level0 row6\" >Balance</th>\n",
       "                        <td id=\"T_c22fe_row6_col0\" class=\"data row6 col0\" >nan</td>\n",
       "                        <td id=\"T_c22fe_row6_col1\" class=\"data row6 col1\" >nan</td>\n",
       "                        <td id=\"T_c22fe_row6_col2\" class=\"data row6 col2\" >nan</td>\n",
       "                        <td id=\"T_c22fe_row6_col3\" class=\"data row6 col3\" >76485.889288</td>\n",
       "                        <td id=\"T_c22fe_row6_col4\" class=\"data row6 col4\" >62397.405202</td>\n",
       "                        <td id=\"T_c22fe_row6_col5\" class=\"data row6 col5\" >0.000000</td>\n",
       "                        <td id=\"T_c22fe_row6_col6\" class=\"data row6 col6\" >0.000000</td>\n",
       "                        <td id=\"T_c22fe_row6_col7\" class=\"data row6 col7\" >97198.540000</td>\n",
       "                        <td id=\"T_c22fe_row6_col8\" class=\"data row6 col8\" >127644.240000</td>\n",
       "                        <td id=\"T_c22fe_row6_col9\" class=\"data row6 col9\" >250898.090000</td>\n",
       "            </tr>\n",
       "            <tr>\n",
       "                        <th id=\"T_c22fe_level0_row7\" class=\"row_heading level0 row7\" >NumOfProducts</th>\n",
       "                        <td id=\"T_c22fe_row7_col0\" class=\"data row7 col0\" >nan</td>\n",
       "                        <td id=\"T_c22fe_row7_col1\" class=\"data row7 col1\" >nan</td>\n",
       "                        <td id=\"T_c22fe_row7_col2\" class=\"data row7 col2\" >nan</td>\n",
       "                        <td id=\"T_c22fe_row7_col3\" class=\"data row7 col3\" >1.530200</td>\n",
       "                        <td id=\"T_c22fe_row7_col4\" class=\"data row7 col4\" >0.581654</td>\n",
       "                        <td id=\"T_c22fe_row7_col5\" class=\"data row7 col5\" >1.000000</td>\n",
       "                        <td id=\"T_c22fe_row7_col6\" class=\"data row7 col6\" >1.000000</td>\n",
       "                        <td id=\"T_c22fe_row7_col7\" class=\"data row7 col7\" >1.000000</td>\n",
       "                        <td id=\"T_c22fe_row7_col8\" class=\"data row7 col8\" >2.000000</td>\n",
       "                        <td id=\"T_c22fe_row7_col9\" class=\"data row7 col9\" >4.000000</td>\n",
       "            </tr>\n",
       "            <tr>\n",
       "                        <th id=\"T_c22fe_level0_row8\" class=\"row_heading level0 row8\" >HasCrCard</th>\n",
       "                        <td id=\"T_c22fe_row8_col0\" class=\"data row8 col0\" >nan</td>\n",
       "                        <td id=\"T_c22fe_row8_col1\" class=\"data row8 col1\" >nan</td>\n",
       "                        <td id=\"T_c22fe_row8_col2\" class=\"data row8 col2\" >nan</td>\n",
       "                        <td id=\"T_c22fe_row8_col3\" class=\"data row8 col3\" >0.705500</td>\n",
       "                        <td id=\"T_c22fe_row8_col4\" class=\"data row8 col4\" >0.455840</td>\n",
       "                        <td id=\"T_c22fe_row8_col5\" class=\"data row8 col5\" >0.000000</td>\n",
       "                        <td id=\"T_c22fe_row8_col6\" class=\"data row8 col6\" >0.000000</td>\n",
       "                        <td id=\"T_c22fe_row8_col7\" class=\"data row8 col7\" >1.000000</td>\n",
       "                        <td id=\"T_c22fe_row8_col8\" class=\"data row8 col8\" >1.000000</td>\n",
       "                        <td id=\"T_c22fe_row8_col9\" class=\"data row8 col9\" >1.000000</td>\n",
       "            </tr>\n",
       "            <tr>\n",
       "                        <th id=\"T_c22fe_level0_row9\" class=\"row_heading level0 row9\" >IsActiveMember</th>\n",
       "                        <td id=\"T_c22fe_row9_col0\" class=\"data row9 col0\" >nan</td>\n",
       "                        <td id=\"T_c22fe_row9_col1\" class=\"data row9 col1\" >nan</td>\n",
       "                        <td id=\"T_c22fe_row9_col2\" class=\"data row9 col2\" >nan</td>\n",
       "                        <td id=\"T_c22fe_row9_col3\" class=\"data row9 col3\" >0.515100</td>\n",
       "                        <td id=\"T_c22fe_row9_col4\" class=\"data row9 col4\" >0.499797</td>\n",
       "                        <td id=\"T_c22fe_row9_col5\" class=\"data row9 col5\" >0.000000</td>\n",
       "                        <td id=\"T_c22fe_row9_col6\" class=\"data row9 col6\" >0.000000</td>\n",
       "                        <td id=\"T_c22fe_row9_col7\" class=\"data row9 col7\" >1.000000</td>\n",
       "                        <td id=\"T_c22fe_row9_col8\" class=\"data row9 col8\" >1.000000</td>\n",
       "                        <td id=\"T_c22fe_row9_col9\" class=\"data row9 col9\" >1.000000</td>\n",
       "            </tr>\n",
       "            <tr>\n",
       "                        <th id=\"T_c22fe_level0_row10\" class=\"row_heading level0 row10\" >EstimatedSalary</th>\n",
       "                        <td id=\"T_c22fe_row10_col0\" class=\"data row10 col0\" >nan</td>\n",
       "                        <td id=\"T_c22fe_row10_col1\" class=\"data row10 col1\" >nan</td>\n",
       "                        <td id=\"T_c22fe_row10_col2\" class=\"data row10 col2\" >nan</td>\n",
       "                        <td id=\"T_c22fe_row10_col3\" class=\"data row10 col3\" >100090.239881</td>\n",
       "                        <td id=\"T_c22fe_row10_col4\" class=\"data row10 col4\" >57510.492818</td>\n",
       "                        <td id=\"T_c22fe_row10_col5\" class=\"data row10 col5\" >11.580000</td>\n",
       "                        <td id=\"T_c22fe_row10_col6\" class=\"data row10 col6\" >51002.110000</td>\n",
       "                        <td id=\"T_c22fe_row10_col7\" class=\"data row10 col7\" >100193.915000</td>\n",
       "                        <td id=\"T_c22fe_row10_col8\" class=\"data row10 col8\" >149388.247500</td>\n",
       "                        <td id=\"T_c22fe_row10_col9\" class=\"data row10 col9\" >199992.480000</td>\n",
       "            </tr>\n",
       "            <tr>\n",
       "                        <th id=\"T_c22fe_level0_row11\" class=\"row_heading level0 row11\" >Exited</th>\n",
       "                        <td id=\"T_c22fe_row11_col0\" class=\"data row11 col0\" >nan</td>\n",
       "                        <td id=\"T_c22fe_row11_col1\" class=\"data row11 col1\" >nan</td>\n",
       "                        <td id=\"T_c22fe_row11_col2\" class=\"data row11 col2\" >nan</td>\n",
       "                        <td id=\"T_c22fe_row11_col3\" class=\"data row11 col3\" >0.203700</td>\n",
       "                        <td id=\"T_c22fe_row11_col4\" class=\"data row11 col4\" >0.402769</td>\n",
       "                        <td id=\"T_c22fe_row11_col5\" class=\"data row11 col5\" >0.000000</td>\n",
       "                        <td id=\"T_c22fe_row11_col6\" class=\"data row11 col6\" >0.000000</td>\n",
       "                        <td id=\"T_c22fe_row11_col7\" class=\"data row11 col7\" >0.000000</td>\n",
       "                        <td id=\"T_c22fe_row11_col8\" class=\"data row11 col8\" >0.000000</td>\n",
       "                        <td id=\"T_c22fe_row11_col9\" class=\"data row11 col9\" >1.000000</td>\n",
       "            </tr>\n",
       "    </tbody></table>"
      ],
      "text/plain": [
       "<pandas.io.formats.style.Styler at 0x7f0717e5a0d0>"
      ]
     },
     "execution_count": 7,
     "metadata": {},
     "output_type": "execute_result"
    }
   ],
   "source": [
    "data_bank.describe(include='all').T.drop(\n",
    "    index=['RowNumber', 'CustomerId'], columns='count'\n",
    ").style.background_gradient(subset=[\"mean\", \"50%\"],\n",
    "                            vmin=0,\n",
    "                            vmax=700,\n",
    "                            cmap=\"YlGnBu\")"
   ]
  },
  {
   "cell_type": "code",
   "execution_count": null,
   "metadata": {
    "id": "NERZxmi22HuG",
    "outputId": "e5457ee1-ea8a-466a-be76-dd8f2dbd1f2e",
    "pycharm": {
     "name": "#%%\n"
    }
   },
   "outputs": [
    {
     "data": {
      "text/plain": [
       "CreditScore       -0.027094\n",
       "Age                0.285323\n",
       "Tenure            -0.016761\n",
       "Balance            0.118533\n",
       "NumOfProducts     -0.047820\n",
       "HasCrCard         -0.007138\n",
       "IsActiveMember    -0.156128\n",
       "EstimatedSalary    0.012097\n",
       "Exited             1.000000\n",
       "Name: Exited, dtype: float64"
      ]
     },
     "execution_count": 8,
     "metadata": {},
     "output_type": "execute_result"
    }
   ],
   "source": [
    "data_bank.drop(columns=[\n",
    "    'RowNumber', 'CustomerId'\n",
    "    ]).corr()['Exited']"
   ]
  },
  {
   "cell_type": "code",
   "execution_count": null,
   "metadata": {
    "id": "N98y-qcK2HuG",
    "outputId": "207255cb-1fe3-451a-f48c-ee7c9aa11666",
    "pycharm": {
     "name": "#%%\n"
    }
   },
   "outputs": [
    {
     "data": {
      "image/png": "[encoded data removed]",
      "text/plain": [
       "<Figure size 720x720 with 9 Axes>"
      ]
     },
     "metadata": {
      "needs_background": "light"
     },
     "output_type": "display_data"
    }
   ],
   "source": [
    "data_bank.drop(columns=['RowNumber', 'CustomerId']).hist(figsize=(10, 10))\n",
    "\n",
    "plt.show()"
   ]
  },
  {
   "cell_type": "code",
   "execution_count": null,
   "metadata": {
    "id": "F03qx9ic2HuH",
    "outputId": "1645272d-6d6e-44e9-aa9d-5fcb7377264e",
    "pycharm": {
     "name": "#%%\n"
    }
   },
   "outputs": [
    {
     "data": {
      "image/png": "[encoded data removed]",
      "text/plain": [
       "<Figure size 1080x1080 with 64 Axes>"
      ]
     },
     "metadata": {
      "needs_background": "light"
     },
     "output_type": "display_data"
    }
   ],
   "source": [
    "pd.plotting.scatter_matrix(data_bank.drop(columns=['RowNumber', 'CustomerId', 'EstimatedSalary']),\n",
    "                           figsize=(15, 15),\n",
    "                           diagonal='kde',\n",
    "                           color='xkcd:scarlet',\n",
    "                           alpha=0.07)\n",
    "plt.show()"
   ]
  },
  {
   "cell_type": "markdown",
   "metadata": {
    "id": "HkPbQh7f2HuH",
    "pycharm": {
     "name": "#%% md\n"
    }
   },
   "source": [
    "**_Вывод:_**\n",
    "1. Признак `Tenure` имеет пропуски, **заполню их**.\n",
    "2. Признаки `RowNumber`,`CustomerId`,`Surname` **удалю**,так как они совершенно не информативны и только замедлят обучение.\n",
    "3. Признаки `Geography`,`Gender` категориальные, а логистическая регрессия работает только с количественными, исправим это примерив **прямое кодирование (или OHE)**.\n",
    "4. Признаки `CreditScore`, `Age`, `Tenure`, `Balance` имеют разный масштаб, применим **стандартизация данных**.\n",
    "5. Целевой признак `Exited` не сбалансирован, это видно по средней (да и на гистограмме), совершили уход только 20,3700% объектов, этот дисбаланс надо исправить. **Применю upsampling или downsampling**, что выбрать выберу эмпирически, что покажет наилучший результат."
   ]
  },
  {
   "cell_type": "markdown",
   "metadata": {
    "id": "D7ZiILZg2HuH",
    "pycharm": {
     "name": "#%% md\n"
    }
   },
   "source": [
    "**Б. Заполню пропуски в `Tenure` и удалим столбцы `RowNumber`,`CustomerId`,`Surname`**"
   ]
  },
  {
   "cell_type": "markdown",
   "metadata": {
    "id": "x59LoGw82HuI",
    "pycharm": {
     "name": "#%% md\n"
    }
   },
   "source": [
    "Посмотрим, можно ли востановить пропуски по другим ячейкам"
   ]
  },
  {
   "cell_type": "code",
   "execution_count": null,
   "metadata": {
    "id": "Hp_EULRT2HuI",
    "outputId": "5baf6ac3-9f13-4793-a645-6100d7500d1f",
    "pycharm": {
     "name": "#%%\n"
    }
   },
   "outputs": [
    {
     "data": {
      "text/html": [
       "<div>\n",
       "<style scoped>\n",
       "    .dataframe tbody tr th:only-of-type {\n",
       "        vertical-align: middle;\n",
       "    }\n",
       "\n",
       "    .dataframe tbody tr th {\n",
       "        vertical-align: top;\n",
       "    }\n",
       "\n",
       "    .dataframe thead th {\n",
       "        text-align: right;\n",
       "    }\n",
       "</style>\n",
       "<table border=\"1\" class=\"dataframe\">\n",
       "  <thead>\n",
       "    <tr style=\"text-align: right;\">\n",
       "      <th></th>\n",
       "      <th>RowNumber</th>\n",
       "      <th>CustomerId</th>\n",
       "      <th>Surname</th>\n",
       "      <th>CreditScore</th>\n",
       "      <th>Geography</th>\n",
       "      <th>Gender</th>\n",
       "      <th>Age</th>\n",
       "      <th>Tenure</th>\n",
       "      <th>Balance</th>\n",
       "      <th>NumOfProducts</th>\n",
       "      <th>HasCrCard</th>\n",
       "      <th>IsActiveMember</th>\n",
       "      <th>EstimatedSalary</th>\n",
       "      <th>Exited</th>\n",
       "    </tr>\n",
       "  </thead>\n",
       "  <tbody>\n",
       "    <tr>\n",
       "      <th>30</th>\n",
       "      <td>31</td>\n",
       "      <td>15589475</td>\n",
       "      <td>Azikiwe</td>\n",
       "      <td>591</td>\n",
       "      <td>Spain</td>\n",
       "      <td>Female</td>\n",
       "      <td>39</td>\n",
       "      <td>NaN</td>\n",
       "      <td>0.00</td>\n",
       "      <td>3</td>\n",
       "      <td>1</td>\n",
       "      <td>0</td>\n",
       "      <td>140469.38</td>\n",
       "      <td>1</td>\n",
       "    </tr>\n",
       "    <tr>\n",
       "      <th>48</th>\n",
       "      <td>49</td>\n",
       "      <td>15766205</td>\n",
       "      <td>Yin</td>\n",
       "      <td>550</td>\n",
       "      <td>Germany</td>\n",
       "      <td>Male</td>\n",
       "      <td>38</td>\n",
       "      <td>NaN</td>\n",
       "      <td>103391.38</td>\n",
       "      <td>1</td>\n",
       "      <td>0</td>\n",
       "      <td>1</td>\n",
       "      <td>90878.13</td>\n",
       "      <td>0</td>\n",
       "    </tr>\n",
       "    <tr>\n",
       "      <th>51</th>\n",
       "      <td>52</td>\n",
       "      <td>15768193</td>\n",
       "      <td>Trevisani</td>\n",
       "      <td>585</td>\n",
       "      <td>Germany</td>\n",
       "      <td>Male</td>\n",
       "      <td>36</td>\n",
       "      <td>NaN</td>\n",
       "      <td>146050.97</td>\n",
       "      <td>2</td>\n",
       "      <td>0</td>\n",
       "      <td>0</td>\n",
       "      <td>86424.57</td>\n",
       "      <td>0</td>\n",
       "    </tr>\n",
       "    <tr>\n",
       "      <th>53</th>\n",
       "      <td>54</td>\n",
       "      <td>15702298</td>\n",
       "      <td>Parkhill</td>\n",
       "      <td>655</td>\n",
       "      <td>Germany</td>\n",
       "      <td>Male</td>\n",
       "      <td>41</td>\n",
       "      <td>NaN</td>\n",
       "      <td>125561.97</td>\n",
       "      <td>1</td>\n",
       "      <td>0</td>\n",
       "      <td>0</td>\n",
       "      <td>164040.94</td>\n",
       "      <td>1</td>\n",
       "    </tr>\n",
       "    <tr>\n",
       "      <th>60</th>\n",
       "      <td>61</td>\n",
       "      <td>15651280</td>\n",
       "      <td>Hunter</td>\n",
       "      <td>742</td>\n",
       "      <td>Germany</td>\n",
       "      <td>Male</td>\n",
       "      <td>35</td>\n",
       "      <td>NaN</td>\n",
       "      <td>136857.00</td>\n",
       "      <td>1</td>\n",
       "      <td>0</td>\n",
       "      <td>0</td>\n",
       "      <td>84509.57</td>\n",
       "      <td>0</td>\n",
       "    </tr>\n",
       "    <tr>\n",
       "      <th>82</th>\n",
       "      <td>83</td>\n",
       "      <td>15641732</td>\n",
       "      <td>Mills</td>\n",
       "      <td>543</td>\n",
       "      <td>France</td>\n",
       "      <td>Female</td>\n",
       "      <td>36</td>\n",
       "      <td>NaN</td>\n",
       "      <td>0.00</td>\n",
       "      <td>2</td>\n",
       "      <td>0</td>\n",
       "      <td>0</td>\n",
       "      <td>26019.59</td>\n",
       "      <td>0</td>\n",
       "    </tr>\n",
       "    <tr>\n",
       "      <th>85</th>\n",
       "      <td>86</td>\n",
       "      <td>15805254</td>\n",
       "      <td>Ndukaku</td>\n",
       "      <td>652</td>\n",
       "      <td>Spain</td>\n",
       "      <td>Female</td>\n",
       "      <td>75</td>\n",
       "      <td>NaN</td>\n",
       "      <td>0.00</td>\n",
       "      <td>2</td>\n",
       "      <td>1</td>\n",
       "      <td>1</td>\n",
       "      <td>114675.75</td>\n",
       "      <td>0</td>\n",
       "    </tr>\n",
       "    <tr>\n",
       "      <th>94</th>\n",
       "      <td>95</td>\n",
       "      <td>15676966</td>\n",
       "      <td>Capon</td>\n",
       "      <td>730</td>\n",
       "      <td>Spain</td>\n",
       "      <td>Male</td>\n",
       "      <td>42</td>\n",
       "      <td>NaN</td>\n",
       "      <td>0.00</td>\n",
       "      <td>2</td>\n",
       "      <td>0</td>\n",
       "      <td>1</td>\n",
       "      <td>85982.47</td>\n",
       "      <td>0</td>\n",
       "    </tr>\n",
       "    <tr>\n",
       "      <th>99</th>\n",
       "      <td>100</td>\n",
       "      <td>15633059</td>\n",
       "      <td>Fanucci</td>\n",
       "      <td>413</td>\n",
       "      <td>France</td>\n",
       "      <td>Male</td>\n",
       "      <td>34</td>\n",
       "      <td>NaN</td>\n",
       "      <td>0.00</td>\n",
       "      <td>2</td>\n",
       "      <td>0</td>\n",
       "      <td>0</td>\n",
       "      <td>6534.18</td>\n",
       "      <td>0</td>\n",
       "    </tr>\n",
       "    <tr>\n",
       "      <th>111</th>\n",
       "      <td>112</td>\n",
       "      <td>15665790</td>\n",
       "      <td>Rowntree</td>\n",
       "      <td>538</td>\n",
       "      <td>Germany</td>\n",
       "      <td>Male</td>\n",
       "      <td>39</td>\n",
       "      <td>NaN</td>\n",
       "      <td>108055.10</td>\n",
       "      <td>2</td>\n",
       "      <td>1</td>\n",
       "      <td>0</td>\n",
       "      <td>27231.26</td>\n",
       "      <td>0</td>\n",
       "    </tr>\n",
       "  </tbody>\n",
       "</table>\n",
       "</div>"
      ],
      "text/plain": [
       "     RowNumber  CustomerId    Surname  CreditScore Geography  Gender  Age  \\\n",
       "30          31    15589475    Azikiwe          591     Spain  Female   39   \n",
       "48          49    15766205        Yin          550   Germany    Male   38   \n",
       "51          52    15768193  Trevisani          585   Germany    Male   36   \n",
       "53          54    15702298   Parkhill          655   Germany    Male   41   \n",
       "60          61    15651280     Hunter          742   Germany    Male   35   \n",
       "82          83    15641732      Mills          543    France  Female   36   \n",
       "85          86    15805254    Ndukaku          652     Spain  Female   75   \n",
       "94          95    15676966      Capon          730     Spain    Male   42   \n",
       "99         100    15633059    Fanucci          413    France    Male   34   \n",
       "111        112    15665790   Rowntree          538   Germany    Male   39   \n",
       "\n",
       "     Tenure    Balance  NumOfProducts  HasCrCard  IsActiveMember  \\\n",
       "30      NaN       0.00              3          1               0   \n",
       "48      NaN  103391.38              1          0               1   \n",
       "51      NaN  146050.97              2          0               0   \n",
       "53      NaN  125561.97              1          0               0   \n",
       "60      NaN  136857.00              1          0               0   \n",
       "82      NaN       0.00              2          0               0   \n",
       "85      NaN       0.00              2          1               1   \n",
       "94      NaN       0.00              2          0               1   \n",
       "99      NaN       0.00              2          0               0   \n",
       "111     NaN  108055.10              2          1               0   \n",
       "\n",
       "     EstimatedSalary  Exited  \n",
       "30         140469.38       1  \n",
       "48          90878.13       0  \n",
       "51          86424.57       0  \n",
       "53         164040.94       1  \n",
       "60          84509.57       0  \n",
       "82          26019.59       0  \n",
       "85         114675.75       0  \n",
       "94          85982.47       0  \n",
       "99           6534.18       0  \n",
       "111         27231.26       0  "
      ]
     },
     "execution_count": 11,
     "metadata": {},
     "output_type": "execute_result"
    }
   ],
   "source": [
    "data_bank.query('Tenure.isna()').head(10)"
   ]
  },
  {
   "cell_type": "code",
   "execution_count": null,
   "metadata": {
    "id": "wVW71YLY2HuI",
    "outputId": "94a07d08-92f9-41c7-84d5-caaab4e51af8",
    "pycharm": {
     "name": "#%%\n"
    }
   },
   "outputs": [
    {
     "data": {
      "text/html": [
       "<div>\n",
       "<style scoped>\n",
       "    .dataframe tbody tr th:only-of-type {\n",
       "        vertical-align: middle;\n",
       "    }\n",
       "\n",
       "    .dataframe tbody tr th {\n",
       "        vertical-align: top;\n",
       "    }\n",
       "\n",
       "    .dataframe thead th {\n",
       "        text-align: right;\n",
       "    }\n",
       "</style>\n",
       "<table border=\"1\" class=\"dataframe\">\n",
       "  <thead>\n",
       "    <tr style=\"text-align: right;\">\n",
       "      <th></th>\n",
       "      <th>RowNumber</th>\n",
       "      <th>CustomerId</th>\n",
       "      <th>CreditScore</th>\n",
       "      <th>Age</th>\n",
       "      <th>Tenure</th>\n",
       "      <th>Balance</th>\n",
       "      <th>NumOfProducts</th>\n",
       "      <th>HasCrCard</th>\n",
       "      <th>IsActiveMember</th>\n",
       "      <th>EstimatedSalary</th>\n",
       "      <th>Exited</th>\n",
       "    </tr>\n",
       "  </thead>\n",
       "  <tbody>\n",
       "    <tr>\n",
       "      <th>count</th>\n",
       "      <td>909.000000</td>\n",
       "      <td>9.090000e+02</td>\n",
       "      <td>909.000000</td>\n",
       "      <td>909.000000</td>\n",
       "      <td>0.0</td>\n",
       "      <td>909.000000</td>\n",
       "      <td>909.000000</td>\n",
       "      <td>909.000000</td>\n",
       "      <td>909.000000</td>\n",
       "      <td>909.000000</td>\n",
       "      <td>909.000000</td>\n",
       "    </tr>\n",
       "    <tr>\n",
       "      <th>mean</th>\n",
       "      <td>4866.386139</td>\n",
       "      <td>1.568981e+07</td>\n",
       "      <td>648.451045</td>\n",
       "      <td>38.647965</td>\n",
       "      <td>NaN</td>\n",
       "      <td>76117.341474</td>\n",
       "      <td>1.530253</td>\n",
       "      <td>0.710671</td>\n",
       "      <td>0.510451</td>\n",
       "      <td>99180.389373</td>\n",
       "      <td>0.201320</td>\n",
       "    </tr>\n",
       "    <tr>\n",
       "      <th>std</th>\n",
       "      <td>2909.604343</td>\n",
       "      <td>7.511225e+04</td>\n",
       "      <td>99.079381</td>\n",
       "      <td>9.785438</td>\n",
       "      <td>NaN</td>\n",
       "      <td>63105.690715</td>\n",
       "      <td>0.588452</td>\n",
       "      <td>0.453701</td>\n",
       "      <td>0.500166</td>\n",
       "      <td>56378.063765</td>\n",
       "      <td>0.401207</td>\n",
       "    </tr>\n",
       "    <tr>\n",
       "      <th>min</th>\n",
       "      <td>31.000000</td>\n",
       "      <td>1.556581e+07</td>\n",
       "      <td>359.000000</td>\n",
       "      <td>18.000000</td>\n",
       "      <td>NaN</td>\n",
       "      <td>0.000000</td>\n",
       "      <td>1.000000</td>\n",
       "      <td>0.000000</td>\n",
       "      <td>0.000000</td>\n",
       "      <td>106.670000</td>\n",
       "      <td>0.000000</td>\n",
       "    </tr>\n",
       "    <tr>\n",
       "      <th>25%</th>\n",
       "      <td>2311.000000</td>\n",
       "      <td>1.562658e+07</td>\n",
       "      <td>580.000000</td>\n",
       "      <td>32.000000</td>\n",
       "      <td>NaN</td>\n",
       "      <td>0.000000</td>\n",
       "      <td>1.000000</td>\n",
       "      <td>0.000000</td>\n",
       "      <td>0.000000</td>\n",
       "      <td>49872.330000</td>\n",
       "      <td>0.000000</td>\n",
       "    </tr>\n",
       "    <tr>\n",
       "      <th>50%</th>\n",
       "      <td>4887.000000</td>\n",
       "      <td>1.568687e+07</td>\n",
       "      <td>647.000000</td>\n",
       "      <td>37.000000</td>\n",
       "      <td>NaN</td>\n",
       "      <td>96674.550000</td>\n",
       "      <td>1.000000</td>\n",
       "      <td>1.000000</td>\n",
       "      <td>1.000000</td>\n",
       "      <td>99444.020000</td>\n",
       "      <td>0.000000</td>\n",
       "    </tr>\n",
       "    <tr>\n",
       "      <th>75%</th>\n",
       "      <td>7306.000000</td>\n",
       "      <td>1.575680e+07</td>\n",
       "      <td>718.000000</td>\n",
       "      <td>43.000000</td>\n",
       "      <td>NaN</td>\n",
       "      <td>128554.980000</td>\n",
       "      <td>2.000000</td>\n",
       "      <td>1.000000</td>\n",
       "      <td>1.000000</td>\n",
       "      <td>145759.700000</td>\n",
       "      <td>0.000000</td>\n",
       "    </tr>\n",
       "    <tr>\n",
       "      <th>max</th>\n",
       "      <td>10000.000000</td>\n",
       "      <td>1.581569e+07</td>\n",
       "      <td>850.000000</td>\n",
       "      <td>92.000000</td>\n",
       "      <td>NaN</td>\n",
       "      <td>206663.750000</td>\n",
       "      <td>4.000000</td>\n",
       "      <td>1.000000</td>\n",
       "      <td>1.000000</td>\n",
       "      <td>199390.450000</td>\n",
       "      <td>1.000000</td>\n",
       "    </tr>\n",
       "  </tbody>\n",
       "</table>\n",
       "</div>"
      ],
      "text/plain": [
       "          RowNumber    CustomerId  CreditScore         Age  Tenure  \\\n",
       "count    909.000000  9.090000e+02   909.000000  909.000000     0.0   \n",
       "mean    4866.386139  1.568981e+07   648.451045   38.647965     NaN   \n",
       "std     2909.604343  7.511225e+04    99.079381    9.785438     NaN   \n",
       "min       31.000000  1.556581e+07   359.000000   18.000000     NaN   \n",
       "25%     2311.000000  1.562658e+07   580.000000   32.000000     NaN   \n",
       "50%     4887.000000  1.568687e+07   647.000000   37.000000     NaN   \n",
       "75%     7306.000000  1.575680e+07   718.000000   43.000000     NaN   \n",
       "max    10000.000000  1.581569e+07   850.000000   92.000000     NaN   \n",
       "\n",
       "             Balance  NumOfProducts   HasCrCard  IsActiveMember  \\\n",
       "count     909.000000     909.000000  909.000000      909.000000   \n",
       "mean    76117.341474       1.530253    0.710671        0.510451   \n",
       "std     63105.690715       0.588452    0.453701        0.500166   \n",
       "min         0.000000       1.000000    0.000000        0.000000   \n",
       "25%         0.000000       1.000000    0.000000        0.000000   \n",
       "50%     96674.550000       1.000000    1.000000        1.000000   \n",
       "75%    128554.980000       2.000000    1.000000        1.000000   \n",
       "max    206663.750000       4.000000    1.000000        1.000000   \n",
       "\n",
       "       EstimatedSalary      Exited  \n",
       "count       909.000000  909.000000  \n",
       "mean      99180.389373    0.201320  \n",
       "std       56378.063765    0.401207  \n",
       "min         106.670000    0.000000  \n",
       "25%       49872.330000    0.000000  \n",
       "50%       99444.020000    0.000000  \n",
       "75%      145759.700000    0.000000  \n",
       "max      199390.450000    1.000000  "
      ]
     },
     "execution_count": 12,
     "metadata": {},
     "output_type": "execute_result"
    }
   ],
   "source": [
    "data_bank.query('Tenure.isna()').describe()"
   ]
  },
  {
   "cell_type": "code",
   "execution_count": null,
   "metadata": {
    "id": "pb1CdQI_2HuI",
    "outputId": "093a4801-715b-43d1-a1b0-731f99fa224f",
    "pycharm": {
     "name": "#%%\n"
    }
   },
   "outputs": [
    {
     "data": {
      "text/html": [
       "<div>\n",
       "<style scoped>\n",
       "    .dataframe tbody tr th:only-of-type {\n",
       "        vertical-align: middle;\n",
       "    }\n",
       "\n",
       "    .dataframe tbody tr th {\n",
       "        vertical-align: top;\n",
       "    }\n",
       "\n",
       "    .dataframe thead th {\n",
       "        text-align: right;\n",
       "    }\n",
       "</style>\n",
       "<table border=\"1\" class=\"dataframe\">\n",
       "  <thead>\n",
       "    <tr style=\"text-align: right;\">\n",
       "      <th></th>\n",
       "      <th>RowNumber</th>\n",
       "      <th>CustomerId</th>\n",
       "      <th>CreditScore</th>\n",
       "      <th>Age</th>\n",
       "      <th>Tenure</th>\n",
       "      <th>Balance</th>\n",
       "      <th>NumOfProducts</th>\n",
       "      <th>HasCrCard</th>\n",
       "      <th>IsActiveMember</th>\n",
       "      <th>EstimatedSalary</th>\n",
       "      <th>Exited</th>\n",
       "    </tr>\n",
       "  </thead>\n",
       "  <tbody>\n",
       "    <tr>\n",
       "      <th>count</th>\n",
       "      <td>382.000000</td>\n",
       "      <td>3.820000e+02</td>\n",
       "      <td>382.000000</td>\n",
       "      <td>382.000000</td>\n",
       "      <td>382.0</td>\n",
       "      <td>382.000000</td>\n",
       "      <td>382.000000</td>\n",
       "      <td>382.000000</td>\n",
       "      <td>382.000000</td>\n",
       "      <td>382.000000</td>\n",
       "      <td>382.000000</td>\n",
       "    </tr>\n",
       "    <tr>\n",
       "      <th>mean</th>\n",
       "      <td>5089.172775</td>\n",
       "      <td>1.569618e+07</td>\n",
       "      <td>651.913613</td>\n",
       "      <td>39.306283</td>\n",
       "      <td>0.0</td>\n",
       "      <td>80135.307277</td>\n",
       "      <td>1.437173</td>\n",
       "      <td>0.651832</td>\n",
       "      <td>0.531414</td>\n",
       "      <td>99565.395157</td>\n",
       "      <td>0.235602</td>\n",
       "    </tr>\n",
       "    <tr>\n",
       "      <th>std</th>\n",
       "      <td>2821.087244</td>\n",
       "      <td>7.187497e+04</td>\n",
       "      <td>95.741781</td>\n",
       "      <td>10.418181</td>\n",
       "      <td>0.0</td>\n",
       "      <td>62233.212461</td>\n",
       "      <td>0.522442</td>\n",
       "      <td>0.477014</td>\n",
       "      <td>0.499667</td>\n",
       "      <td>57360.554103</td>\n",
       "      <td>0.424931</td>\n",
       "    </tr>\n",
       "    <tr>\n",
       "      <th>min</th>\n",
       "      <td>30.000000</td>\n",
       "      <td>1.556647e+07</td>\n",
       "      <td>350.000000</td>\n",
       "      <td>19.000000</td>\n",
       "      <td>0.0</td>\n",
       "      <td>0.000000</td>\n",
       "      <td>1.000000</td>\n",
       "      <td>0.000000</td>\n",
       "      <td>0.000000</td>\n",
       "      <td>332.810000</td>\n",
       "      <td>0.000000</td>\n",
       "    </tr>\n",
       "    <tr>\n",
       "      <th>25%</th>\n",
       "      <td>2626.750000</td>\n",
       "      <td>1.563546e+07</td>\n",
       "      <td>592.250000</td>\n",
       "      <td>32.000000</td>\n",
       "      <td>0.0</td>\n",
       "      <td>0.000000</td>\n",
       "      <td>1.000000</td>\n",
       "      <td>0.000000</td>\n",
       "      <td>0.000000</td>\n",
       "      <td>47574.687500</td>\n",
       "      <td>0.000000</td>\n",
       "    </tr>\n",
       "    <tr>\n",
       "      <th>50%</th>\n",
       "      <td>5107.500000</td>\n",
       "      <td>1.569641e+07</td>\n",
       "      <td>653.000000</td>\n",
       "      <td>38.000000</td>\n",
       "      <td>0.0</td>\n",
       "      <td>101050.445000</td>\n",
       "      <td>1.000000</td>\n",
       "      <td>1.000000</td>\n",
       "      <td>1.000000</td>\n",
       "      <td>102160.510000</td>\n",
       "      <td>0.000000</td>\n",
       "    </tr>\n",
       "    <tr>\n",
       "      <th>75%</th>\n",
       "      <td>7503.500000</td>\n",
       "      <td>1.575880e+07</td>\n",
       "      <td>714.750000</td>\n",
       "      <td>44.750000</td>\n",
       "      <td>0.0</td>\n",
       "      <td>129638.762500</td>\n",
       "      <td>2.000000</td>\n",
       "      <td>1.000000</td>\n",
       "      <td>1.000000</td>\n",
       "      <td>149577.825000</td>\n",
       "      <td>0.000000</td>\n",
       "    </tr>\n",
       "    <tr>\n",
       "      <th>max</th>\n",
       "      <td>9920.000000</td>\n",
       "      <td>1.581553e+07</td>\n",
       "      <td>850.000000</td>\n",
       "      <td>79.000000</td>\n",
       "      <td>0.0</td>\n",
       "      <td>197041.800000</td>\n",
       "      <td>3.000000</td>\n",
       "      <td>1.000000</td>\n",
       "      <td>1.000000</td>\n",
       "      <td>199478.050000</td>\n",
       "      <td>1.000000</td>\n",
       "    </tr>\n",
       "  </tbody>\n",
       "</table>\n",
       "</div>"
      ],
      "text/plain": [
       "         RowNumber    CustomerId  CreditScore         Age  Tenure  \\\n",
       "count   382.000000  3.820000e+02   382.000000  382.000000   382.0   \n",
       "mean   5089.172775  1.569618e+07   651.913613   39.306283     0.0   \n",
       "std    2821.087244  7.187497e+04    95.741781   10.418181     0.0   \n",
       "min      30.000000  1.556647e+07   350.000000   19.000000     0.0   \n",
       "25%    2626.750000  1.563546e+07   592.250000   32.000000     0.0   \n",
       "50%    5107.500000  1.569641e+07   653.000000   38.000000     0.0   \n",
       "75%    7503.500000  1.575880e+07   714.750000   44.750000     0.0   \n",
       "max    9920.000000  1.581553e+07   850.000000   79.000000     0.0   \n",
       "\n",
       "             Balance  NumOfProducts   HasCrCard  IsActiveMember  \\\n",
       "count     382.000000     382.000000  382.000000      382.000000   \n",
       "mean    80135.307277       1.437173    0.651832        0.531414   \n",
       "std     62233.212461       0.522442    0.477014        0.499667   \n",
       "min         0.000000       1.000000    0.000000        0.000000   \n",
       "25%         0.000000       1.000000    0.000000        0.000000   \n",
       "50%    101050.445000       1.000000    1.000000        1.000000   \n",
       "75%    129638.762500       2.000000    1.000000        1.000000   \n",
       "max    197041.800000       3.000000    1.000000        1.000000   \n",
       "\n",
       "       EstimatedSalary      Exited  \n",
       "count       382.000000  382.000000  \n",
       "mean      99565.395157    0.235602  \n",
       "std       57360.554103    0.424931  \n",
       "min         332.810000    0.000000  \n",
       "25%       47574.687500    0.000000  \n",
       "50%      102160.510000    0.000000  \n",
       "75%      149577.825000    0.000000  \n",
       "max      199478.050000    1.000000  "
      ]
     },
     "execution_count": 13,
     "metadata": {},
     "output_type": "execute_result"
    }
   ],
   "source": [
    "data_bank.query('Tenure == 0').describe()"
   ]
  },
  {
   "cell_type": "code",
   "execution_count": null,
   "metadata": {
    "id": "lBCa3qVh2HuJ",
    "outputId": "96e1b608-825d-4398-fb85-e6db17dbdcf7",
    "pycharm": {
     "name": "#%%\n"
    }
   },
   "outputs": [
    {
     "data": {
      "text/plain": [
       "Gender\n",
       "Male      483\n",
       "Female    426\n",
       "dtype: int64"
      ]
     },
     "execution_count": 14,
     "metadata": {},
     "output_type": "execute_result"
    }
   ],
   "source": [
    "data_bank.query('Tenure.isna()').value_counts(['Gender'])"
   ]
  },
  {
   "cell_type": "code",
   "execution_count": null,
   "metadata": {
    "id": "bSwNpBzH2HuJ",
    "outputId": "c8b73c51-336f-4aba-9985-eaf7c4b5ed42",
    "pycharm": {
     "name": "#%%\n"
    }
   },
   "outputs": [
    {
     "data": {
      "text/plain": [
       "Gender\n",
       "Male      196\n",
       "Female    186\n",
       "dtype: int64"
      ]
     },
     "execution_count": 15,
     "metadata": {},
     "output_type": "execute_result"
    }
   ],
   "source": [
    "data_bank.query('Tenure == 0').value_counts(['Gender'])"
   ]
  },
  {
   "cell_type": "markdown",
   "metadata": {
    "id": "_AmSLdUJ2HuJ",
    "pycharm": {
     "name": "#%% md\n"
    }
   },
   "source": [
    "Была идея что там должны быть нули, но такого чтобы они были сильно похожи по другим ячейкам или нормализовали (делали распределение ближе к нормальному) друг друга нет... Они скорее всего совершенно случайные. **Заполню их медианой**."
   ]
  },
  {
   "cell_type": "code",
   "execution_count": null,
   "metadata": {
    "id": "z9WKNtDn2HuK",
    "pycharm": {
     "name": "#%%\n"
    }
   },
   "outputs": [],
   "source": [
    "data_bank['Tenure'] = data_bank['Tenure'].transform(lambda x: x.fillna(x.median()))"
   ]
  },
  {
   "cell_type": "code",
   "execution_count": null,
   "metadata": {
    "id": "4JCIK-ur2HuK",
    "outputId": "b611653f-45b8-41d4-f9e5-e6de8a8ba9bd",
    "pycharm": {
     "name": "#%%\n"
    }
   },
   "outputs": [
    {
     "data": {
      "text/plain": [
       "0"
      ]
     },
     "execution_count": 17,
     "metadata": {},
     "output_type": "execute_result"
    }
   ],
   "source": [
    "data_bank['Tenure'].isna().sum()"
   ]
  },
  {
   "cell_type": "markdown",
   "metadata": {
    "id": "nWs-XwzO2HuK",
    "pycharm": {
     "name": "#%% md\n"
    }
   },
   "source": [
    "Удаляем неинформативные столбцы"
   ]
  },
  {
   "cell_type": "code",
   "execution_count": null,
   "metadata": {
    "id": "foM0zsB22HuK",
    "outputId": "ec8cd984-558c-445a-fb55-cdf2455fc84d",
    "pycharm": {
     "name": "#%%\n"
    }
   },
   "outputs": [
    {
     "data": {
      "text/plain": [
       "Index(['CreditScore', 'Geography', 'Gender', 'Age', 'Tenure', 'Balance',\n",
       "       'NumOfProducts', 'HasCrCard', 'IsActiveMember', 'EstimatedSalary',\n",
       "       'Exited'],\n",
       "      dtype='object')"
      ]
     },
     "execution_count": 18,
     "metadata": {},
     "output_type": "execute_result"
    }
   ],
   "source": [
    "columns_drop = [\n",
    "    'RowNumber',\n",
    "    'CustomerId',\n",
    "    'Surname'\n",
    "]\n",
    "data_bank.drop(columns=columns_drop, inplace=True)\n",
    "\n",
    "data_bank.columns"
   ]
  },
  {
   "cell_type": "markdown",
   "metadata": {
    "id": "tRlqyrQh2HuL",
    "pycharm": {
     "name": "#%% md\n"
    }
   },
   "source": [
    "**В. Преобразование (OHE)**"
   ]
  },
  {
   "cell_type": "code",
   "execution_count": null,
   "metadata": {
    "id": "_hOHg9wP2HuL",
    "outputId": "fe912274-7b80-4f36-aabb-3fa4c3a7f6cd",
    "pycharm": {
     "name": "#%%\n"
    }
   },
   "outputs": [
    {
     "data": {
      "text/html": [
       "<div>\n",
       "<style scoped>\n",
       "    .dataframe tbody tr th:only-of-type {\n",
       "        vertical-align: middle;\n",
       "    }\n",
       "\n",
       "    .dataframe tbody tr th {\n",
       "        vertical-align: top;\n",
       "    }\n",
       "\n",
       "    .dataframe thead th {\n",
       "        text-align: right;\n",
       "    }\n",
       "</style>\n",
       "<table border=\"1\" class=\"dataframe\">\n",
       "  <thead>\n",
       "    <tr style=\"text-align: right;\">\n",
       "      <th></th>\n",
       "      <th>CreditScore</th>\n",
       "      <th>Age</th>\n",
       "      <th>Tenure</th>\n",
       "      <th>Balance</th>\n",
       "      <th>NumOfProducts</th>\n",
       "      <th>HasCrCard</th>\n",
       "      <th>IsActiveMember</th>\n",
       "      <th>EstimatedSalary</th>\n",
       "      <th>Exited</th>\n",
       "      <th>Geography_Germany</th>\n",
       "      <th>Geography_Spain</th>\n",
       "      <th>Gender_Male</th>\n",
       "    </tr>\n",
       "  </thead>\n",
       "  <tbody>\n",
       "    <tr>\n",
       "      <th>0</th>\n",
       "      <td>619</td>\n",
       "      <td>42</td>\n",
       "      <td>2.0</td>\n",
       "      <td>0.00</td>\n",
       "      <td>1</td>\n",
       "      <td>1</td>\n",
       "      <td>1</td>\n",
       "      <td>101348.88</td>\n",
       "      <td>1</td>\n",
       "      <td>0</td>\n",
       "      <td>0</td>\n",
       "      <td>0</td>\n",
       "    </tr>\n",
       "    <tr>\n",
       "      <th>1</th>\n",
       "      <td>608</td>\n",
       "      <td>41</td>\n",
       "      <td>1.0</td>\n",
       "      <td>83807.86</td>\n",
       "      <td>1</td>\n",
       "      <td>0</td>\n",
       "      <td>1</td>\n",
       "      <td>112542.58</td>\n",
       "      <td>0</td>\n",
       "      <td>0</td>\n",
       "      <td>1</td>\n",
       "      <td>0</td>\n",
       "    </tr>\n",
       "    <tr>\n",
       "      <th>2</th>\n",
       "      <td>502</td>\n",
       "      <td>42</td>\n",
       "      <td>8.0</td>\n",
       "      <td>159660.80</td>\n",
       "      <td>3</td>\n",
       "      <td>1</td>\n",
       "      <td>0</td>\n",
       "      <td>113931.57</td>\n",
       "      <td>1</td>\n",
       "      <td>0</td>\n",
       "      <td>0</td>\n",
       "      <td>0</td>\n",
       "    </tr>\n",
       "  </tbody>\n",
       "</table>\n",
       "</div>"
      ],
      "text/plain": [
       "   CreditScore  Age  Tenure    Balance  NumOfProducts  HasCrCard  \\\n",
       "0          619   42     2.0       0.00              1          1   \n",
       "1          608   41     1.0   83807.86              1          0   \n",
       "2          502   42     8.0  159660.80              3          1   \n",
       "\n",
       "   IsActiveMember  EstimatedSalary  Exited  Geography_Germany  \\\n",
       "0               1        101348.88       1                  0   \n",
       "1               1        112542.58       0                  0   \n",
       "2               0        113931.57       1                  0   \n",
       "\n",
       "   Geography_Spain  Gender_Male  \n",
       "0                0            0  \n",
       "1                1            0  \n",
       "2                0            0  "
      ]
     },
     "execution_count": 19,
     "metadata": {},
     "output_type": "execute_result"
    }
   ],
   "source": [
    "data_bank = pd.get_dummies(data_bank, drop_first=True)\n",
    "\n",
    "data_bank.head(3)"
   ]
  },
  {
   "cell_type": "markdown",
   "metadata": {
    "id": "g78bCHnH2HuL",
    "pycharm": {
     "name": "#%% md\n"
    }
   },
   "source": [
    "**Г. Разделю на выборки и удаляю неинформативные столбцы**\n",
    "\n",
    "Сделаю это до балансировки (upsampling или downsampling), масштабирования классов (стандартизация данных) так как в реальных условиях чаще всего доступа к тестовой выборке у нас не будет (преблизим условия к более реальным)"
   ]
  },
  {
   "cell_type": "code",
   "execution_count": null,
   "metadata": {
    "id": "7gdMkd6u2HuM",
    "pycharm": {
     "name": "#%%\n"
    }
   },
   "outputs": [],
   "source": [
    "# Объявляем классы\n",
    "features = data_bank.drop(columns='Exited')\n",
    "target = data_bank['Exited']\n",
    "\n",
    "# Создаем обучающую, валидационную и тестовую выборки 3:1:1\n",
    "features_train, features_valid, \\\n",
    "    target_train, target_valid = train_test_split(features,\n",
    "                                                     target,\n",
    "                                                     test_size=0.4,\n",
    "                                                     random_state=12345,\n",
    "                                                     stratify=target)\n",
    "features_valid, features_test, \\\n",
    "    target_valid, target_test = train_test_split(features_valid,\n",
    "                                                     target_valid,\n",
    "                                                     test_size=0.5,\n",
    "                                                     random_state=12345,\n",
    "                                                     stratify=target_valid)"
   ]
  },
  {
   "cell_type": "code",
   "execution_count": null,
   "metadata": {
    "id": "9NUve8dx2Hub",
    "outputId": "38f81378-7a66-4293-9238-cb2636da54f1",
    "pycharm": {
     "name": "#%%\n"
    }
   },
   "outputs": [
    {
     "data": {
      "text/plain": [
       "(6000, 11)"
      ]
     },
     "metadata": {},
     "output_type": "display_data"
    },
    {
     "data": {
      "text/plain": [
       "(6000,)"
      ]
     },
     "metadata": {},
     "output_type": "display_data"
    },
    {
     "data": {
      "text/plain": [
       "(2000, 11)"
      ]
     },
     "metadata": {},
     "output_type": "display_data"
    },
    {
     "data": {
      "text/plain": [
       "(2000,)"
      ]
     },
     "metadata": {},
     "output_type": "display_data"
    },
    {
     "data": {
      "text/plain": [
       "(2000, 11)"
      ]
     },
     "metadata": {},
     "output_type": "display_data"
    },
    {
     "data": {
      "text/plain": [
       "(2000,)"
      ]
     },
     "metadata": {},
     "output_type": "display_data"
    }
   ],
   "source": [
    "display(features_train.shape, target_train.shape,\n",
    "        features_valid.shape, target_valid.shape,\n",
    "        features_test.shape, target_test.shape)"
   ]
  },
  {
   "cell_type": "markdown",
   "metadata": {
    "id": "HBUnw8lp2Hud",
    "pycharm": {
     "name": "#%% md\n"
    }
   },
   "source": [
    "**Г. Стандартизация данных**"
   ]
  },
  {
   "cell_type": "code",
   "execution_count": null,
   "metadata": {
    "id": "J7upyooe2Hud",
    "outputId": "e0fac9d1-cda9-4485-d6b5-7253f35ce056",
    "pycharm": {
     "name": "#%%\n"
    }
   },
   "outputs": [
    {
     "name": "stderr",
     "output_type": "stream",
     "text": [
      "/tmp/ipykernel_100/2110816848.py:6: SettingWithCopyWarning: \n",
      "A value is trying to be set on a copy of a slice from a DataFrame.\n",
      "Try using .loc[row_indexer,col_indexer] = value instead\n",
      "\n",
      "See the caveats in the documentation: https://pandas.pydata.org/pandas-docs/stable/user_guide/indexing.html#returning-a-view-versus-a-copy\n",
      "  features_train[numeric] = scaler.transform(features_train[numeric])\n",
      "/opt/conda/lib/python3.9/site-packages/pandas/core/indexing.py:1738: SettingWithCopyWarning: \n",
      "A value is trying to be set on a copy of a slice from a DataFrame.\n",
      "Try using .loc[row_indexer,col_indexer] = value instead\n",
      "\n",
      "See the caveats in the documentation: https://pandas.pydata.org/pandas-docs/stable/user_guide/indexing.html#returning-a-view-versus-a-copy\n",
      "  self._setitem_single_column(loc, value[:, i].tolist(), pi)\n"
     ]
    },
    {
     "data": {
      "text/html": [
       "<div>\n",
       "<style scoped>\n",
       "    .dataframe tbody tr th:only-of-type {\n",
       "        vertical-align: middle;\n",
       "    }\n",
       "\n",
       "    .dataframe tbody tr th {\n",
       "        vertical-align: top;\n",
       "    }\n",
       "\n",
       "    .dataframe thead th {\n",
       "        text-align: right;\n",
       "    }\n",
       "</style>\n",
       "<table border=\"1\" class=\"dataframe\">\n",
       "  <thead>\n",
       "    <tr style=\"text-align: right;\">\n",
       "      <th></th>\n",
       "      <th>CreditScore</th>\n",
       "      <th>Age</th>\n",
       "      <th>Tenure</th>\n",
       "      <th>Balance</th>\n",
       "    </tr>\n",
       "  </thead>\n",
       "  <tbody>\n",
       "    <tr>\n",
       "      <th>2837</th>\n",
       "      <td>-1.040434</td>\n",
       "      <td>0.953312</td>\n",
       "      <td>0.3606</td>\n",
       "      <td>0.774657</td>\n",
       "    </tr>\n",
       "  </tbody>\n",
       "</table>\n",
       "</div>"
      ],
      "text/plain": [
       "      CreditScore       Age  Tenure   Balance\n",
       "2837    -1.040434  0.953312  0.3606  0.774657"
      ]
     },
     "metadata": {},
     "output_type": "display_data"
    },
    {
     "data": {
      "text/html": [
       "<div>\n",
       "<style scoped>\n",
       "    .dataframe tbody tr th:only-of-type {\n",
       "        vertical-align: middle;\n",
       "    }\n",
       "\n",
       "    .dataframe tbody tr th {\n",
       "        vertical-align: top;\n",
       "    }\n",
       "\n",
       "    .dataframe thead th {\n",
       "        text-align: right;\n",
       "    }\n",
       "</style>\n",
       "<table border=\"1\" class=\"dataframe\">\n",
       "  <thead>\n",
       "    <tr style=\"text-align: right;\">\n",
       "      <th></th>\n",
       "      <th>CreditScore</th>\n",
       "      <th>Age</th>\n",
       "      <th>Tenure</th>\n",
       "      <th>Balance</th>\n",
       "    </tr>\n",
       "  </thead>\n",
       "  <tbody>\n",
       "    <tr>\n",
       "      <th>6612</th>\n",
       "      <td>-1.524838</td>\n",
       "      <td>2.38316</td>\n",
       "      <td>-0.729557</td>\n",
       "      <td>1.011655</td>\n",
       "    </tr>\n",
       "  </tbody>\n",
       "</table>\n",
       "</div>"
      ],
      "text/plain": [
       "      CreditScore      Age    Tenure   Balance\n",
       "6612    -1.524838  2.38316 -0.729557  1.011655"
      ]
     },
     "metadata": {},
     "output_type": "display_data"
    },
    {
     "data": {
      "text/html": [
       "<div>\n",
       "<style scoped>\n",
       "    .dataframe tbody tr th:only-of-type {\n",
       "        vertical-align: middle;\n",
       "    }\n",
       "\n",
       "    .dataframe tbody tr th {\n",
       "        vertical-align: top;\n",
       "    }\n",
       "\n",
       "    .dataframe thead th {\n",
       "        text-align: right;\n",
       "    }\n",
       "</style>\n",
       "<table border=\"1\" class=\"dataframe\">\n",
       "  <thead>\n",
       "    <tr style=\"text-align: right;\">\n",
       "      <th></th>\n",
       "      <th>CreditScore</th>\n",
       "      <th>Age</th>\n",
       "      <th>Tenure</th>\n",
       "      <th>Balance</th>\n",
       "    </tr>\n",
       "  </thead>\n",
       "  <tbody>\n",
       "    <tr>\n",
       "      <th>657</th>\n",
       "      <td>-0.504497</td>\n",
       "      <td>1.429928</td>\n",
       "      <td>-1.456328</td>\n",
       "      <td>0.873883</td>\n",
       "    </tr>\n",
       "  </tbody>\n",
       "</table>\n",
       "</div>"
      ],
      "text/plain": [
       "     CreditScore       Age    Tenure   Balance\n",
       "657    -0.504497  1.429928 -1.456328  0.873883"
      ]
     },
     "metadata": {},
     "output_type": "display_data"
    }
   ],
   "source": [
    "numeric = ['CreditScore', 'Age', 'Tenure', 'Balance']\n",
    "\n",
    "scaler = StandardScaler()\n",
    "scaler.fit(features_train[numeric])\n",
    "\n",
    "features_train[numeric] = scaler.transform(features_train[numeric])\n",
    "features_valid[numeric] = scaler.transform(features_valid[numeric])\n",
    "features_test[numeric] = scaler.transform(features_test[numeric])\n",
    "\n",
    "pd.options.mode.chained_assignment = None\n",
    "display(features_train[numeric].head(1),\n",
    "        features_valid[numeric].head(1),\n",
    "        features_test[numeric].head(1))"
   ]
  },
  {
   "cell_type": "markdown",
   "metadata": {
    "id": "IfOjOlID2Huf",
    "pycharm": {
     "name": "#%% md\n"
    }
   },
   "source": [
    "**Д. Балансировка классов (upsampling или downsampling)**"
   ]
  },
  {
   "cell_type": "code",
   "execution_count": null,
   "metadata": {
    "id": "kL_qnVkp2Huf",
    "pycharm": {
     "name": "#%%\n"
    }
   },
   "outputs": [],
   "source": [
    "def upsampling(features, target, only_target_class=False):\n",
    "    try:\n",
    "        #Разделяем выборку на отрицательные и положительные объекты\n",
    "        features_zero = features[target == 0]\n",
    "        features_ones = features[target == 1]\n",
    "        target_zero = target[target == 0]\n",
    "        target_ones = target[target == 1]\n",
    "        #Найдем во сколько раз надо увеличить\n",
    "        #Функция всегда будет подбирать соотношение 1:1\n",
    "        if len(features_zero) > len(features_ones):\n",
    "            rat = len(features_zero) / len(features_ones)\n",
    "            #Увеличиваем,совмещаем и перемешиваем\n",
    "            features_upsampling = pd.concat([features_zero] + ([features_ones] * math.ceil(rat)))\n",
    "            target_upsampling = pd.concat([target_zero] + ([target_ones] * math.ceil(rat)))\n",
    "            features_upsampling, target_upsampling = shuffle(features_upsampling,\n",
    "                                                             target_upsampling,\n",
    "                                                             random_state=12345)\n",
    "\n",
    "            return features_upsampling, target_upsampling\n",
    "        elif len(features_ones) > len(features_zero) and only_target_class != True:\n",
    "            rat = len(features_ones) / len(features_zero)\n",
    "            #Увеличиваем,совмещаем и перемешиваем\n",
    "            features_upsampling = pd.concat([features_ones] + [features_zero] * math.ceil(rat))\n",
    "            target_upsampling = pd.concat([target_ones] + [target_zero] * math.ceil(rat))\n",
    "            features_upsampling, target_upsampling = shuffle(features_upsampling,\n",
    "                                                             target_upsampling,\n",
    "                                                             random_state=12345)\n",
    "\n",
    "            return features_upsampling, target_upsampling\n",
    "        else:\n",
    "\n",
    "            return print(f'Количество features_zero: {len(features_zero)} \\\n",
    "                         Количество features_ones: {len(features_ones)}')\n",
    "    except:\n",
    "        pass"
   ]
  },
  {
   "cell_type": "code",
   "execution_count": null,
   "metadata": {
    "id": "5VAFEetQ2Huh",
    "outputId": "3f6c5698-3ea5-4bd0-8e18-d3eb668f8f41",
    "pycharm": {
     "name": "#%%\n"
    }
   },
   "outputs": [
    {
     "data": {
      "text/plain": [
       "(9666, 11)"
      ]
     },
     "metadata": {},
     "output_type": "display_data"
    },
    {
     "data": {
      "text/plain": [
       "(9666,)"
      ]
     },
     "metadata": {},
     "output_type": "display_data"
    },
    {
     "data": {
      "text/plain": [
       "4778"
      ]
     },
     "metadata": {},
     "output_type": "display_data"
    },
    {
     "data": {
      "text/plain": [
       "4888"
      ]
     },
     "metadata": {},
     "output_type": "display_data"
    }
   ],
   "source": [
    "features_upsampling, target_upsampling = upsampling(features_train, target_train)\n",
    "\n",
    "display(features_upsampling.shape, target_upsampling.shape)\n",
    "display(len(target_upsampling.loc[target_upsampling == 0]), \\\n",
    "        len(target_upsampling.loc[target_upsampling == 1]))"
   ]
  },
  {
   "cell_type": "code",
   "execution_count": null,
   "metadata": {
    "id": "8waCdau42Hui",
    "outputId": "1696b333-43a4-4578-fe90-429a2fe2f747",
    "pycharm": {
     "name": "#%%\n"
    }
   },
   "outputs": [
    {
     "data": {
      "text/plain": [
       "0.5056900475894889"
      ]
     },
     "execution_count": 25,
     "metadata": {},
     "output_type": "execute_result"
    }
   ],
   "source": [
    "target_upsampling.mean()"
   ]
  },
  {
   "cell_type": "code",
   "execution_count": null,
   "metadata": {
    "id": "KhT9qHA32Hui",
    "pycharm": {
     "name": "#%%\n"
    }
   },
   "outputs": [],
   "source": [
    "def downsampling(features, target, only_target_class=False):\n",
    "    try:\n",
    "        #Разделяем выборку на отрицательные и положительные объекты\n",
    "        features_zero = features[target == 0]\n",
    "        features_ones = features[target == 1]\n",
    "        target_zero = target[target == 0]\n",
    "        target_ones = target[target == 1]\n",
    "        #Найдем во сколько раз надо уменьшить\n",
    "        #Нам известно что TN в выборке 80% но давайте сделаем код более универсальным\n",
    "        if len(features_zero) > len(features_ones):\n",
    "            rat = len(features_ones) / len(features_zero)\n",
    "            #Уменьшаем,совмещаем и перемешиваем\n",
    "            features_downsampling = pd.concat(\n",
    "                [features_zero.sample(frac=rat, random_state=12345)] + [features_ones]\n",
    "            )\n",
    "            target_downsampling = pd.concat(\n",
    "                [target_zero.sample(frac=rat, random_state=12345)] + [target_ones]\n",
    "            )\n",
    "            features_downsampling, target_downsampling = shuffle(features_downsampling,\n",
    "                                                             target_downsampling,\n",
    "                                                             random_state=12345)\n",
    "\n",
    "            return features_downsampling, target_downsampling\n",
    "        elif len(features_ones) > len(features_zero) and only_target_class != True:\n",
    "            rat = len(features_zero) / len(features_ones)\n",
    "            #Уменьшаем,совмещаем и перемешиваем\n",
    "            features_downsampling = pd.concat(\n",
    "                [features_ones.sample(frac=rat, random_state=12345)] + [features_zero]\n",
    "            )\n",
    "            target_downsampling = pd.concat(\n",
    "                [target_ones.sample(frac=rat, random_state=12345)] + [target_zero]\n",
    "            )\n",
    "            features_downsampling, target_downsampling = shuffle(features_downsampling,\n",
    "                                                             target_downsampling,\n",
    "                                                             random_state=12345)\n",
    "\n",
    "            return features_downsampling, target_downsampling\n",
    "        else:\n",
    "\n",
    "            return print(f'Количество features_zero: {len(features_zero)} \\\n",
    "                         Количество features_ones: {len(features_ones)}')\n",
    "    except:\n",
    "        pass"
   ]
  },
  {
   "cell_type": "code",
   "execution_count": null,
   "metadata": {
    "scrolled": true,
    "id": "P0wlzskR2Hui",
    "outputId": "cdd86344-37c3-4e66-a16f-0becdaa3d51b",
    "pycharm": {
     "name": "#%%\n"
    }
   },
   "outputs": [
    {
     "data": {
      "text/plain": [
       "(2444, 11)"
      ]
     },
     "metadata": {},
     "output_type": "display_data"
    },
    {
     "data": {
      "text/plain": [
       "(2444,)"
      ]
     },
     "metadata": {},
     "output_type": "display_data"
    },
    {
     "data": {
      "text/plain": [
       "1222"
      ]
     },
     "metadata": {},
     "output_type": "display_data"
    },
    {
     "data": {
      "text/plain": [
       "1222"
      ]
     },
     "metadata": {},
     "output_type": "display_data"
    }
   ],
   "source": [
    "features_downsampling, target_downsampling = downsampling(features_train, target_train)\n",
    "\n",
    "display(features_downsampling.shape, target_downsampling.shape)\n",
    "display(len(target_downsampling.loc[target_downsampling == 0]), \\\n",
    "        len(target_downsampling.loc[target_downsampling == 1]))"
   ]
  },
  {
   "cell_type": "markdown",
   "metadata": {
    "id": "11XMa9242Huj",
    "pycharm": {
     "name": "#%% md\n"
    }
   },
   "source": [
    "## Исследование задачи"
   ]
  },
  {
   "cell_type": "markdown",
   "metadata": {
    "id": "Ig5nj04A2Huj",
    "pycharm": {
     "name": "#%% md\n"
    }
   },
   "source": [
    "**Поиск лучших гиперпараметров**"
   ]
  },
  {
   "cell_type": "code",
   "execution_count": null,
   "metadata": {
    "id": "4kYcI4hR2Huj",
    "pycharm": {
     "name": "#%%\n"
    }
   },
   "outputs": [],
   "source": [
    "def search_favorite_model(features_train, target_train,\n",
    "                          features_valid, target_valid,\n",
    "                          calculate_accuracy=False):\n",
    "    try:\n",
    "        result_accuracy = 0\n",
    "        result_f1 = 0\n",
    "        favorite_model_accuracy = 0\n",
    "        favorite_model_f1 = 0\n",
    "        model_linear = LogisticRegression(random_state=12345)\n",
    "        # Перебераем количество оценивающих\n",
    "        for est in trange(10, 50, 10, desc=f'Total'):\n",
    "            # Перебераем глубину\n",
    "            for depth in trange(1, 11, desc=f'inner loop {est}'):\n",
    "                model_tree = DecisionTreeClassifier(random_state=12345,\n",
    "                                                    max_depth=depth)\n",
    "                model_ensemble = RandomForestClassifier(random_state=12345,\n",
    "                                                        n_estimators=est,\n",
    "                                                        max_depth=depth)\n",
    "                #Обучаем модель и сохраняем наиболее эффективные гиперпараметры\n",
    "                for model in model_tree, model_ensemble, model_linear:\n",
    "                    model.fit(features_train, target_train)\n",
    "                    pridictions_valid = model.predict(features_valid)\n",
    "                    #Вычисляем f1_score\n",
    "                    f1 = f1_score(target_valid, pridictions_valid)\n",
    "                    if result_f1 < f1:\n",
    "                        result_f1 = f1\n",
    "                        favorite_model_f1 = model\n",
    "                    #Вычисляем accuracy\n",
    "                    #Только если calculate_accuracy=True\n",
    "                    if calculate_accuracy == True:\n",
    "                        accuracy = accuracy_score(target_valid, pridictions_valid)\n",
    "                        if result_accuracy < accuracy:\n",
    "                            result_accuracy = accuracy\n",
    "                            favorite_model_accuracy = model\n",
    "        accuracy_return = f'Наилучшее accuracy у модели: {favorite_model_accuracy} \\\n",
    "                                accuracy = {result_accuracy}'\n",
    "        f1_return = f'Наилучшее f1_score у модели: {favorite_model_f1} \\\n",
    "                          f1_score = {result_f1}'\n",
    "        if calculate_accuracy == False:\n",
    "\n",
    "            return f1_return\n",
    "        else:\n",
    "\n",
    "            return accuracy_return, f1_return\n",
    "    except:\n",
    "        pass"
   ]
  },
  {
   "cell_type": "code",
   "execution_count": null,
   "metadata": {
    "colab": {
     "referenced_widgets": [
      "77bb21d51a024a07b24bbca964fd6d24",
      "e296ef8048db47e1898c289e065189d2",
      "55ecdda6aac44471b93ab6bbdf47201a",
      "f16ba7e4fcef4c5cb8c4e20521dfb130",
      "6c8f895218ed486980e13456ee762d87"
     ]
    },
    "id": "FSXBNSOz2Huk",
    "outputId": "cc9f9fdf-cd7b-47ee-f3d3-d84600a79480",
    "pycharm": {
     "name": "#%%\n"
    }
   },
   "outputs": [
    {
     "data": {
      "application/vnd.jupyter.widget-view+json": {
       "model_id": "77bb21d51a024a07b24bbca964fd6d24",
       "version_major": 2,
       "version_minor": 0
      },
      "text/plain": [
       "Total:   0%|          | 0/4 [00:00<?, ?it/s]"
      ]
     },
     "metadata": {},
     "output_type": "display_data"
    },
    {
     "data": {
      "application/vnd.jupyter.widget-view+json": {
       "model_id": "e296ef8048db47e1898c289e065189d2",
       "version_major": 2,
       "version_minor": 0
      },
      "text/plain": [
       "inner loop 10:   0%|          | 0/10 [00:00<?, ?it/s]"
      ]
     },
     "metadata": {},
     "output_type": "display_data"
    },
    {
     "data": {
      "application/vnd.jupyter.widget-view+json": {
       "model_id": "55ecdda6aac44471b93ab6bbdf47201a",
       "version_major": 2,
       "version_minor": 0
      },
      "text/plain": [
       "inner loop 20:   0%|          | 0/10 [00:00<?, ?it/s]"
      ]
     },
     "metadata": {},
     "output_type": "display_data"
    },
    {
     "data": {
      "application/vnd.jupyter.widget-view+json": {
       "model_id": "f16ba7e4fcef4c5cb8c4e20521dfb130",
       "version_major": 2,
       "version_minor": 0
      },
      "text/plain": [
       "inner loop 30:   0%|          | 0/10 [00:00<?, ?it/s]"
      ]
     },
     "metadata": {},
     "output_type": "display_data"
    },
    {
     "data": {
      "application/vnd.jupyter.widget-view+json": {
       "model_id": "6c8f895218ed486980e13456ee762d87",
       "version_major": 2,
       "version_minor": 0
      },
      "text/plain": [
       "inner loop 40:   0%|          | 0/10 [00:00<?, ?it/s]"
      ]
     },
     "metadata": {},
     "output_type": "display_data"
    },
    {
     "data": {
      "text/plain": [
       "'Наилучшее f1_score у модели: RandomForestClassifier(max_depth=10, n_estimators=20, random_state=12345)                           f1_score = 0.6036585365853658'"
      ]
     },
     "execution_count": 29,
     "metadata": {},
     "output_type": "execute_result"
    }
   ],
   "source": [
    "search_favorite_model(features_train, target_train,\n",
    "                      features_valid, target_valid)"
   ]
  },
  {
   "cell_type": "markdown",
   "metadata": {
    "id": "PJsvCd2E2Hul",
    "pycharm": {
     "name": "#%% md\n"
    }
   },
   "source": [
    "**Вывод:**\n",
    "\n",
    "Лучшая модель _**случайный лес**_ с глубиной 10 и числом проверяющих 20, ее F1 = 0.6036585365853658"
   ]
  },
  {
   "cell_type": "markdown",
   "metadata": {
    "id": "KlZlOzRJ2Hul",
    "pycharm": {
     "name": "#%% md\n"
    }
   },
   "source": [
    "## Борьба с дисбалансом"
   ]
  },
  {
   "cell_type": "markdown",
   "metadata": {
    "id": "vCBcvSEE2Hul",
    "pycharm": {
     "name": "#%% md\n"
    }
   },
   "source": [
    "**А. Поэкспериментируем с увеличением выборки**"
   ]
  },
  {
   "cell_type": "markdown",
   "metadata": {
    "id": "iSJ8GOA52Hum",
    "pycharm": {
     "name": "#%% md\n"
    }
   },
   "source": [
    "Найдем наилучшие гиперпараметры"
   ]
  },
  {
   "cell_type": "code",
   "execution_count": null,
   "metadata": {
    "colab": {
     "referenced_widgets": [
      "4df1b67b50ce4a84a7127fcf22e7f2d0",
      "65064be41863417d9cd4289bb50ea748",
      "192b8f78ee7f4ad0849ab72f4b441f40",
      "5000c3b59d2a492c870c8c76e20a825a",
      "83924d8a5db047919c5d343a21420c1e"
     ]
    },
    "id": "XhO7vgJ52Hum",
    "outputId": "879cca6d-497d-48dc-85ae-0328c35932ae",
    "pycharm": {
     "name": "#%%\n"
    }
   },
   "outputs": [
    {
     "data": {
      "application/vnd.jupyter.widget-view+json": {
       "model_id": "4df1b67b50ce4a84a7127fcf22e7f2d0",
       "version_major": 2,
       "version_minor": 0
      },
      "text/plain": [
       "Total:   0%|          | 0/4 [00:00<?, ?it/s]"
      ]
     },
     "metadata": {},
     "output_type": "display_data"
    },
    {
     "data": {
      "application/vnd.jupyter.widget-view+json": {
       "model_id": "65064be41863417d9cd4289bb50ea748",
       "version_major": 2,
       "version_minor": 0
      },
      "text/plain": [
       "inner loop 10:   0%|          | 0/10 [00:00<?, ?it/s]"
      ]
     },
     "metadata": {},
     "output_type": "display_data"
    },
    {
     "data": {
      "application/vnd.jupyter.widget-view+json": {
       "model_id": "192b8f78ee7f4ad0849ab72f4b441f40",
       "version_major": 2,
       "version_minor": 0
      },
      "text/plain": [
       "inner loop 20:   0%|          | 0/10 [00:00<?, ?it/s]"
      ]
     },
     "metadata": {},
     "output_type": "display_data"
    },
    {
     "data": {
      "application/vnd.jupyter.widget-view+json": {
       "model_id": "5000c3b59d2a492c870c8c76e20a825a",
       "version_major": 2,
       "version_minor": 0
      },
      "text/plain": [
       "inner loop 30:   0%|          | 0/10 [00:00<?, ?it/s]"
      ]
     },
     "metadata": {},
     "output_type": "display_data"
    },
    {
     "data": {
      "application/vnd.jupyter.widget-view+json": {
       "model_id": "83924d8a5db047919c5d343a21420c1e",
       "version_major": 2,
       "version_minor": 0
      },
      "text/plain": [
       "inner loop 40:   0%|          | 0/10 [00:00<?, ?it/s]"
      ]
     },
     "metadata": {},
     "output_type": "display_data"
    },
    {
     "data": {
      "text/plain": [
       "('Наилучшее accuracy у модели: RandomForestClassifier(max_depth=10, n_estimators=40, random_state=12345)                                 accuracy = 0.838',\n",
       " 'Наилучшее f1_score у модели: RandomForestClassifier(max_depth=10, n_estimators=30, random_state=12345)                           f1_score = 0.6511134676564156')"
      ]
     },
     "execution_count": 30,
     "metadata": {},
     "output_type": "execute_result"
    }
   ],
   "source": [
    "search_favorite_model(features_upsampling, target_upsampling,\n",
    "                      features_valid, target_valid,\n",
    "                      calculate_accuracy=True)"
   ]
  },
  {
   "cell_type": "markdown",
   "metadata": {
    "id": "75eYnc9F2Hun",
    "pycharm": {
     "name": "#%% md\n"
    }
   },
   "source": [
    "Лучшая модель _**случайный лес**_ с глубиной 10 и числом проверяющих 30, ее F1 = 0.6511134676564156"
   ]
  },
  {
   "cell_type": "code",
   "execution_count": null,
   "metadata": {
    "id": "wi2Zsv5O2Hun",
    "outputId": "fecc2dfd-bf75-471a-ab68-f8d679196429",
    "pycharm": {
     "name": "#%%\n"
    }
   },
   "outputs": [
    {
     "data": {
      "text/plain": [
       "'accuracy = 0.8355, f1 = 0.6511134676564156'"
      ]
     },
     "metadata": {},
     "output_type": "display_data"
    }
   ],
   "source": [
    "model_upsampling = RandomForestClassifier(random_state=12345,\n",
    "                                          n_estimators=1,\n",
    "                                          max_depth=10)\n",
    "model_upsampling.fit(features_upsampling, target_upsampling)\n",
    "\n",
    "predictions_valid = model_upsampling.predict(features_valid)\n",
    "accuracy = accuracy_score(target_valid, predictions_valid)\n",
    "f1 = f1_score(target_valid, predictions_valid)\n",
    "\n",
    "display(f'accuracy = {accuracy}, f1 = {f1}')"
   ]
  },
  {
   "cell_type": "markdown",
   "metadata": {
    "id": "Pee9aH-N2Huo",
    "pycharm": {
     "name": "#%% md\n"
    }
   },
   "source": [
    "**Б. Поэкспериментируем с уменьшением выборки**"
   ]
  },
  {
   "cell_type": "markdown",
   "metadata": {
    "id": "DwCODCCw2Hup",
    "pycharm": {
     "name": "#%% md\n"
    }
   },
   "source": [
    "Найдем наилучшие гиперпараметры"
   ]
  },
  {
   "cell_type": "code",
   "execution_count": null,
   "metadata": {
    "colab": {
     "referenced_widgets": [
      "2a49325f31444748868b7fbc8860c962",
      "37c0f1306c6947c38b255e9194a52566",
      "98ce0eb4a5fb4b03be0cdeb4ce004aff",
      "6594554dea2d4c608fe0757bc19dfbce",
      "66ca08c113b447d6b8ea5028f34e1cd6"
     ]
    },
    "id": "WEmCHI812Hup",
    "outputId": "6fc797e8-26cc-4c64-f223-e2696b4ccf23",
    "pycharm": {
     "name": "#%%\n"
    }
   },
   "outputs": [
    {
     "data": {
      "application/vnd.jupyter.widget-view+json": {
       "model_id": "2a49325f31444748868b7fbc8860c962",
       "version_major": 2,
       "version_minor": 0
      },
      "text/plain": [
       "Total:   0%|          | 0/4 [00:00<?, ?it/s]"
      ]
     },
     "metadata": {},
     "output_type": "display_data"
    },
    {
     "data": {
      "application/vnd.jupyter.widget-view+json": {
       "model_id": "37c0f1306c6947c38b255e9194a52566",
       "version_major": 2,
       "version_minor": 0
      },
      "text/plain": [
       "inner loop 10:   0%|          | 0/10 [00:00<?, ?it/s]"
      ]
     },
     "metadata": {},
     "output_type": "display_data"
    },
    {
     "data": {
      "application/vnd.jupyter.widget-view+json": {
       "model_id": "98ce0eb4a5fb4b03be0cdeb4ce004aff",
       "version_major": 2,
       "version_minor": 0
      },
      "text/plain": [
       "inner loop 20:   0%|          | 0/10 [00:00<?, ?it/s]"
      ]
     },
     "metadata": {},
     "output_type": "display_data"
    },
    {
     "data": {
      "application/vnd.jupyter.widget-view+json": {
       "model_id": "6594554dea2d4c608fe0757bc19dfbce",
       "version_major": 2,
       "version_minor": 0
      },
      "text/plain": [
       "inner loop 30:   0%|          | 0/10 [00:00<?, ?it/s]"
      ]
     },
     "metadata": {},
     "output_type": "display_data"
    },
    {
     "data": {
      "application/vnd.jupyter.widget-view+json": {
       "model_id": "66ca08c113b447d6b8ea5028f34e1cd6",
       "version_major": 2,
       "version_minor": 0
      },
      "text/plain": [
       "inner loop 40:   0%|          | 0/10 [00:00<?, ?it/s]"
      ]
     },
     "metadata": {},
     "output_type": "display_data"
    },
    {
     "data": {
      "text/plain": [
       "('Наилучшее accuracy у модели: RandomForestClassifier(max_depth=4, n_estimators=10, random_state=12345)                                 accuracy = 0.8075',\n",
       " 'Наилучшее f1_score у модели: RandomForestClassifier(max_depth=8, n_estimators=40, random_state=12345)                           f1_score = 0.6304761904761904')"
      ]
     },
     "execution_count": 32,
     "metadata": {},
     "output_type": "execute_result"
    }
   ],
   "source": [
    "search_favorite_model(features_downsampling, target_downsampling,\n",
    "                      features_valid, target_valid,\n",
    "                      calculate_accuracy=True)"
   ]
  },
  {
   "cell_type": "markdown",
   "metadata": {
    "id": "AMfp0BVl2Hup",
    "pycharm": {
     "name": "#%% md\n"
    }
   },
   "source": [
    "Лучшая модель _**случайный лес**_ с глубиной 8 и числом проверяющих 40, ее F1 = 0.6304761904761904"
   ]
  },
  {
   "cell_type": "code",
   "execution_count": null,
   "metadata": {
    "id": "UK8gGziC2Hup",
    "outputId": "dbcbe154-44cd-4dd5-d828-ee6e9d5ec07d",
    "pycharm": {
     "name": "#%%\n"
    }
   },
   "outputs": [
    {
     "data": {
      "text/plain": [
       "'accuracy = 0.7905, f1 = 0.5728848114169215'"
      ]
     },
     "metadata": {},
     "output_type": "display_data"
    }
   ],
   "source": [
    "model_downsampling = RandomForestClassifier(random_state=12345,\n",
    "                                            n_estimators=8,\n",
    "                                            max_depth=40)\n",
    "model_downsampling.fit(features_downsampling, target_downsampling)\n",
    "\n",
    "predictions_valid = model_downsampling.predict(features_valid)\n",
    "accuracy = accuracy_score(target_valid, predictions_valid)\n",
    "f1 = f1_score(target_valid, predictions_valid)\n",
    "\n",
    "display(f'accuracy = {accuracy}, f1 = {f1}')"
   ]
  },
  {
   "cell_type": "markdown",
   "metadata": {
    "id": "R-DWjdtE2Huq",
    "pycharm": {
     "name": "#%% md\n"
    }
   },
   "source": [
    "**Вывод:**\n",
    "\n",
    "1. Downsampling значительно понизил качество нашей модели и f1 меру\n",
    "2. Upsampling повысил f1-меру на почти 5%, так же повысив незначительно качество нашей модели, но в данном случае нам важна именно f1-мера. Upsampling будет использован.\n",
    "\n",
    "Лучшая модель _**случайный лес**_ с глубиной 10 и числом проверяющих 30, ее F1 = 0.6511134676564156"
   ]
  },
  {
   "cell_type": "markdown",
   "metadata": {
    "id": "xzMktu3v2Huq",
    "pycharm": {
     "name": "#%% md\n"
    }
   },
   "source": [
    "## Тестирование модели"
   ]
  },
  {
   "cell_type": "markdown",
   "metadata": {
    "id": "gKFUveH12Huq",
    "pycharm": {
     "name": "#%% md\n"
    }
   },
   "source": [
    "**Переходим к применению нашей модели**\n",
    "\n",
    "Для начала попробовал объединить вариационную и обучающую выборки чтобы посмотреть улучшиться ли результат (больше данных как ни как), но результат получился хуже **'accuracy = 0.8135, f1 = 0.5950054288816504'**, закомментировал."
   ]
  },
  {
   "cell_type": "markdown",
   "metadata": {
    "id": "KuTia6Lj2Huq",
    "pycharm": {
     "name": "#%% md\n"
    }
   },
   "source": [
    "**По результатам проверки мы будем использовать:**\n",
    "\n",
    "модель _**RF**_ с глубиной 10 и числом проверяющих 30, на данных с приминением upsampling\n"
   ]
  },
  {
   "cell_type": "code",
   "execution_count": null,
   "metadata": {
    "id": "xQY0_XJR2Hur",
    "pycharm": {
     "name": "#%%\n"
    }
   },
   "outputs": [],
   "source": [
    "##Объединим валидационную и обучающую выборки\n",
    "#features_train = pd.concat([features_train, features_valid])\n",
    "#target_train = pd.concat([target_train, target_valid])\n",
    "\n",
    "##Применим upsampling\n",
    "#features_upsampling, target_upsampling = upsampling(features_train, target_train)"
   ]
  },
  {
   "cell_type": "code",
   "execution_count": null,
   "metadata": {
    "id": "VEYOJ_JY2Hur",
    "pycharm": {
     "name": "#%%\n"
    }
   },
   "outputs": [],
   "source": [
    "#display(features_upsampling.shape, target_upsampling.shape)\n",
    "#display(len(target_upsampling.loc[target_upsampling == 0]), \\\n",
    "        #len(target_upsampling.loc[target_upsampling == 1]))"
   ]
  },
  {
   "cell_type": "code",
   "execution_count": null,
   "metadata": {
    "id": "rORZvayw2Hus",
    "pycharm": {
     "name": "#%%\n"
    }
   },
   "outputs": [],
   "source": [
    "##Обучаем модель\n",
    "#model = RandomForestClassifier(max_depth=10, n_estimators=20,\n",
    "                               #random_state=12345)\n",
    "#model.fit(features_upsampling, target_upsampling)\n",
    "\n",
    "##Применяем преобразование, масштабирование к тестовой\n",
    "##Выборке\n",
    "#features_test = pd.get_dummies(features_test, drop_first=True)\n",
    "#features_test[numeric] = scaler.transform(features_test[numeric])\n",
    "\n",
    "#predictions_test = model.predict(features_test)\n",
    "#accuracy = accuracy_score(target_test, predictions_test)\n",
    "#f1 = f1_score(target_test, predictions_test)\n",
    "\n",
    "#display(f'accuracy = {accuracy}, f1 = {f1}')"
   ]
  },
  {
   "cell_type": "markdown",
   "metadata": {
    "id": "N0tkwsWD2Hus",
    "pycharm": {
     "name": "#%% md\n"
    }
   },
   "source": [
    "Обучаем модель"
   ]
  },
  {
   "cell_type": "code",
   "execution_count": null,
   "metadata": {
    "id": "xDu-Pdn52Hus",
    "outputId": "c132b873-8270-4d86-fcdc-0c10f420c221",
    "pycharm": {
     "name": "#%%\n"
    }
   },
   "outputs": [
    {
     "data": {
      "text/plain": [
       "'accuracy = 0.817, f1 = 0.6013071895424837'"
      ]
     },
     "metadata": {},
     "output_type": "display_data"
    }
   ],
   "source": [
    "#Обучаем модель\n",
    "model = RandomForestClassifier(max_depth=10, n_estimators=30,\n",
    "                               random_state=12345)\n",
    "model.fit(features_upsampling, target_upsampling)\n",
    "\n",
    "predictions_test = model.predict(features_test)\n",
    "accuracy = accuracy_score(target_test, predictions_test)\n",
    "f1 = f1_score(target_test, predictions_test)\n",
    "\n",
    "display(f'accuracy = {accuracy}, f1 = {f1}')"
   ]
  },
  {
   "cell_type": "markdown",
   "metadata": {
    "id": "f9XX60FY2Hut",
    "pycharm": {
     "name": "#%% md\n"
    }
   },
   "source": [
    "Построим ROC кривую"
   ]
  },
  {
   "cell_type": "code",
   "execution_count": null,
   "metadata": {
    "id": "nIoZ4mqv2Huu",
    "outputId": "efcc6ada-49c5-43a1-f9b8-7f596b446ede",
    "pycharm": {
     "name": "#%%\n"
    }
   },
   "outputs": [
    {
     "data": {
      "text/plain": [
       "0.8490215947843067"
      ]
     },
     "execution_count": 38,
     "metadata": {},
     "output_type": "execute_result"
    }
   ],
   "source": [
    "probabilites_test = model.predict_proba(features_test)\n",
    "probabilites_one_test = probabilites_test[:, 1]\n",
    "\n",
    "fpr, tpr, thresholds = roc_curve(target_test, probabilites_one_test)\n",
    "test_roc = roc_auc_score(target_test, probabilites_one_test)\n",
    "\n",
    "test_roc"
   ]
  },
  {
   "cell_type": "code",
   "execution_count": null,
   "metadata": {
    "id": "cJMbH-yp2Huu",
    "outputId": "f093e318-b9b7-49f8-821e-9918a8c8ff02",
    "pycharm": {
     "name": "#%%\n"
    }
   },
   "outputs": [
    {
     "data": {
      "image/png": "[encoded data removed]",
      "text/plain": [
       "<Figure size 504x504 with 1 Axes>"
      ]
     },
     "metadata": {
      "needs_background": "light"
     },
     "output_type": "display_data"
    }
   ],
   "source": [
    "plt.figure(figsize=(7, 7))\n",
    "\n",
    "plt.plot([0, 1], [0, 1], '--', alpha=0.7, lw=5, mew=2, ms=10)\n",
    "plt.plot(fpr, tpr, '-', color='red', fillstyle='top', alpha=0.8, lw=3)\n",
    "plt.xlabel('False Positive Rate', fontsize=15)\n",
    "plt.ylabel('True Positive Rate', fontsize=15)\n",
    "plt.xlim([0.0, 1.0])\n",
    "plt.ylim([0.0, 1.0])\n",
    "plt.title('$ROC$-кривая', fontsize=17, fontweight='bold')\n",
    "plt.grid(True)\n",
    "\n",
    "plt.show()"
   ]
  },
  {
   "cell_type": "markdown",
   "metadata": {
    "id": "qd2VBzYY2Huv",
    "pycharm": {
     "name": "#%% md\n"
    }
   },
   "source": [
    "По результатам работы нам удалось:\n",
    "1. Выбрать оптимальную модель и оптимальные параметры для нашей модели.\n",
    "2. Обучить модель с **f1 = 0.6013071895424837**, при задаче **достичь качества f1-меры не ниже 0.59**. Более того, нам удалосьулучшить наш результат при помощи upsampling\n",
    "3. **AUC-ROC = 0.8453291504138961**, точность и плотность больше чем в половину выше чем у случайной модели, это конечно не 1, но и не 0.5 :)"
   ]
  },
  {
   "cell_type": "markdown",
   "metadata": {
    "id": "zzMVR2rX2Hux",
    "pycharm": {
     "name": "#%% md\n"
    }
   },
   "source": [
    "## Чек-лист готовности проекта"
   ]
  },
  {
   "cell_type": "markdown",
   "metadata": {
    "id": "KBPdC56w2Hux",
    "pycharm": {
     "name": "#%% md\n"
    }
   },
   "source": [
    "Поставьте 'x' в выполненных пунктах. Далее нажмите Shift+Enter."
   ]
  },
  {
   "cell_type": "markdown",
   "metadata": {
    "id": "tFUS6UMt2Huy",
    "pycharm": {
     "name": "#%% md\n"
    }
   },
   "source": [
    "- [x]  Jupyter Notebook открыт\n",
    "- [x]  Весь код выполняется без ошибок\n",
    "- [x]  Ячейки с кодом расположены в порядке исполнения\n",
    "- [x]  Выполнен шаг 1: данные подготовлены\n",
    "- [x]  Выполнен шаг 2: задача исследована\n",
    "    - [x]  Исследован баланс классов\n",
    "    - [x]  Изучены модели без учёта дисбаланса\n",
    "    - [x]  Написаны выводы по результатам исследования\n",
    "- [x]  Выполнен шаг 3: учтён дисбаланс\n",
    "    - [x]  Применено несколько способов борьбы с дисбалансом\n",
    "    - [x]  Написаны выводы по результатам исследования\n",
    "- [x]  Выполнен шаг 4: проведено тестирование\n",
    "- [x]  Удалось достичь *F1*-меры не менее 0.59\n",
    "- [ ]  Исследована метрика *AUC-ROC*"
   ]
  }
 ],
 "metadata": {
  "ExecuteTimeLog": [
   {
    "duration": 1259,
    "start_time": "2023-03-25T03:23:06.226Z"
   },
   {
    "duration": 10,
    "start_time": "2023-03-25T03:23:49.260Z"
   },
   {
    "duration": 10,
    "start_time": "2023-03-25T03:24:30.092Z"
   },
   {
    "duration": 31,
    "start_time": "2023-03-25T03:24:45.035Z"
   },
   {
    "duration": 1394,
    "start_time": "2023-03-25T03:27:08.762Z"
   },
   {
    "duration": 1574,
    "start_time": "2023-03-25T03:44:25.257Z"
   },
   {
    "duration": 269,
    "start_time": "2023-03-25T03:46:53.257Z"
   },
   {
    "duration": 81,
    "start_time": "2023-03-25T03:53:15.291Z"
   },
   {
    "duration": 42,
    "start_time": "2023-03-25T03:53:26.703Z"
   },
   {
    "duration": 47,
    "start_time": "2023-03-25T03:53:30.642Z"
   },
   {
    "duration": 1378,
    "start_time": "2023-03-25T03:54:04.364Z"
   },
   {
    "duration": 254,
    "start_time": "2023-03-25T03:55:38.490Z"
   },
   {
    "duration": 305,
    "start_time": "2023-03-25T03:59:34.458Z"
   },
   {
    "duration": 1830,
    "start_time": "2023-03-25T03:59:39.384Z"
   },
   {
    "duration": 47,
    "start_time": "2023-03-25T04:05:15.809Z"
   },
   {
    "duration": 1571,
    "start_time": "2023-03-25T04:05:19.275Z"
   },
   {
    "duration": 147,
    "start_time": "2023-03-25T04:09:05.754Z"
   },
   {
    "duration": 60,
    "start_time": "2023-03-25T04:09:13.821Z"
   },
   {
    "duration": 69,
    "start_time": "2023-03-25T04:09:25.081Z"
   },
   {
    "duration": 50,
    "start_time": "2023-03-25T04:12:13.018Z"
   },
   {
    "duration": 22,
    "start_time": "2023-03-25T04:16:55.214Z"
   },
   {
    "duration": 13,
    "start_time": "2023-03-25T04:17:32.721Z"
   },
   {
    "duration": 50,
    "start_time": "2023-03-25T04:19:29.383Z"
   },
   {
    "duration": 31,
    "start_time": "2023-03-25T04:19:32.442Z"
   },
   {
    "duration": 15,
    "start_time": "2023-03-25T04:19:43.207Z"
   },
   {
    "duration": 40,
    "start_time": "2023-03-25T04:19:50.495Z"
   },
   {
    "duration": 13,
    "start_time": "2023-03-25T04:20:39.164Z"
   },
   {
    "duration": 12,
    "start_time": "2023-03-25T04:20:46.037Z"
   },
   {
    "duration": 15,
    "start_time": "2023-03-25T04:20:54.633Z"
   },
   {
    "duration": 12,
    "start_time": "2023-03-25T04:22:09.273Z"
   },
   {
    "duration": 58,
    "start_time": "2023-03-25T04:22:19.252Z"
   },
   {
    "duration": 14,
    "start_time": "2023-03-25T04:31:33.149Z"
   },
   {
    "duration": 11,
    "start_time": "2023-03-25T04:31:36.119Z"
   },
   {
    "duration": 2110,
    "start_time": "2023-03-25T04:31:43.909Z"
   },
   {
    "duration": 1537,
    "start_time": "2023-03-25T04:31:50.463Z"
   },
   {
    "duration": 50,
    "start_time": "2023-03-25T04:33:18.211Z"
   },
   {
    "duration": 61,
    "start_time": "2023-03-25T04:33:44.349Z"
   },
   {
    "duration": 4,
    "start_time": "2023-03-25T04:34:02.541Z"
   },
   {
    "duration": 1674,
    "start_time": "2023-03-25T04:34:11.204Z"
   },
   {
    "duration": 51,
    "start_time": "2023-03-25T04:36:49.770Z"
   },
   {
    "duration": 19,
    "start_time": "2023-03-25T04:44:25.708Z"
   },
   {
    "duration": 48,
    "start_time": "2023-03-25T04:44:29.110Z"
   },
   {
    "duration": 9305,
    "start_time": "2023-03-25T05:27:00.822Z"
   },
   {
    "duration": 10037,
    "start_time": "2023-03-25T05:27:27.657Z"
   },
   {
    "duration": 910,
    "start_time": "2023-03-25T05:29:43.745Z"
   },
   {
    "duration": 209,
    "start_time": "2023-03-25T05:30:30.903Z"
   },
   {
    "duration": 391,
    "start_time": "2023-03-25T05:32:14.469Z"
   },
   {
    "duration": 1621,
    "start_time": "2023-03-25T05:32:54.569Z"
   },
   {
    "duration": 1048,
    "start_time": "2023-03-25T05:34:44.795Z"
   },
   {
    "duration": 1012,
    "start_time": "2023-03-25T05:34:55.147Z"
   },
   {
    "duration": 6127,
    "start_time": "2023-03-25T05:37:03.366Z"
   },
   {
    "duration": 919,
    "start_time": "2023-03-25T05:38:10.230Z"
   },
   {
    "duration": 4987,
    "start_time": "2023-03-25T05:38:31.480Z"
   },
   {
    "duration": 6163,
    "start_time": "2023-03-25T05:41:00.033Z"
   },
   {
    "duration": 65,
    "start_time": "2023-03-25T05:41:25.653Z"
   },
   {
    "duration": 6194,
    "start_time": "2023-03-25T05:41:29.212Z"
   },
   {
    "duration": 6075,
    "start_time": "2023-03-25T05:41:40.631Z"
   },
   {
    "duration": 5880,
    "start_time": "2023-03-25T05:41:58.645Z"
   },
   {
    "duration": 5940,
    "start_time": "2023-03-25T05:42:11.253Z"
   },
   {
    "duration": 6138,
    "start_time": "2023-03-25T05:43:18.903Z"
   },
   {
    "duration": 5964,
    "start_time": "2023-03-25T05:44:19.943Z"
   },
   {
    "duration": 6296,
    "start_time": "2023-03-25T05:45:48.446Z"
   },
   {
    "duration": 5785,
    "start_time": "2023-03-25T05:46:04.217Z"
   },
   {
    "duration": 5996,
    "start_time": "2023-03-25T05:46:55.254Z"
   },
   {
    "duration": 5920,
    "start_time": "2023-03-25T05:47:58.999Z"
   },
   {
    "duration": 5882,
    "start_time": "2023-03-25T05:48:28.776Z"
   },
   {
    "duration": 6304,
    "start_time": "2023-03-25T05:49:58.343Z"
   },
   {
    "duration": 6131,
    "start_time": "2023-03-25T05:50:12.803Z"
   },
   {
    "duration": 6115,
    "start_time": "2023-03-25T05:51:38.800Z"
   },
   {
    "duration": 29,
    "start_time": "2023-03-25T05:53:15.012Z"
   },
   {
    "duration": 13,
    "start_time": "2023-03-25T05:55:54.732Z"
   },
   {
    "duration": 12,
    "start_time": "2023-03-25T05:59:33.875Z"
   },
   {
    "duration": 11,
    "start_time": "2023-03-25T06:00:10.071Z"
   },
   {
    "duration": 19,
    "start_time": "2023-03-25T06:01:10.103Z"
   },
   {
    "duration": 6018,
    "start_time": "2023-03-25T06:01:40.423Z"
   },
   {
    "duration": 17,
    "start_time": "2023-03-25T06:01:58.115Z"
   },
   {
    "duration": 6292,
    "start_time": "2023-03-25T06:02:07.052Z"
   },
   {
    "duration": 1382,
    "start_time": "2023-03-26T09:20:41.148Z"
   },
   {
    "duration": 161,
    "start_time": "2023-03-26T09:20:42.532Z"
   },
   {
    "duration": 15,
    "start_time": "2023-03-26T09:20:42.694Z"
   },
   {
    "duration": 10,
    "start_time": "2023-03-26T09:20:42.711Z"
   },
   {
    "duration": 31,
    "start_time": "2023-03-26T09:20:42.722Z"
   },
   {
    "duration": 681,
    "start_time": "2023-03-26T09:20:42.754Z"
   },
   {
    "duration": 4563,
    "start_time": "2023-03-26T09:20:43.436Z"
   },
   {
    "duration": 9,
    "start_time": "2023-03-26T09:20:48.000Z"
   },
   {
    "duration": 1191,
    "start_time": "2023-03-26T09:20:58.184Z"
   },
   {
    "duration": 37,
    "start_time": "2023-03-26T09:20:59.377Z"
   },
   {
    "duration": 17,
    "start_time": "2023-03-26T09:20:59.415Z"
   },
   {
    "duration": 12,
    "start_time": "2023-03-26T09:20:59.433Z"
   },
   {
    "duration": 32,
    "start_time": "2023-03-26T09:20:59.446Z"
   },
   {
    "duration": 687,
    "start_time": "2023-03-26T09:20:59.479Z"
   },
   {
    "duration": 60,
    "start_time": "2023-03-26T13:37:15.104Z"
   },
   {
    "duration": 1605,
    "start_time": "2023-03-26T13:37:27.031Z"
   },
   {
    "duration": 165,
    "start_time": "2023-03-26T13:37:28.638Z"
   },
   {
    "duration": 20,
    "start_time": "2023-03-26T13:37:28.805Z"
   },
   {
    "duration": 18,
    "start_time": "2023-03-26T13:37:28.827Z"
   },
   {
    "duration": 53,
    "start_time": "2023-03-26T13:37:28.848Z"
   },
   {
    "duration": 873,
    "start_time": "2023-03-26T13:37:28.902Z"
   },
   {
    "duration": 5794,
    "start_time": "2023-03-26T13:37:29.777Z"
   },
   {
    "duration": 10,
    "start_time": "2023-03-26T13:37:35.573Z"
   },
   {
    "duration": 21,
    "start_time": "2023-03-26T13:37:35.584Z"
   },
   {
    "duration": 15,
    "start_time": "2023-03-26T13:37:38.643Z"
   },
   {
    "duration": 12,
    "start_time": "2023-03-26T13:40:24.289Z"
   },
   {
    "duration": 1564,
    "start_time": "2023-03-26T13:41:00.004Z"
   },
   {
    "duration": 41,
    "start_time": "2023-03-26T13:41:01.571Z"
   },
   {
    "duration": 30,
    "start_time": "2023-03-26T13:41:01.615Z"
   },
   {
    "duration": 28,
    "start_time": "2023-03-26T13:41:01.648Z"
   },
   {
    "duration": 51,
    "start_time": "2023-03-26T13:41:01.679Z"
   },
   {
    "duration": 895,
    "start_time": "2023-03-26T13:41:01.732Z"
   },
   {
    "duration": 5739,
    "start_time": "2023-03-26T13:41:02.629Z"
   },
   {
    "duration": 13,
    "start_time": "2023-03-26T13:41:08.370Z"
   },
   {
    "duration": 23,
    "start_time": "2023-03-26T13:41:08.385Z"
   },
   {
    "duration": 30,
    "start_time": "2023-03-26T13:41:08.410Z"
   },
   {
    "duration": 12,
    "start_time": "2023-03-26T13:41:10.599Z"
   },
   {
    "duration": 1443,
    "start_time": "2023-03-26T13:43:06.422Z"
   },
   {
    "duration": 42,
    "start_time": "2023-03-26T13:43:07.868Z"
   },
   {
    "duration": 20,
    "start_time": "2023-03-26T13:43:07.912Z"
   },
   {
    "duration": 13,
    "start_time": "2023-03-26T13:43:07.933Z"
   },
   {
    "duration": 42,
    "start_time": "2023-03-26T13:43:07.949Z"
   },
   {
    "duration": 956,
    "start_time": "2023-03-26T13:43:07.993Z"
   },
   {
    "duration": 5921,
    "start_time": "2023-03-26T13:43:08.951Z"
   },
   {
    "duration": 12,
    "start_time": "2023-03-26T13:43:14.874Z"
   },
   {
    "duration": 49,
    "start_time": "2023-03-26T13:43:14.888Z"
   },
   {
    "duration": 12,
    "start_time": "2023-03-26T13:43:14.939Z"
   },
   {
    "duration": 10,
    "start_time": "2023-03-26T13:43:14.953Z"
   },
   {
    "duration": 1460,
    "start_time": "2023-03-26T13:44:47.377Z"
   },
   {
    "duration": 46,
    "start_time": "2023-03-26T13:44:48.840Z"
   },
   {
    "duration": 21,
    "start_time": "2023-03-26T13:44:48.888Z"
   },
   {
    "duration": 19,
    "start_time": "2023-03-26T13:44:48.912Z"
   },
   {
    "duration": 44,
    "start_time": "2023-03-26T13:44:48.933Z"
   },
   {
    "duration": 939,
    "start_time": "2023-03-26T13:44:48.979Z"
   },
   {
    "duration": 6128,
    "start_time": "2023-03-26T13:44:49.924Z"
   },
   {
    "duration": 12,
    "start_time": "2023-03-26T13:44:56.054Z"
   },
   {
    "duration": 24,
    "start_time": "2023-03-26T13:44:56.068Z"
   },
   {
    "duration": 113,
    "start_time": "2023-03-26T13:44:57.908Z"
   },
   {
    "duration": 23,
    "start_time": "2023-03-26T13:45:03.123Z"
   },
   {
    "duration": 23,
    "start_time": "2023-03-26T13:46:01.551Z"
   },
   {
    "duration": 9,
    "start_time": "2023-03-26T13:46:04.464Z"
   },
   {
    "duration": 12,
    "start_time": "2023-03-26T13:46:32.911Z"
   },
   {
    "duration": 12,
    "start_time": "2023-03-26T13:46:49.172Z"
   },
   {
    "duration": 29,
    "start_time": "2023-03-26T14:44:16.982Z"
   },
   {
    "duration": 25,
    "start_time": "2023-03-26T14:46:27.279Z"
   },
   {
    "duration": 18,
    "start_time": "2023-03-26T14:46:54.893Z"
   },
   {
    "duration": 27,
    "start_time": "2023-03-26T14:47:34.547Z"
   },
   {
    "duration": 4,
    "start_time": "2023-03-26T14:51:38.181Z"
   },
   {
    "duration": 14,
    "start_time": "2023-03-26T14:58:43.561Z"
   },
   {
    "duration": 19,
    "start_time": "2023-03-26T14:59:00.200Z"
   },
   {
    "duration": 22,
    "start_time": "2023-03-26T15:01:54.739Z"
   },
   {
    "duration": 20,
    "start_time": "2023-03-26T15:02:13.421Z"
   },
   {
    "duration": 19,
    "start_time": "2023-03-26T15:03:32.184Z"
   },
   {
    "duration": 15,
    "start_time": "2023-03-26T15:03:42.630Z"
   },
   {
    "duration": 25,
    "start_time": "2023-03-26T15:03:50.761Z"
   },
   {
    "duration": 89,
    "start_time": "2023-03-26T15:05:08.066Z"
   },
   {
    "duration": 18,
    "start_time": "2023-03-26T15:05:11.926Z"
   },
   {
    "duration": 24,
    "start_time": "2023-03-26T15:05:20.990Z"
   },
   {
    "duration": 1143,
    "start_time": "2023-03-26T15:05:49.801Z"
   },
   {
    "duration": 1399,
    "start_time": "2023-03-26T15:06:20.280Z"
   },
   {
    "duration": 167,
    "start_time": "2023-03-26T15:06:21.681Z"
   },
   {
    "duration": 21,
    "start_time": "2023-03-26T15:06:21.850Z"
   },
   {
    "duration": 14,
    "start_time": "2023-03-26T15:06:21.873Z"
   },
   {
    "duration": 50,
    "start_time": "2023-03-26T15:06:21.890Z"
   },
   {
    "duration": 899,
    "start_time": "2023-03-26T15:06:21.942Z"
   },
   {
    "duration": 5706,
    "start_time": "2023-03-26T15:06:22.842Z"
   },
   {
    "duration": 10,
    "start_time": "2023-03-26T15:06:28.550Z"
   },
   {
    "duration": 13,
    "start_time": "2023-03-26T15:06:28.562Z"
   },
   {
    "duration": 15,
    "start_time": "2023-03-26T15:06:28.577Z"
   },
   {
    "duration": 19,
    "start_time": "2023-03-26T15:06:28.593Z"
   },
   {
    "duration": 1235,
    "start_time": "2023-03-26T15:06:31.808Z"
   },
   {
    "duration": 1278,
    "start_time": "2023-03-26T15:09:51.267Z"
   },
   {
    "duration": 1135,
    "start_time": "2023-03-26T15:10:20.820Z"
   },
   {
    "duration": 19,
    "start_time": "2023-03-26T15:10:37.631Z"
   },
   {
    "duration": 1189,
    "start_time": "2023-03-26T15:10:57.537Z"
   },
   {
    "duration": 15,
    "start_time": "2023-03-26T15:11:09.589Z"
   },
   {
    "duration": 4,
    "start_time": "2023-03-26T15:12:34.516Z"
   },
   {
    "duration": 1200,
    "start_time": "2023-03-26T15:13:00.668Z"
   },
   {
    "duration": 1224,
    "start_time": "2023-03-26T15:13:19.417Z"
   },
   {
    "duration": 21,
    "start_time": "2023-03-26T15:13:32.430Z"
   },
   {
    "duration": 39,
    "start_time": "2023-03-26T15:14:02.074Z"
   },
   {
    "duration": 21,
    "start_time": "2023-03-26T15:14:05.205Z"
   },
   {
    "duration": 10,
    "start_time": "2023-03-26T15:14:21.236Z"
   },
   {
    "duration": 23,
    "start_time": "2023-03-26T15:14:26.343Z"
   },
   {
    "duration": 31,
    "start_time": "2023-03-26T15:14:42.731Z"
   },
   {
    "duration": 16,
    "start_time": "2023-03-26T15:14:57.172Z"
   },
   {
    "duration": 16,
    "start_time": "2023-03-26T15:15:09.527Z"
   },
   {
    "duration": 18,
    "start_time": "2023-03-26T15:15:24.711Z"
   },
   {
    "duration": 1164,
    "start_time": "2023-03-26T15:15:39.094Z"
   },
   {
    "duration": 1461,
    "start_time": "2023-03-26T15:26:41.890Z"
   },
   {
    "duration": 42,
    "start_time": "2023-03-26T15:26:43.354Z"
   },
   {
    "duration": 24,
    "start_time": "2023-03-26T15:26:43.397Z"
   },
   {
    "duration": 13,
    "start_time": "2023-03-26T15:26:43.423Z"
   },
   {
    "duration": 42,
    "start_time": "2023-03-26T15:26:43.439Z"
   },
   {
    "duration": 937,
    "start_time": "2023-03-26T15:26:43.483Z"
   },
   {
    "duration": 5805,
    "start_time": "2023-03-26T15:26:44.423Z"
   },
   {
    "duration": 15,
    "start_time": "2023-03-26T15:26:50.230Z"
   },
   {
    "duration": 24,
    "start_time": "2023-03-26T15:26:50.248Z"
   },
   {
    "duration": 12,
    "start_time": "2023-03-26T15:26:50.275Z"
   },
   {
    "duration": 57,
    "start_time": "2023-03-26T15:26:50.289Z"
   },
   {
    "duration": 1297,
    "start_time": "2023-03-26T15:26:52.890Z"
   },
   {
    "duration": 1302,
    "start_time": "2023-03-26T15:26:59.842Z"
   },
   {
    "duration": 1116,
    "start_time": "2023-03-26T15:27:13.042Z"
   },
   {
    "duration": 14,
    "start_time": "2023-03-26T15:28:10.743Z"
   },
   {
    "duration": 11,
    "start_time": "2023-03-26T15:29:49.690Z"
   },
   {
    "duration": 16,
    "start_time": "2023-03-26T15:30:02.501Z"
   },
   {
    "duration": 17,
    "start_time": "2023-03-26T15:30:05.444Z"
   },
   {
    "duration": 12,
    "start_time": "2023-03-26T15:30:12.305Z"
   },
   {
    "duration": 12,
    "start_time": "2023-03-26T15:33:41.092Z"
   },
   {
    "duration": 4,
    "start_time": "2023-03-26T15:35:15.865Z"
   },
   {
    "duration": 18,
    "start_time": "2023-03-26T15:35:34.384Z"
   },
   {
    "duration": 1454,
    "start_time": "2023-03-26T15:38:23.795Z"
   },
   {
    "duration": 42,
    "start_time": "2023-03-26T15:38:25.251Z"
   },
   {
    "duration": 23,
    "start_time": "2023-03-26T15:38:25.295Z"
   },
   {
    "duration": 15,
    "start_time": "2023-03-26T15:38:25.320Z"
   },
   {
    "duration": 42,
    "start_time": "2023-03-26T15:38:25.338Z"
   },
   {
    "duration": 939,
    "start_time": "2023-03-26T15:38:25.382Z"
   },
   {
    "duration": 5709,
    "start_time": "2023-03-26T15:38:26.323Z"
   },
   {
    "duration": 13,
    "start_time": "2023-03-26T15:38:32.033Z"
   },
   {
    "duration": 22,
    "start_time": "2023-03-26T15:38:32.048Z"
   },
   {
    "duration": 16,
    "start_time": "2023-03-26T15:38:32.073Z"
   },
   {
    "duration": 38,
    "start_time": "2023-03-26T15:38:32.091Z"
   },
   {
    "duration": 122,
    "start_time": "2023-03-26T15:38:35.186Z"
   },
   {
    "duration": 19,
    "start_time": "2023-03-26T15:40:42.463Z"
   },
   {
    "duration": 24,
    "start_time": "2023-03-26T15:40:57.469Z"
   },
   {
    "duration": 22,
    "start_time": "2023-03-26T15:41:38.063Z"
   },
   {
    "duration": 28,
    "start_time": "2023-03-26T15:41:53.362Z"
   },
   {
    "duration": 1410,
    "start_time": "2023-03-26T16:44:09.583Z"
   },
   {
    "duration": 43,
    "start_time": "2023-03-26T16:44:10.995Z"
   },
   {
    "duration": 19,
    "start_time": "2023-03-26T16:44:11.040Z"
   },
   {
    "duration": 13,
    "start_time": "2023-03-26T16:44:11.061Z"
   },
   {
    "duration": 55,
    "start_time": "2023-03-26T16:44:11.076Z"
   },
   {
    "duration": 863,
    "start_time": "2023-03-26T16:44:11.132Z"
   },
   {
    "duration": 5477,
    "start_time": "2023-03-26T16:44:11.997Z"
   },
   {
    "duration": 11,
    "start_time": "2023-03-26T16:44:17.476Z"
   },
   {
    "duration": 35,
    "start_time": "2023-03-26T16:44:17.489Z"
   },
   {
    "duration": 8,
    "start_time": "2023-03-26T16:44:17.526Z"
   },
   {
    "duration": 18,
    "start_time": "2023-03-26T16:44:17.535Z"
   },
   {
    "duration": 28,
    "start_time": "2023-03-26T16:44:21.986Z"
   },
   {
    "duration": 24,
    "start_time": "2023-03-26T16:44:37.173Z"
   },
   {
    "duration": 19,
    "start_time": "2023-03-26T16:44:56.438Z"
   },
   {
    "duration": 1287,
    "start_time": "2023-03-26T16:45:26.223Z"
   },
   {
    "duration": 72,
    "start_time": "2023-03-26T16:46:16.555Z"
   },
   {
    "duration": 19,
    "start_time": "2023-03-26T16:46:19.758Z"
   },
   {
    "duration": 8,
    "start_time": "2023-03-26T16:47:25.818Z"
   },
   {
    "duration": 6,
    "start_time": "2023-03-26T16:47:58.382Z"
   },
   {
    "duration": 5,
    "start_time": "2023-03-26T16:48:27.042Z"
   },
   {
    "duration": 6,
    "start_time": "2023-03-26T16:48:52.391Z"
   },
   {
    "duration": 6,
    "start_time": "2023-03-26T16:49:14.090Z"
   },
   {
    "duration": 9,
    "start_time": "2023-03-26T16:49:30.386Z"
   },
   {
    "duration": 7,
    "start_time": "2023-03-26T16:49:39.009Z"
   },
   {
    "duration": 7,
    "start_time": "2023-03-26T16:50:49.163Z"
   },
   {
    "duration": 6,
    "start_time": "2023-03-26T16:50:55.178Z"
   },
   {
    "duration": 7,
    "start_time": "2023-03-26T16:51:04.373Z"
   },
   {
    "duration": 8,
    "start_time": "2023-03-26T16:51:39.717Z"
   },
   {
    "duration": 6,
    "start_time": "2023-03-26T16:53:18.110Z"
   },
   {
    "duration": 6,
    "start_time": "2023-03-26T16:53:22.684Z"
   },
   {
    "duration": 7,
    "start_time": "2023-03-26T16:53:46.173Z"
   },
   {
    "duration": 7,
    "start_time": "2023-03-26T16:53:53.006Z"
   },
   {
    "duration": 6,
    "start_time": "2023-03-26T16:54:05.309Z"
   },
   {
    "duration": 6,
    "start_time": "2023-03-26T16:57:57.703Z"
   },
   {
    "duration": 7,
    "start_time": "2023-03-26T16:58:25.632Z"
   },
   {
    "duration": 7,
    "start_time": "2023-03-26T16:59:52.076Z"
   },
   {
    "duration": 6,
    "start_time": "2023-03-26T16:59:54.563Z"
   },
   {
    "duration": 203,
    "start_time": "2023-03-26T17:59:52.076Z"
   },
   {
    "duration": 6,
    "start_time": "2023-03-26T18:00:13.106Z"
   },
   {
    "duration": 14,
    "start_time": "2023-03-26T18:00:23.168Z"
   },
   {
    "duration": 6,
    "start_time": "2023-03-26T18:00:24.768Z"
   },
   {
    "duration": 29,
    "start_time": "2023-03-26T18:00:54.345Z"
   },
   {
    "duration": 22,
    "start_time": "2023-03-26T18:04:08.142Z"
   },
   {
    "duration": 7,
    "start_time": "2023-03-26T18:06:17.812Z"
   },
   {
    "duration": 7,
    "start_time": "2023-03-26T18:06:20.450Z"
   },
   {
    "duration": 17,
    "start_time": "2023-03-26T18:06:24.244Z"
   },
   {
    "duration": 8,
    "start_time": "2023-03-26T18:09:02.159Z"
   },
   {
    "duration": 18,
    "start_time": "2023-03-26T18:09:05.128Z"
   },
   {
    "duration": 5,
    "start_time": "2023-03-26T18:09:35.771Z"
   },
   {
    "duration": 7,
    "start_time": "2023-03-26T18:09:42.445Z"
   },
   {
    "duration": 10,
    "start_time": "2023-03-26T18:09:44.377Z"
   },
   {
    "duration": 25,
    "start_time": "2023-03-26T18:10:39.680Z"
   },
   {
    "duration": 16,
    "start_time": "2023-03-26T18:11:11.636Z"
   },
   {
    "duration": 37,
    "start_time": "2023-03-26T18:11:32.009Z"
   },
   {
    "duration": 27,
    "start_time": "2023-03-26T18:11:40.556Z"
   },
   {
    "duration": 23,
    "start_time": "2023-03-26T18:11:51.059Z"
   },
   {
    "duration": 16,
    "start_time": "2023-03-26T18:11:57.291Z"
   },
   {
    "duration": 12,
    "start_time": "2023-03-26T18:12:05.527Z"
   },
   {
    "duration": 13,
    "start_time": "2023-03-26T18:12:12.885Z"
   },
   {
    "duration": 13,
    "start_time": "2023-03-26T18:12:44.729Z"
   },
   {
    "duration": 1408,
    "start_time": "2023-03-26T18:13:23.540Z"
   },
   {
    "duration": 1376,
    "start_time": "2023-03-26T18:13:55.506Z"
   },
   {
    "duration": 11,
    "start_time": "2023-03-26T18:14:17.665Z"
   },
   {
    "duration": 12,
    "start_time": "2023-03-26T18:14:23.566Z"
   },
   {
    "duration": 12,
    "start_time": "2023-03-26T18:15:09.238Z"
   },
   {
    "duration": 12,
    "start_time": "2023-03-26T18:15:16.168Z"
   },
   {
    "duration": 1455,
    "start_time": "2023-03-26T18:17:53.836Z"
   },
   {
    "duration": 43,
    "start_time": "2023-03-26T18:17:55.293Z"
   },
   {
    "duration": 20,
    "start_time": "2023-03-26T18:17:55.338Z"
   },
   {
    "duration": 13,
    "start_time": "2023-03-26T18:17:55.359Z"
   },
   {
    "duration": 53,
    "start_time": "2023-03-26T18:17:55.375Z"
   },
   {
    "duration": 889,
    "start_time": "2023-03-26T18:17:55.430Z"
   },
   {
    "duration": 6013,
    "start_time": "2023-03-26T18:17:56.323Z"
   },
   {
    "duration": 11,
    "start_time": "2023-03-26T18:18:02.338Z"
   },
   {
    "duration": 21,
    "start_time": "2023-03-26T18:18:02.350Z"
   },
   {
    "duration": 11,
    "start_time": "2023-03-26T18:18:02.373Z"
   },
   {
    "duration": 23,
    "start_time": "2023-03-26T18:18:02.385Z"
   },
   {
    "duration": 35,
    "start_time": "2023-03-26T18:18:02.410Z"
   },
   {
    "duration": 9,
    "start_time": "2023-03-26T18:18:02.448Z"
   },
   {
    "duration": 109,
    "start_time": "2023-03-26T18:18:13.203Z"
   },
   {
    "duration": 14,
    "start_time": "2023-03-26T18:18:16.980Z"
   },
   {
    "duration": 5,
    "start_time": "2023-03-26T18:18:20.778Z"
   },
   {
    "duration": 6,
    "start_time": "2023-03-26T18:18:25.863Z"
   },
   {
    "duration": 7,
    "start_time": "2023-03-26T18:23:01.694Z"
   },
   {
    "duration": 19,
    "start_time": "2023-03-26T18:23:05.019Z"
   },
   {
    "duration": 12,
    "start_time": "2023-03-26T18:24:05.416Z"
   },
   {
    "duration": 23,
    "start_time": "2023-03-26T18:24:15.503Z"
   },
   {
    "duration": 8,
    "start_time": "2023-03-26T18:24:37.654Z"
   },
   {
    "duration": 15,
    "start_time": "2023-03-26T18:24:41.454Z"
   },
   {
    "duration": 1457,
    "start_time": "2023-03-26T18:25:43.894Z"
   },
   {
    "duration": 41,
    "start_time": "2023-03-26T18:25:45.354Z"
   },
   {
    "duration": 20,
    "start_time": "2023-03-26T18:25:45.397Z"
   },
   {
    "duration": 14,
    "start_time": "2023-03-26T18:25:45.419Z"
   },
   {
    "duration": 44,
    "start_time": "2023-03-26T18:25:45.436Z"
   },
   {
    "duration": 896,
    "start_time": "2023-03-26T18:25:45.482Z"
   },
   {
    "duration": 5728,
    "start_time": "2023-03-26T18:25:46.380Z"
   },
   {
    "duration": 13,
    "start_time": "2023-03-26T18:25:52.109Z"
   },
   {
    "duration": 15,
    "start_time": "2023-03-26T18:25:52.124Z"
   },
   {
    "duration": 1563,
    "start_time": "2023-03-26T18:25:59.396Z"
   },
   {
    "duration": 43,
    "start_time": "2023-03-26T18:26:00.961Z"
   },
   {
    "duration": 21,
    "start_time": "2023-03-26T18:26:01.006Z"
   },
   {
    "duration": 38,
    "start_time": "2023-03-26T18:26:01.028Z"
   },
   {
    "duration": 71,
    "start_time": "2023-03-26T18:26:01.068Z"
   },
   {
    "duration": 968,
    "start_time": "2023-03-26T18:26:01.140Z"
   },
   {
    "duration": 5739,
    "start_time": "2023-03-26T18:26:02.109Z"
   },
   {
    "duration": 12,
    "start_time": "2023-03-26T18:26:07.849Z"
   },
   {
    "duration": 14,
    "start_time": "2023-03-26T18:26:07.863Z"
   },
   {
    "duration": 9,
    "start_time": "2023-03-26T18:26:09.456Z"
   },
   {
    "duration": 123,
    "start_time": "2023-03-26T18:26:40.520Z"
   },
   {
    "duration": 1376,
    "start_time": "2023-03-26T18:27:05.983Z"
   },
   {
    "duration": 44,
    "start_time": "2023-03-26T18:27:07.361Z"
   },
   {
    "duration": 20,
    "start_time": "2023-03-26T18:27:07.407Z"
   },
   {
    "duration": 25,
    "start_time": "2023-03-26T18:27:07.430Z"
   },
   {
    "duration": 44,
    "start_time": "2023-03-26T18:27:07.457Z"
   },
   {
    "duration": 925,
    "start_time": "2023-03-26T18:27:07.503Z"
   },
   {
    "duration": 5858,
    "start_time": "2023-03-26T18:27:08.430Z"
   },
   {
    "duration": 13,
    "start_time": "2023-03-26T18:27:14.290Z"
   },
   {
    "duration": 16,
    "start_time": "2023-03-26T18:27:14.306Z"
   },
   {
    "duration": 11,
    "start_time": "2023-03-26T18:27:14.325Z"
   },
   {
    "duration": 26,
    "start_time": "2023-03-26T18:27:14.337Z"
   },
   {
    "duration": 28,
    "start_time": "2023-03-26T18:27:14.366Z"
   },
   {
    "duration": 134,
    "start_time": "2023-03-26T18:27:14.396Z"
   },
   {
    "duration": 6,
    "start_time": "2023-03-26T18:27:17.580Z"
   },
   {
    "duration": 13,
    "start_time": "2023-03-26T18:27:20.932Z"
   },
   {
    "duration": 6,
    "start_time": "2023-03-26T18:28:44.581Z"
   },
   {
    "duration": 12,
    "start_time": "2023-03-26T18:28:47.713Z"
   },
   {
    "duration": 1446,
    "start_time": "2023-03-26T18:29:06.097Z"
   },
   {
    "duration": 42,
    "start_time": "2023-03-26T18:29:07.545Z"
   },
   {
    "duration": 19,
    "start_time": "2023-03-26T18:29:07.588Z"
   },
   {
    "duration": 18,
    "start_time": "2023-03-26T18:29:07.609Z"
   },
   {
    "duration": 41,
    "start_time": "2023-03-26T18:29:07.629Z"
   },
   {
    "duration": 887,
    "start_time": "2023-03-26T18:29:07.671Z"
   },
   {
    "duration": 5784,
    "start_time": "2023-03-26T18:29:08.559Z"
   },
   {
    "duration": 13,
    "start_time": "2023-03-26T18:29:14.346Z"
   },
   {
    "duration": 20,
    "start_time": "2023-03-26T18:29:14.361Z"
   },
   {
    "duration": 10,
    "start_time": "2023-03-26T18:29:14.384Z"
   },
   {
    "duration": 34,
    "start_time": "2023-03-26T18:29:14.396Z"
   },
   {
    "duration": 21,
    "start_time": "2023-03-26T18:29:14.432Z"
   },
   {
    "duration": 7,
    "start_time": "2023-03-26T18:29:14.455Z"
   },
   {
    "duration": 17,
    "start_time": "2023-03-26T18:29:26.145Z"
   },
   {
    "duration": 8,
    "start_time": "2023-03-26T18:29:33.276Z"
   },
   {
    "duration": 16,
    "start_time": "2023-03-26T18:29:36.122Z"
   },
   {
    "duration": 36,
    "start_time": "2023-03-26T18:30:20.824Z"
   },
   {
    "duration": 11,
    "start_time": "2023-03-26T18:30:56.924Z"
   },
   {
    "duration": 11,
    "start_time": "2023-03-26T18:31:06.048Z"
   },
   {
    "duration": 5,
    "start_time": "2023-03-26T18:31:31.012Z"
   },
   {
    "duration": 5,
    "start_time": "2023-03-26T18:31:34.476Z"
   },
   {
    "duration": 9,
    "start_time": "2023-03-26T18:33:22.823Z"
   },
   {
    "duration": 11,
    "start_time": "2023-03-26T18:33:25.887Z"
   },
   {
    "duration": 12,
    "start_time": "2023-03-26T18:33:57.860Z"
   },
   {
    "duration": 13,
    "start_time": "2023-03-26T18:35:10.715Z"
   },
   {
    "duration": 11,
    "start_time": "2023-03-26T18:35:27.368Z"
   },
   {
    "duration": 1406,
    "start_time": "2023-03-26T18:35:38.252Z"
   },
   {
    "duration": 43,
    "start_time": "2023-03-26T18:35:39.660Z"
   },
   {
    "duration": 23,
    "start_time": "2023-03-26T18:35:39.705Z"
   },
   {
    "duration": 12,
    "start_time": "2023-03-26T18:35:39.730Z"
   },
   {
    "duration": 41,
    "start_time": "2023-03-26T18:35:39.744Z"
   },
   {
    "duration": 996,
    "start_time": "2023-03-26T18:35:39.787Z"
   },
   {
    "duration": 5539,
    "start_time": "2023-03-26T18:35:40.784Z"
   },
   {
    "duration": 13,
    "start_time": "2023-03-26T18:35:46.325Z"
   },
   {
    "duration": 14,
    "start_time": "2023-03-26T18:35:46.340Z"
   },
   {
    "duration": 8,
    "start_time": "2023-03-26T18:35:46.356Z"
   },
   {
    "duration": 17,
    "start_time": "2023-03-26T18:35:46.366Z"
   },
   {
    "duration": 58,
    "start_time": "2023-03-26T18:35:46.385Z"
   },
   {
    "duration": 7,
    "start_time": "2023-03-26T18:35:46.445Z"
   },
   {
    "duration": 14,
    "start_time": "2023-03-26T18:35:50.035Z"
   },
   {
    "duration": 1499,
    "start_time": "2023-03-26T18:35:59.986Z"
   },
   {
    "duration": 44,
    "start_time": "2023-03-26T18:36:01.487Z"
   },
   {
    "duration": 20,
    "start_time": "2023-03-26T18:36:01.532Z"
   },
   {
    "duration": 49,
    "start_time": "2023-03-26T18:36:01.554Z"
   },
   {
    "duration": 76,
    "start_time": "2023-03-26T18:36:01.605Z"
   },
   {
    "duration": 884,
    "start_time": "2023-03-26T18:36:01.683Z"
   },
   {
    "duration": 5579,
    "start_time": "2023-03-26T18:36:02.569Z"
   },
   {
    "duration": 11,
    "start_time": "2023-03-26T18:36:08.149Z"
   },
   {
    "duration": 13,
    "start_time": "2023-03-26T18:36:08.161Z"
   },
   {
    "duration": 9,
    "start_time": "2023-03-26T18:36:08.176Z"
   },
   {
    "duration": 34,
    "start_time": "2023-03-26T18:36:08.187Z"
   },
   {
    "duration": 21,
    "start_time": "2023-03-26T18:36:08.223Z"
   },
   {
    "duration": 7,
    "start_time": "2023-03-26T18:36:08.246Z"
   },
   {
    "duration": 13,
    "start_time": "2023-03-26T18:36:10.987Z"
   },
   {
    "duration": 12,
    "start_time": "2023-03-26T18:36:27.673Z"
   },
   {
    "duration": 121,
    "start_time": "2023-03-26T18:37:54.652Z"
   },
   {
    "duration": 17,
    "start_time": "2023-03-26T18:38:59.593Z"
   },
   {
    "duration": 18,
    "start_time": "2023-03-26T18:39:48.082Z"
   },
   {
    "duration": 18,
    "start_time": "2023-03-26T18:40:11.558Z"
   },
   {
    "duration": 7,
    "start_time": "2023-03-26T18:40:15.358Z"
   },
   {
    "duration": 11,
    "start_time": "2023-03-26T18:40:19.083Z"
   },
   {
    "duration": 6,
    "start_time": "2023-03-26T18:42:05.547Z"
   },
   {
    "duration": 11,
    "start_time": "2023-03-26T18:42:07.864Z"
   },
   {
    "duration": 5,
    "start_time": "2023-03-26T18:42:22.611Z"
   },
   {
    "duration": 6,
    "start_time": "2023-03-26T18:42:41.585Z"
   },
   {
    "duration": 6,
    "start_time": "2023-03-26T18:44:09.804Z"
   },
   {
    "duration": 21,
    "start_time": "2023-03-26T18:44:11.867Z"
   },
   {
    "duration": 4,
    "start_time": "2023-03-26T18:46:40.213Z"
   },
   {
    "duration": 78,
    "start_time": "2023-03-26T18:47:20.120Z"
   },
   {
    "duration": 8,
    "start_time": "2023-03-26T18:49:18.689Z"
   },
   {
    "duration": 12,
    "start_time": "2023-03-26T18:49:22.256Z"
   },
   {
    "duration": 5,
    "start_time": "2023-03-26T18:49:45.164Z"
   },
   {
    "duration": 5,
    "start_time": "2023-03-26T18:49:49.710Z"
   },
   {
    "duration": 5,
    "start_time": "2023-03-26T18:50:02.793Z"
   },
   {
    "duration": 6,
    "start_time": "2023-03-26T18:50:11.024Z"
   },
   {
    "duration": 5,
    "start_time": "2023-03-26T18:53:42.969Z"
   },
   {
    "duration": 7,
    "start_time": "2023-03-26T18:54:07.811Z"
   },
   {
    "duration": 7,
    "start_time": "2023-03-26T18:54:27.124Z"
   },
   {
    "duration": 8,
    "start_time": "2023-03-26T18:54:33.551Z"
   },
   {
    "duration": 7,
    "start_time": "2023-03-26T18:54:46.200Z"
   },
   {
    "duration": 6,
    "start_time": "2023-03-26T18:54:55.732Z"
   },
   {
    "duration": 8,
    "start_time": "2023-03-26T18:55:05.643Z"
   },
   {
    "duration": 6,
    "start_time": "2023-03-26T18:55:16.958Z"
   },
   {
    "duration": 7,
    "start_time": "2023-03-26T18:55:22.979Z"
   },
   {
    "duration": 7,
    "start_time": "2023-03-26T18:55:28.401Z"
   },
   {
    "duration": 7,
    "start_time": "2023-03-26T18:55:37.281Z"
   },
   {
    "duration": 6,
    "start_time": "2023-03-26T18:55:46.036Z"
   },
   {
    "duration": 9,
    "start_time": "2023-03-26T18:55:58.737Z"
   },
   {
    "duration": 6,
    "start_time": "2023-03-26T18:56:10.821Z"
   },
   {
    "duration": 7,
    "start_time": "2023-03-26T18:56:12.384Z"
   },
   {
    "duration": 6,
    "start_time": "2023-03-26T18:56:27.073Z"
   },
   {
    "duration": 6,
    "start_time": "2023-03-26T18:56:38.127Z"
   },
   {
    "duration": 8,
    "start_time": "2023-03-26T19:31:37.588Z"
   },
   {
    "duration": 11,
    "start_time": "2023-03-26T19:31:39.957Z"
   },
   {
    "duration": 6,
    "start_time": "2023-03-26T19:31:43.032Z"
   },
   {
    "duration": 6,
    "start_time": "2023-03-26T19:31:49.353Z"
   },
   {
    "duration": 6,
    "start_time": "2023-03-26T19:32:06.133Z"
   },
   {
    "duration": 16,
    "start_time": "2023-03-26T19:32:09.151Z"
   },
   {
    "duration": 6,
    "start_time": "2023-03-26T19:32:16.297Z"
   },
   {
    "duration": 11,
    "start_time": "2023-03-26T19:32:23.651Z"
   },
   {
    "duration": 12,
    "start_time": "2023-03-26T19:33:40.039Z"
   },
   {
    "duration": 15,
    "start_time": "2023-03-26T19:34:49.606Z"
   },
   {
    "duration": 22,
    "start_time": "2023-03-26T19:35:26.009Z"
   },
   {
    "duration": 18,
    "start_time": "2023-03-26T19:35:28.201Z"
   },
   {
    "duration": 6,
    "start_time": "2023-03-26T19:38:16.095Z"
   },
   {
    "duration": 15,
    "start_time": "2023-03-26T19:38:19.411Z"
   },
   {
    "duration": 1614,
    "start_time": "2023-03-28T02:53:51.188Z"
   },
   {
    "duration": 185,
    "start_time": "2023-03-28T02:53:52.804Z"
   },
   {
    "duration": 20,
    "start_time": "2023-03-28T02:53:52.991Z"
   },
   {
    "duration": 13,
    "start_time": "2023-03-28T02:53:53.013Z"
   },
   {
    "duration": 55,
    "start_time": "2023-03-28T02:53:53.028Z"
   },
   {
    "duration": 940,
    "start_time": "2023-03-28T02:53:53.084Z"
   },
   {
    "duration": 6104,
    "start_time": "2023-03-28T02:53:54.026Z"
   },
   {
    "duration": 23,
    "start_time": "2023-03-28T02:54:00.131Z"
   },
   {
    "duration": 30,
    "start_time": "2023-03-28T02:54:00.156Z"
   },
   {
    "duration": 25,
    "start_time": "2023-03-28T02:54:00.188Z"
   },
   {
    "duration": 54,
    "start_time": "2023-03-28T02:54:00.215Z"
   },
   {
    "duration": 28,
    "start_time": "2023-03-28T02:54:00.271Z"
   },
   {
    "duration": 67,
    "start_time": "2023-03-28T02:54:00.302Z"
   },
   {
    "duration": 0,
    "start_time": "2023-03-28T02:54:00.370Z"
   },
   {
    "duration": 81,
    "start_time": "2023-03-28T02:54:18.616Z"
   },
   {
    "duration": 69,
    "start_time": "2023-03-28T02:55:11.085Z"
   },
   {
    "duration": 6,
    "start_time": "2023-03-28T02:55:31.802Z"
   },
   {
    "duration": 18,
    "start_time": "2023-03-28T02:55:39.045Z"
   },
   {
    "duration": 71,
    "start_time": "2023-03-28T02:55:44.132Z"
   },
   {
    "duration": 7,
    "start_time": "2023-03-28T02:55:47.722Z"
   },
   {
    "duration": 17,
    "start_time": "2023-03-28T02:56:55.106Z"
   },
   {
    "duration": 130,
    "start_time": "2023-03-28T02:57:12.393Z"
   },
   {
    "duration": 14,
    "start_time": "2023-03-28T02:57:52.684Z"
   },
   {
    "duration": 17,
    "start_time": "2023-03-28T02:59:09.628Z"
   },
   {
    "duration": 8,
    "start_time": "2023-03-28T02:59:12.649Z"
   },
   {
    "duration": 20,
    "start_time": "2023-03-28T02:59:15.607Z"
   },
   {
    "duration": 7,
    "start_time": "2023-03-28T03:01:51.047Z"
   },
   {
    "duration": 18,
    "start_time": "2023-03-28T03:01:54.186Z"
   },
   {
    "duration": 7,
    "start_time": "2023-03-28T03:02:21.891Z"
   },
   {
    "duration": 23,
    "start_time": "2023-03-28T03:02:24.858Z"
   },
   {
    "duration": 13,
    "start_time": "2023-03-28T03:08:21.528Z"
   },
   {
    "duration": 17,
    "start_time": "2023-03-28T03:08:23.979Z"
   },
   {
    "duration": 9,
    "start_time": "2023-03-28T03:08:49.526Z"
   },
   {
    "duration": 24,
    "start_time": "2023-03-28T03:08:52.257Z"
   },
   {
    "duration": 11,
    "start_time": "2023-03-28T03:09:13.452Z"
   },
   {
    "duration": 28,
    "start_time": "2023-03-28T03:09:16.675Z"
   },
   {
    "duration": 7,
    "start_time": "2023-03-28T03:09:41.687Z"
   },
   {
    "duration": 22,
    "start_time": "2023-03-28T03:09:44.350Z"
   },
   {
    "duration": 12,
    "start_time": "2023-03-28T03:12:38.251Z"
   },
   {
    "duration": 21,
    "start_time": "2023-03-28T03:12:40.170Z"
   },
   {
    "duration": 19,
    "start_time": "2023-03-28T03:13:49.036Z"
   },
   {
    "duration": 16,
    "start_time": "2023-03-28T03:13:51.983Z"
   },
   {
    "duration": 7,
    "start_time": "2023-03-28T03:13:56.203Z"
   },
   {
    "duration": 20,
    "start_time": "2023-03-28T03:13:58.195Z"
   },
   {
    "duration": 10,
    "start_time": "2023-03-28T03:16:34.210Z"
   },
   {
    "duration": 26,
    "start_time": "2023-03-28T03:16:36.129Z"
   },
   {
    "duration": 22,
    "start_time": "2023-03-28T03:17:40.339Z"
   },
   {
    "duration": 6,
    "start_time": "2023-03-28T03:18:12.003Z"
   },
   {
    "duration": 7,
    "start_time": "2023-03-28T03:19:04.370Z"
   },
   {
    "duration": 16,
    "start_time": "2023-03-28T03:20:55.322Z"
   },
   {
    "duration": 2249,
    "start_time": "2023-03-28T03:21:07.762Z"
   },
   {
    "duration": 97,
    "start_time": "2023-03-28T03:21:10.013Z"
   },
   {
    "duration": 38,
    "start_time": "2023-03-28T03:21:10.113Z"
   },
   {
    "duration": 50,
    "start_time": "2023-03-28T03:21:10.153Z"
   },
   {
    "duration": 94,
    "start_time": "2023-03-28T03:21:10.206Z"
   },
   {
    "duration": 1267,
    "start_time": "2023-03-28T03:21:10.303Z"
   },
   {
    "duration": 8546,
    "start_time": "2023-03-28T03:21:11.576Z"
   },
   {
    "duration": 16,
    "start_time": "2023-03-28T03:21:20.124Z"
   },
   {
    "duration": 36,
    "start_time": "2023-03-28T03:21:20.147Z"
   },
   {
    "duration": 18,
    "start_time": "2023-03-28T03:21:20.185Z"
   },
   {
    "duration": 20,
    "start_time": "2023-03-28T03:21:20.205Z"
   },
   {
    "duration": 39,
    "start_time": "2023-03-28T03:21:20.227Z"
   },
   {
    "duration": 12,
    "start_time": "2023-03-28T03:21:20.269Z"
   },
   {
    "duration": 27,
    "start_time": "2023-03-28T03:21:20.285Z"
   },
   {
    "duration": 38,
    "start_time": "2023-03-28T03:21:20.314Z"
   },
   {
    "duration": 18,
    "start_time": "2023-03-28T03:21:28.508Z"
   },
   {
    "duration": 7,
    "start_time": "2023-03-28T03:22:54.291Z"
   },
   {
    "duration": 9,
    "start_time": "2023-03-28T03:22:56.954Z"
   },
   {
    "duration": 139,
    "start_time": "2023-03-28T03:22:58.754Z"
   },
   {
    "duration": 7,
    "start_time": "2023-03-28T03:23:01.868Z"
   },
   {
    "duration": 10,
    "start_time": "2023-03-28T03:23:06.191Z"
   },
   {
    "duration": 6,
    "start_time": "2023-03-28T03:23:12.108Z"
   },
   {
    "duration": 7,
    "start_time": "2023-03-28T03:25:44.805Z"
   },
   {
    "duration": 16,
    "start_time": "2023-03-28T03:25:47.371Z"
   },
   {
    "duration": 18,
    "start_time": "2023-03-28T03:25:56.949Z"
   },
   {
    "duration": 64,
    "start_time": "2023-03-28T03:26:24.856Z"
   },
   {
    "duration": 8,
    "start_time": "2023-03-28T03:26:40.513Z"
   },
   {
    "duration": 19,
    "start_time": "2023-03-28T03:26:43.410Z"
   },
   {
    "duration": 6,
    "start_time": "2023-03-28T04:30:22.654Z"
   },
   {
    "duration": 57,
    "start_time": "2023-03-28T04:46:54.696Z"
   },
   {
    "duration": 4,
    "start_time": "2023-03-28T04:50:40.491Z"
   },
   {
    "duration": 3,
    "start_time": "2023-03-28T04:51:02.104Z"
   },
   {
    "duration": 25,
    "start_time": "2023-03-28T04:51:08.052Z"
   },
   {
    "duration": 4,
    "start_time": "2023-03-28T04:51:16.190Z"
   },
   {
    "duration": 53,
    "start_time": "2023-03-28T04:51:18.418Z"
   },
   {
    "duration": 69,
    "start_time": "2023-03-28T05:29:01.492Z"
   },
   {
    "duration": 5,
    "start_time": "2023-03-28T05:31:26.562Z"
   },
   {
    "duration": 55,
    "start_time": "2023-03-28T05:31:41.202Z"
   },
   {
    "duration": 5,
    "start_time": "2023-03-28T05:31:50.948Z"
   },
   {
    "duration": 12,
    "start_time": "2023-03-28T05:32:11.205Z"
   },
   {
    "duration": 3,
    "start_time": "2023-03-28T05:32:20.858Z"
   },
   {
    "duration": 7,
    "start_time": "2023-03-28T05:32:44.071Z"
   },
   {
    "duration": 15,
    "start_time": "2023-03-28T05:32:46.083Z"
   },
   {
    "duration": 5,
    "start_time": "2023-03-28T05:34:14.555Z"
   },
   {
    "duration": 61,
    "start_time": "2023-03-28T05:34:16.551Z"
   },
   {
    "duration": 5,
    "start_time": "2023-03-28T05:35:38.686Z"
   },
   {
    "duration": 32,
    "start_time": "2023-03-28T05:35:41.538Z"
   },
   {
    "duration": 5,
    "start_time": "2023-03-28T05:35:50.593Z"
   },
   {
    "duration": 6,
    "start_time": "2023-03-28T05:36:55.200Z"
   },
   {
    "duration": 68,
    "start_time": "2023-03-28T05:36:58.017Z"
   },
   {
    "duration": 5,
    "start_time": "2023-03-28T05:37:42.582Z"
   },
   {
    "duration": 28,
    "start_time": "2023-03-28T05:37:45.721Z"
   },
   {
    "duration": 66,
    "start_time": "2023-03-28T05:38:50.709Z"
   },
   {
    "duration": 52,
    "start_time": "2023-03-28T05:38:59.346Z"
   },
   {
    "duration": 5,
    "start_time": "2023-03-28T05:39:04.220Z"
   },
   {
    "duration": 1880,
    "start_time": "2023-03-28T05:40:08.281Z"
   },
   {
    "duration": 43,
    "start_time": "2023-03-28T05:40:10.163Z"
   },
   {
    "duration": 19,
    "start_time": "2023-03-28T05:40:10.208Z"
   },
   {
    "duration": 24,
    "start_time": "2023-03-28T05:40:10.229Z"
   },
   {
    "duration": 47,
    "start_time": "2023-03-28T05:40:10.256Z"
   },
   {
    "duration": 11,
    "start_time": "2023-03-28T05:40:10.304Z"
   },
   {
    "duration": 1014,
    "start_time": "2023-03-28T05:40:10.318Z"
   },
   {
    "duration": 6611,
    "start_time": "2023-03-28T05:40:11.334Z"
   },
   {
    "duration": 15,
    "start_time": "2023-03-28T05:40:17.948Z"
   },
   {
    "duration": 10,
    "start_time": "2023-03-28T05:40:17.965Z"
   },
   {
    "duration": 20,
    "start_time": "2023-03-28T05:40:17.977Z"
   },
   {
    "duration": 59,
    "start_time": "2023-03-28T05:40:17.999Z"
   },
   {
    "duration": 7,
    "start_time": "2023-03-28T05:40:18.061Z"
   },
   {
    "duration": 40,
    "start_time": "2023-03-28T05:40:18.071Z"
   },
   {
    "duration": 8,
    "start_time": "2023-03-28T05:40:18.113Z"
   },
   {
    "duration": 38,
    "start_time": "2023-03-28T05:40:18.123Z"
   },
   {
    "duration": 5,
    "start_time": "2023-03-28T05:40:20.170Z"
   },
   {
    "duration": 141,
    "start_time": "2023-03-28T05:40:22.854Z"
   },
   {
    "duration": 5,
    "start_time": "2023-03-28T05:44:59.191Z"
   },
   {
    "duration": 24,
    "start_time": "2023-03-28T05:45:01.286Z"
   },
   {
    "duration": 57,
    "start_time": "2023-03-28T05:46:34.450Z"
   },
   {
    "duration": 9,
    "start_time": "2023-03-28T05:46:40.664Z"
   },
   {
    "duration": 23,
    "start_time": "2023-03-28T05:46:43.056Z"
   },
   {
    "duration": 5,
    "start_time": "2023-03-28T05:46:52.618Z"
   },
   {
    "duration": 14,
    "start_time": "2023-03-28T05:46:55.259Z"
   },
   {
    "duration": 22,
    "start_time": "2023-03-28T05:47:40.431Z"
   },
   {
    "duration": 16,
    "start_time": "2023-03-28T05:47:43.079Z"
   },
   {
    "duration": 3,
    "start_time": "2023-03-28T05:49:15.297Z"
   },
   {
    "duration": 5,
    "start_time": "2023-03-28T05:49:44.370Z"
   },
   {
    "duration": 34,
    "start_time": "2023-03-28T05:49:46.932Z"
   },
   {
    "duration": 11,
    "start_time": "2023-03-28T05:50:18.060Z"
   },
   {
    "duration": 12,
    "start_time": "2023-03-28T05:50:20.407Z"
   },
   {
    "duration": 1644,
    "start_time": "2023-03-28T05:50:34.681Z"
   },
   {
    "duration": 58,
    "start_time": "2023-03-28T05:50:36.327Z"
   },
   {
    "duration": 19,
    "start_time": "2023-03-28T05:50:36.387Z"
   },
   {
    "duration": 15,
    "start_time": "2023-03-28T05:50:36.408Z"
   },
   {
    "duration": 54,
    "start_time": "2023-03-28T05:50:36.426Z"
   },
   {
    "duration": 10,
    "start_time": "2023-03-28T05:50:36.482Z"
   },
   {
    "duration": 1156,
    "start_time": "2023-03-28T05:50:36.493Z"
   },
   {
    "duration": 6667,
    "start_time": "2023-03-28T05:50:37.659Z"
   },
   {
    "duration": 38,
    "start_time": "2023-03-28T05:50:44.328Z"
   },
   {
    "duration": 10,
    "start_time": "2023-03-28T05:50:44.368Z"
   },
   {
    "duration": 21,
    "start_time": "2023-03-28T05:50:44.379Z"
   },
   {
    "duration": 44,
    "start_time": "2023-03-28T05:50:44.401Z"
   },
   {
    "duration": 12,
    "start_time": "2023-03-28T05:50:44.447Z"
   },
   {
    "duration": 23,
    "start_time": "2023-03-28T05:50:44.467Z"
   },
   {
    "duration": 6,
    "start_time": "2023-03-28T05:50:44.492Z"
   },
   {
    "duration": 27,
    "start_time": "2023-03-28T05:50:44.499Z"
   },
   {
    "duration": 24,
    "start_time": "2023-03-28T05:50:44.527Z"
   },
   {
    "duration": 135,
    "start_time": "2023-03-28T05:50:44.553Z"
   },
   {
    "duration": 0,
    "start_time": "2023-03-28T05:50:44.690Z"
   },
   {
    "duration": 0,
    "start_time": "2023-03-28T05:50:44.691Z"
   },
   {
    "duration": 0,
    "start_time": "2023-03-28T05:50:44.692Z"
   },
   {
    "duration": 0,
    "start_time": "2023-03-28T05:50:44.693Z"
   },
   {
    "duration": 0,
    "start_time": "2023-03-28T05:50:44.694Z"
   },
   {
    "duration": 5,
    "start_time": "2023-03-28T05:51:43.957Z"
   },
   {
    "duration": 4,
    "start_time": "2023-03-28T05:51:50.065Z"
   },
   {
    "duration": 5,
    "start_time": "2023-03-28T05:52:29.005Z"
   },
   {
    "duration": 14,
    "start_time": "2023-03-28T05:52:32.363Z"
   },
   {
    "duration": 5,
    "start_time": "2023-03-28T05:52:44.099Z"
   },
   {
    "duration": 26,
    "start_time": "2023-03-28T05:52:46.502Z"
   },
   {
    "duration": 60,
    "start_time": "2023-03-28T06:07:44.420Z"
   },
   {
    "duration": 10,
    "start_time": "2023-03-28T06:07:46.587Z"
   },
   {
    "duration": 21,
    "start_time": "2023-03-28T06:07:57.130Z"
   },
   {
    "duration": 16,
    "start_time": "2023-03-28T06:08:24.351Z"
   },
   {
    "duration": 9,
    "start_time": "2023-03-28T06:08:27.610Z"
   },
   {
    "duration": 11,
    "start_time": "2023-03-28T06:11:47.920Z"
   },
   {
    "duration": 7,
    "start_time": "2023-03-28T06:12:02.910Z"
   },
   {
    "duration": 1327,
    "start_time": "2023-03-28T06:12:41.587Z"
   },
   {
    "duration": 1378,
    "start_time": "2023-03-28T06:13:20.518Z"
   },
   {
    "duration": 46,
    "start_time": "2023-03-28T06:14:07.083Z"
   },
   {
    "duration": 49,
    "start_time": "2023-03-28T06:14:17.231Z"
   },
   {
    "duration": 44,
    "start_time": "2023-03-28T06:14:35.145Z"
   },
   {
    "duration": 36,
    "start_time": "2023-03-28T06:16:08.568Z"
   },
   {
    "duration": 35,
    "start_time": "2023-03-28T06:17:06.516Z"
   },
   {
    "duration": 31,
    "start_time": "2023-03-28T06:17:11.560Z"
   },
   {
    "duration": 22,
    "start_time": "2023-03-28T06:18:27.166Z"
   },
   {
    "duration": 17,
    "start_time": "2023-03-28T06:18:41.966Z"
   },
   {
    "duration": 59,
    "start_time": "2023-03-28T06:18:53.919Z"
   },
   {
    "duration": 18,
    "start_time": "2023-03-28T06:19:11.166Z"
   },
   {
    "duration": 15,
    "start_time": "2023-03-28T06:19:20.187Z"
   },
   {
    "duration": 20,
    "start_time": "2023-03-28T06:20:00.667Z"
   },
   {
    "duration": 37,
    "start_time": "2023-03-28T06:20:05.731Z"
   },
   {
    "duration": 39,
    "start_time": "2023-03-28T06:20:16.061Z"
   },
   {
    "duration": 47,
    "start_time": "2023-03-28T06:22:07.923Z"
   },
   {
    "duration": 16,
    "start_time": "2023-03-28T06:22:47.159Z"
   },
   {
    "duration": 10,
    "start_time": "2023-03-28T06:24:32.367Z"
   },
   {
    "duration": 18,
    "start_time": "2023-03-28T06:24:43.926Z"
   },
   {
    "duration": 25,
    "start_time": "2023-03-28T06:24:55.897Z"
   },
   {
    "duration": 36,
    "start_time": "2023-03-28T06:25:40.816Z"
   },
   {
    "duration": 17,
    "start_time": "2023-03-28T06:26:23.811Z"
   },
   {
    "duration": 26,
    "start_time": "2023-03-28T06:26:47.298Z"
   },
   {
    "duration": 16,
    "start_time": "2023-03-28T06:27:23.297Z"
   },
   {
    "duration": 14,
    "start_time": "2023-03-28T06:28:02.785Z"
   },
   {
    "duration": 42,
    "start_time": "2023-03-28T06:28:09.272Z"
   },
   {
    "duration": 20,
    "start_time": "2023-03-28T06:29:01.302Z"
   },
   {
    "duration": 61,
    "start_time": "2023-03-28T06:29:12.308Z"
   },
   {
    "duration": 54,
    "start_time": "2023-03-28T06:30:00.057Z"
   },
   {
    "duration": 21,
    "start_time": "2023-03-28T06:31:03.364Z"
   },
   {
    "duration": 14,
    "start_time": "2023-03-28T06:31:06.161Z"
   },
   {
    "duration": 19,
    "start_time": "2023-03-28T06:31:15.685Z"
   },
   {
    "duration": 16,
    "start_time": "2023-03-28T06:31:46.192Z"
   },
   {
    "duration": 15,
    "start_time": "2023-03-28T06:31:57.301Z"
   },
   {
    "duration": 14,
    "start_time": "2023-03-28T06:32:29.370Z"
   },
   {
    "duration": 21,
    "start_time": "2023-03-28T06:32:36.285Z"
   },
   {
    "duration": 11,
    "start_time": "2023-03-28T06:32:49.670Z"
   },
   {
    "duration": 15,
    "start_time": "2023-03-28T06:33:11.454Z"
   },
   {
    "duration": 11,
    "start_time": "2023-03-28T06:33:22.775Z"
   },
   {
    "duration": 10,
    "start_time": "2023-03-28T06:33:24.993Z"
   },
   {
    "duration": 10,
    "start_time": "2023-03-28T06:33:49.370Z"
   },
   {
    "duration": 10,
    "start_time": "2023-03-28T06:33:51.468Z"
   },
   {
    "duration": 10,
    "start_time": "2023-03-28T06:33:59.806Z"
   },
   {
    "duration": 23,
    "start_time": "2023-03-28T06:34:05.289Z"
   },
   {
    "duration": 20,
    "start_time": "2023-03-28T06:34:20.902Z"
   },
   {
    "duration": 13,
    "start_time": "2023-03-28T06:35:32.402Z"
   },
   {
    "duration": 15,
    "start_time": "2023-03-28T06:35:33.508Z"
   },
   {
    "duration": 18,
    "start_time": "2023-03-28T06:35:48.399Z"
   },
   {
    "duration": 10,
    "start_time": "2023-03-28T06:40:28.018Z"
   },
   {
    "duration": 16,
    "start_time": "2023-03-28T06:48:39.332Z"
   },
   {
    "duration": 6,
    "start_time": "2023-03-28T06:48:47.501Z"
   },
   {
    "duration": 7,
    "start_time": "2023-03-28T06:48:59.847Z"
   },
   {
    "duration": 7,
    "start_time": "2023-03-28T06:49:06.033Z"
   },
   {
    "duration": 18,
    "start_time": "2023-03-28T06:49:16.231Z"
   },
   {
    "duration": 6,
    "start_time": "2023-03-28T06:49:23.849Z"
   },
   {
    "duration": 21,
    "start_time": "2023-03-28T06:49:34.584Z"
   },
   {
    "duration": 1654,
    "start_time": "2023-03-28T06:49:52.342Z"
   },
   {
    "duration": 58,
    "start_time": "2023-03-28T06:49:53.998Z"
   },
   {
    "duration": 26,
    "start_time": "2023-03-28T06:49:54.058Z"
   },
   {
    "duration": 15,
    "start_time": "2023-03-28T06:49:54.086Z"
   },
   {
    "duration": 53,
    "start_time": "2023-03-28T06:49:54.103Z"
   },
   {
    "duration": 73,
    "start_time": "2023-03-28T06:49:54.158Z"
   },
   {
    "duration": 20,
    "start_time": "2023-03-28T06:49:54.237Z"
   },
   {
    "duration": 1012,
    "start_time": "2023-03-28T06:49:54.259Z"
   },
   {
    "duration": 6410,
    "start_time": "2023-03-28T06:49:55.272Z"
   },
   {
    "duration": 21,
    "start_time": "2023-03-28T06:50:01.685Z"
   },
   {
    "duration": 100,
    "start_time": "2023-03-28T06:50:01.708Z"
   },
   {
    "duration": 49,
    "start_time": "2023-03-28T06:50:01.810Z"
   },
   {
    "duration": 16,
    "start_time": "2023-03-28T06:50:01.861Z"
   },
   {
    "duration": 60,
    "start_time": "2023-03-28T06:50:01.879Z"
   },
   {
    "duration": 73,
    "start_time": "2023-03-28T06:50:01.943Z"
   },
   {
    "duration": 72,
    "start_time": "2023-03-28T06:50:02.019Z"
   },
   {
    "duration": 44,
    "start_time": "2023-03-28T06:50:02.093Z"
   },
   {
    "duration": 55,
    "start_time": "2023-03-28T06:50:02.139Z"
   },
   {
    "duration": 48,
    "start_time": "2023-03-28T06:50:02.196Z"
   },
   {
    "duration": 60,
    "start_time": "2023-03-28T06:50:02.246Z"
   },
   {
    "duration": 21,
    "start_time": "2023-03-28T06:50:02.308Z"
   },
   {
    "duration": 65,
    "start_time": "2023-03-28T06:50:02.331Z"
   },
   {
    "duration": 76,
    "start_time": "2023-03-28T06:50:02.398Z"
   },
   {
    "duration": 83,
    "start_time": "2023-03-28T06:50:02.475Z"
   },
   {
    "duration": 6,
    "start_time": "2023-03-28T06:50:05.401Z"
   },
   {
    "duration": 159,
    "start_time": "2023-03-28T06:50:08.053Z"
   },
   {
    "duration": 31,
    "start_time": "2023-03-28T06:55:04.793Z"
   },
   {
    "duration": 27,
    "start_time": "2023-03-28T06:55:11.249Z"
   },
   {
    "duration": 21,
    "start_time": "2023-03-28T06:58:48.465Z"
   },
   {
    "duration": 39,
    "start_time": "2023-03-28T06:58:54.811Z"
   },
   {
    "duration": 10,
    "start_time": "2023-03-28T07:02:19.729Z"
   },
   {
    "duration": 10,
    "start_time": "2023-03-28T07:03:14.756Z"
   },
   {
    "duration": 5,
    "start_time": "2023-03-28T07:04:34.270Z"
   },
   {
    "duration": 5,
    "start_time": "2023-03-28T07:04:42.464Z"
   },
   {
    "duration": 1711,
    "start_time": "2023-03-28T07:05:00.791Z"
   },
   {
    "duration": 56,
    "start_time": "2023-03-28T07:05:02.504Z"
   },
   {
    "duration": 23,
    "start_time": "2023-03-28T07:05:02.562Z"
   },
   {
    "duration": 42,
    "start_time": "2023-03-28T07:05:02.587Z"
   },
   {
    "duration": 52,
    "start_time": "2023-03-28T07:05:02.631Z"
   },
   {
    "duration": 76,
    "start_time": "2023-03-28T07:05:02.685Z"
   },
   {
    "duration": 10,
    "start_time": "2023-03-28T07:05:02.763Z"
   },
   {
    "duration": 1000,
    "start_time": "2023-03-28T07:05:02.775Z"
   },
   {
    "duration": 7364,
    "start_time": "2023-03-28T07:05:03.776Z"
   },
   {
    "duration": 25,
    "start_time": "2023-03-28T07:05:11.142Z"
   },
   {
    "duration": 103,
    "start_time": "2023-03-28T07:05:11.169Z"
   },
   {
    "duration": 103,
    "start_time": "2023-03-28T07:05:11.274Z"
   },
   {
    "duration": 84,
    "start_time": "2023-03-28T07:05:11.378Z"
   },
   {
    "duration": 78,
    "start_time": "2023-03-28T07:05:11.466Z"
   },
   {
    "duration": 9,
    "start_time": "2023-03-28T07:05:11.546Z"
   },
   {
    "duration": 15,
    "start_time": "2023-03-28T07:05:11.557Z"
   },
   {
    "duration": 70,
    "start_time": "2023-03-28T07:05:11.574Z"
   },
   {
    "duration": 12,
    "start_time": "2023-03-28T07:05:11.647Z"
   },
   {
    "duration": 111,
    "start_time": "2023-03-28T07:05:11.661Z"
   },
   {
    "duration": 103,
    "start_time": "2023-03-28T07:05:11.774Z"
   },
   {
    "duration": 8,
    "start_time": "2023-03-28T07:05:11.879Z"
   },
   {
    "duration": 96,
    "start_time": "2023-03-28T07:05:11.890Z"
   },
   {
    "duration": 11,
    "start_time": "2023-03-28T07:05:11.987Z"
   },
   {
    "duration": 148,
    "start_time": "2023-03-28T07:05:12.000Z"
   },
   {
    "duration": 8,
    "start_time": "2023-03-28T07:05:16.981Z"
   },
   {
    "duration": 24699,
    "start_time": "2023-03-28T07:05:28.246Z"
   },
   {
    "duration": 5,
    "start_time": "2023-03-28T07:06:29.327Z"
   },
   {
    "duration": 26052,
    "start_time": "2023-03-28T07:06:31.793Z"
   },
   {
    "duration": 5,
    "start_time": "2023-03-28T07:07:59.244Z"
   },
   {
    "duration": 27937,
    "start_time": "2023-03-28T07:08:01.199Z"
   },
   {
    "duration": 5,
    "start_time": "2023-03-28T07:10:08.647Z"
   },
   {
    "duration": 155,
    "start_time": "2023-03-28T07:10:10.672Z"
   },
   {
    "duration": 6,
    "start_time": "2023-03-28T07:10:52.821Z"
   },
   {
    "duration": 25101,
    "start_time": "2023-03-28T07:10:55.342Z"
   },
   {
    "duration": 274,
    "start_time": "2023-03-28T07:22:15.581Z"
   },
   {
    "duration": 5,
    "start_time": "2023-03-28T07:22:32.825Z"
   },
   {
    "duration": 9,
    "start_time": "2023-03-28T07:23:03.755Z"
   },
   {
    "duration": 13,
    "start_time": "2023-03-28T07:23:07.336Z"
   },
   {
    "duration": 14,
    "start_time": "2023-03-28T07:23:41.530Z"
   },
   {
    "duration": 29019,
    "start_time": "2023-03-28T07:23:44.132Z"
   },
   {
    "duration": 7,
    "start_time": "2023-03-28T07:24:13.154Z"
   },
   {
    "duration": 6,
    "start_time": "2023-03-28T07:24:30.723Z"
   },
   {
    "duration": 27132,
    "start_time": "2023-03-28T07:24:32.915Z"
   },
   {
    "duration": 5,
    "start_time": "2023-03-28T07:27:52.760Z"
   },
   {
    "duration": 28463,
    "start_time": "2023-03-28T07:27:55.281Z"
   },
   {
    "duration": 10,
    "start_time": "2023-03-28T07:37:36.858Z"
   },
   {
    "duration": 118,
    "start_time": "2023-03-28T07:37:39.619Z"
   },
   {
    "duration": 7,
    "start_time": "2023-03-28T07:38:10.314Z"
   },
   {
    "duration": 96,
    "start_time": "2023-03-28T07:38:12.262Z"
   },
   {
    "duration": 5,
    "start_time": "2023-03-28T07:38:32.455Z"
   },
   {
    "duration": 16,
    "start_time": "2023-03-28T07:40:34.535Z"
   },
   {
    "duration": 26995,
    "start_time": "2023-03-28T07:40:37.045Z"
   },
   {
    "duration": 86,
    "start_time": "2023-03-28T07:41:20.313Z"
   },
   {
    "duration": 124,
    "start_time": "2023-03-28T07:41:57.255Z"
   },
   {
    "duration": 7,
    "start_time": "2023-03-28T07:42:09.607Z"
   },
   {
    "duration": 26987,
    "start_time": "2023-03-28T07:42:12.260Z"
   },
   {
    "duration": 279,
    "start_time": "2023-03-28T07:44:06.278Z"
   },
   {
    "duration": 61,
    "start_time": "2023-03-28T07:44:22.066Z"
   },
   {
    "duration": 202,
    "start_time": "2023-03-28T07:44:44.023Z"
   },
   {
    "duration": 168,
    "start_time": "2023-03-28T07:44:58.720Z"
   },
   {
    "duration": 7,
    "start_time": "2023-03-28T07:47:15.891Z"
   },
   {
    "duration": 26976,
    "start_time": "2023-03-28T07:47:18.264Z"
   },
   {
    "duration": 7,
    "start_time": "2023-03-28T07:48:27.095Z"
   },
   {
    "duration": 26631,
    "start_time": "2023-03-28T07:48:45.312Z"
   },
   {
    "duration": 6,
    "start_time": "2023-03-28T07:49:33.475Z"
   },
   {
    "duration": 66,
    "start_time": "2023-03-28T07:49:57.965Z"
   },
   {
    "duration": 186,
    "start_time": "2023-03-28T07:50:13.611Z"
   },
   {
    "duration": 49,
    "start_time": "2023-03-28T07:50:21.372Z"
   },
   {
    "duration": 174,
    "start_time": "2023-03-28T07:50:45.295Z"
   },
   {
    "duration": 339,
    "start_time": "2023-03-28T07:50:54.117Z"
   },
   {
    "duration": 90,
    "start_time": "2023-03-28T07:51:03.228Z"
   },
   {
    "duration": 6,
    "start_time": "2023-03-28T07:51:08.264Z"
   },
   {
    "duration": 27570,
    "start_time": "2023-03-28T07:51:10.489Z"
   },
   {
    "duration": 19,
    "start_time": "2023-03-28T07:51:50.329Z"
   },
   {
    "duration": 28942,
    "start_time": "2023-03-28T07:51:53.002Z"
   },
   {
    "duration": 7,
    "start_time": "2023-03-28T07:53:22.717Z"
   },
   {
    "duration": 8,
    "start_time": "2023-03-28T07:53:26.859Z"
   },
   {
    "duration": 27580,
    "start_time": "2023-03-28T07:53:28.675Z"
   },
   {
    "duration": 14,
    "start_time": "2023-03-28T07:54:37.264Z"
   },
   {
    "duration": 28459,
    "start_time": "2023-03-28T07:54:39.601Z"
   },
   {
    "duration": 28640,
    "start_time": "2023-03-28T07:59:58.414Z"
   },
   {
    "duration": 218,
    "start_time": "2023-03-28T08:35:20.685Z"
   },
   {
    "duration": 6,
    "start_time": "2023-03-28T08:39:00.472Z"
   },
   {
    "duration": 115,
    "start_time": "2023-03-28T08:40:47.784Z"
   },
   {
    "duration": 96,
    "start_time": "2023-03-28T08:46:18.906Z"
   },
   {
    "duration": 14,
    "start_time": "2023-03-28T09:20:46.011Z"
   },
   {
    "duration": 11,
    "start_time": "2023-03-28T09:20:48.367Z"
   },
   {
    "duration": 14,
    "start_time": "2023-03-28T09:25:12.741Z"
   },
   {
    "duration": 10,
    "start_time": "2023-03-28T09:25:24.831Z"
   },
   {
    "duration": 11,
    "start_time": "2023-03-28T09:25:56.780Z"
   },
   {
    "duration": 15,
    "start_time": "2023-03-28T09:30:49.409Z"
   },
   {
    "duration": 11,
    "start_time": "2023-03-28T09:30:51.409Z"
   },
   {
    "duration": 1493,
    "start_time": "2023-03-28T09:31:24.159Z"
   },
   {
    "duration": 45,
    "start_time": "2023-03-28T09:31:25.654Z"
   },
   {
    "duration": 20,
    "start_time": "2023-03-28T09:31:25.700Z"
   },
   {
    "duration": 14,
    "start_time": "2023-03-28T09:31:25.722Z"
   },
   {
    "duration": 10,
    "start_time": "2023-03-28T09:31:25.738Z"
   },
   {
    "duration": 45,
    "start_time": "2023-03-28T09:31:25.749Z"
   },
   {
    "duration": 11,
    "start_time": "2023-03-28T09:31:25.796Z"
   },
   {
    "duration": 1050,
    "start_time": "2023-03-28T09:31:25.808Z"
   },
   {
    "duration": 6071,
    "start_time": "2023-03-28T09:31:26.861Z"
   },
   {
    "duration": 21,
    "start_time": "2023-03-28T09:31:32.934Z"
   },
   {
    "duration": 58,
    "start_time": "2023-03-28T09:31:32.957Z"
   },
   {
    "duration": 54,
    "start_time": "2023-03-28T09:31:33.017Z"
   },
   {
    "duration": 12,
    "start_time": "2023-03-28T09:31:33.073Z"
   },
   {
    "duration": 20,
    "start_time": "2023-03-28T09:31:33.089Z"
   },
   {
    "duration": 24,
    "start_time": "2023-03-28T09:31:33.112Z"
   },
   {
    "duration": 14,
    "start_time": "2023-03-28T09:31:33.138Z"
   },
   {
    "duration": 27,
    "start_time": "2023-03-28T09:31:33.153Z"
   },
   {
    "duration": 18,
    "start_time": "2023-03-28T09:31:33.182Z"
   },
   {
    "duration": 51,
    "start_time": "2023-03-28T09:31:33.202Z"
   },
   {
    "duration": 29,
    "start_time": "2023-03-28T09:31:33.255Z"
   },
   {
    "duration": 8,
    "start_time": "2023-03-28T09:31:33.286Z"
   },
   {
    "duration": 90,
    "start_time": "2023-03-28T09:31:33.296Z"
   },
   {
    "duration": 41,
    "start_time": "2023-03-28T09:31:33.388Z"
   },
   {
    "duration": 89,
    "start_time": "2023-03-28T09:31:33.431Z"
   },
   {
    "duration": 57,
    "start_time": "2023-03-28T09:31:33.522Z"
   },
   {
    "duration": 22466,
    "start_time": "2023-03-28T09:31:33.581Z"
   },
   {
    "duration": 197,
    "start_time": "2023-03-28T09:31:56.132Z"
   },
   {
    "duration": 86,
    "start_time": "2023-03-28T09:31:56.332Z"
   },
   {
    "duration": 23,
    "start_time": "2023-03-28T09:31:56.420Z"
   },
   {
    "duration": 19,
    "start_time": "2023-03-28T09:31:56.445Z"
   },
   {
    "duration": 176,
    "start_time": "2023-03-28T09:31:56.466Z"
   },
   {
    "duration": 10,
    "start_time": "2023-03-28T09:32:54.613Z"
   },
   {
    "duration": 240,
    "start_time": "2023-03-28T09:41:17.332Z"
   },
   {
    "duration": 269,
    "start_time": "2023-03-28T09:47:19.524Z"
   },
   {
    "duration": 281,
    "start_time": "2023-03-28T09:47:55.430Z"
   },
   {
    "duration": 1562,
    "start_time": "2023-03-28T09:48:30.700Z"
   },
   {
    "duration": 44,
    "start_time": "2023-03-28T09:48:32.264Z"
   },
   {
    "duration": 20,
    "start_time": "2023-03-28T09:48:32.310Z"
   },
   {
    "duration": 51,
    "start_time": "2023-03-28T09:48:32.333Z"
   },
   {
    "duration": 10,
    "start_time": "2023-03-28T09:48:32.386Z"
   },
   {
    "duration": 54,
    "start_time": "2023-03-28T09:48:32.397Z"
   },
   {
    "duration": 13,
    "start_time": "2023-03-28T09:48:32.453Z"
   },
   {
    "duration": 1060,
    "start_time": "2023-03-28T09:48:32.468Z"
   },
   {
    "duration": 6773,
    "start_time": "2023-03-28T09:48:33.530Z"
   },
   {
    "duration": 41,
    "start_time": "2023-03-28T09:48:40.306Z"
   },
   {
    "duration": 46,
    "start_time": "2023-03-28T09:48:40.349Z"
   },
   {
    "duration": 67,
    "start_time": "2023-03-28T09:48:40.397Z"
   },
   {
    "duration": 12,
    "start_time": "2023-03-28T09:48:40.466Z"
   },
   {
    "duration": 25,
    "start_time": "2023-03-28T09:48:40.480Z"
   },
   {
    "duration": 17,
    "start_time": "2023-03-28T09:48:40.507Z"
   },
   {
    "duration": 20,
    "start_time": "2023-03-28T09:48:40.526Z"
   },
   {
    "duration": 34,
    "start_time": "2023-03-28T09:48:40.550Z"
   },
   {
    "duration": 12,
    "start_time": "2023-03-28T09:48:40.586Z"
   },
   {
    "duration": 25,
    "start_time": "2023-03-28T09:48:40.600Z"
   },
   {
    "duration": 41,
    "start_time": "2023-03-28T09:48:40.627Z"
   },
   {
    "duration": 7,
    "start_time": "2023-03-28T09:48:40.670Z"
   },
   {
    "duration": 23,
    "start_time": "2023-03-28T09:48:40.679Z"
   },
   {
    "duration": 7,
    "start_time": "2023-03-28T09:48:40.704Z"
   },
   {
    "duration": 50,
    "start_time": "2023-03-28T09:48:40.713Z"
   },
   {
    "duration": 6,
    "start_time": "2023-03-28T09:48:40.765Z"
   },
   {
    "duration": 27970,
    "start_time": "2023-03-28T09:48:40.773Z"
   },
   {
    "duration": 292,
    "start_time": "2023-03-28T09:49:08.749Z"
   },
   {
    "duration": 99,
    "start_time": "2023-03-28T09:49:09.049Z"
   },
   {
    "duration": 14,
    "start_time": "2023-03-28T09:49:09.150Z"
   },
   {
    "duration": 17,
    "start_time": "2023-03-28T09:49:09.166Z"
   },
   {
    "duration": 264,
    "start_time": "2023-03-28T09:55:21.889Z"
   },
   {
    "duration": 246,
    "start_time": "2023-03-28T09:56:20.169Z"
   },
   {
    "duration": 1626,
    "start_time": "2023-03-28T09:57:44.553Z"
   },
   {
    "duration": 46,
    "start_time": "2023-03-28T09:57:46.181Z"
   },
   {
    "duration": 23,
    "start_time": "2023-03-28T09:57:46.229Z"
   },
   {
    "duration": 16,
    "start_time": "2023-03-28T09:57:46.254Z"
   },
   {
    "duration": 9,
    "start_time": "2023-03-28T09:57:46.274Z"
   },
   {
    "duration": 77,
    "start_time": "2023-03-28T09:57:46.285Z"
   },
   {
    "duration": 12,
    "start_time": "2023-03-28T09:57:46.364Z"
   },
   {
    "duration": 977,
    "start_time": "2023-03-28T09:57:46.378Z"
   },
   {
    "duration": 6281,
    "start_time": "2023-03-28T09:57:47.357Z"
   },
   {
    "duration": 21,
    "start_time": "2023-03-28T09:57:53.640Z"
   },
   {
    "duration": 82,
    "start_time": "2023-03-28T09:57:53.663Z"
   },
   {
    "duration": 47,
    "start_time": "2023-03-28T09:57:53.747Z"
   },
   {
    "duration": 13,
    "start_time": "2023-03-28T09:57:53.796Z"
   },
   {
    "duration": 12,
    "start_time": "2023-03-28T09:57:53.835Z"
   },
   {
    "duration": 25,
    "start_time": "2023-03-28T09:57:53.850Z"
   },
   {
    "duration": 9,
    "start_time": "2023-03-28T09:57:53.877Z"
   },
   {
    "duration": 18,
    "start_time": "2023-03-28T09:57:53.887Z"
   },
   {
    "duration": 30,
    "start_time": "2023-03-28T09:57:53.907Z"
   },
   {
    "duration": 27,
    "start_time": "2023-03-28T09:57:53.939Z"
   },
   {
    "duration": 32,
    "start_time": "2023-03-28T09:57:53.969Z"
   },
   {
    "duration": 44,
    "start_time": "2023-03-28T09:57:54.002Z"
   },
   {
    "duration": 45,
    "start_time": "2023-03-28T09:57:54.049Z"
   },
   {
    "duration": 8,
    "start_time": "2023-03-28T09:57:54.095Z"
   },
   {
    "duration": 32,
    "start_time": "2023-03-28T09:57:54.106Z"
   },
   {
    "duration": 9,
    "start_time": "2023-03-28T09:57:54.140Z"
   },
   {
    "duration": 19584,
    "start_time": "2023-03-28T09:57:54.151Z"
   },
   {
    "duration": 196,
    "start_time": "2023-03-28T09:58:22.533Z"
   },
   {
    "duration": 57,
    "start_time": "2023-03-28T09:59:19.750Z"
   },
   {
    "duration": 58,
    "start_time": "2023-03-28T09:59:33.765Z"
   },
   {
    "duration": 211,
    "start_time": "2023-03-28T10:00:05.262Z"
   },
   {
    "duration": 1591,
    "start_time": "2023-03-28T10:00:52.396Z"
   },
   {
    "duration": 51,
    "start_time": "2023-03-28T10:00:53.990Z"
   },
   {
    "duration": 24,
    "start_time": "2023-03-28T10:00:54.043Z"
   },
   {
    "duration": 20,
    "start_time": "2023-03-28T10:00:54.069Z"
   },
   {
    "duration": 22,
    "start_time": "2023-03-28T10:00:54.093Z"
   },
   {
    "duration": 61,
    "start_time": "2023-03-28T10:00:54.117Z"
   },
   {
    "duration": 12,
    "start_time": "2023-03-28T10:00:54.180Z"
   },
   {
    "duration": 1018,
    "start_time": "2023-03-28T10:00:54.194Z"
   },
   {
    "duration": 6160,
    "start_time": "2023-03-28T10:00:55.215Z"
   },
   {
    "duration": 23,
    "start_time": "2023-03-28T10:01:01.378Z"
   },
   {
    "duration": 74,
    "start_time": "2023-03-28T10:01:01.403Z"
   },
   {
    "duration": 54,
    "start_time": "2023-03-28T10:01:01.479Z"
   },
   {
    "duration": 13,
    "start_time": "2023-03-28T10:01:01.536Z"
   },
   {
    "duration": 27,
    "start_time": "2023-03-28T10:01:01.552Z"
   },
   {
    "duration": 36,
    "start_time": "2023-03-28T10:01:01.582Z"
   },
   {
    "duration": 37,
    "start_time": "2023-03-28T10:01:01.620Z"
   },
   {
    "duration": 52,
    "start_time": "2023-03-28T10:01:01.658Z"
   },
   {
    "duration": 19,
    "start_time": "2023-03-28T10:01:01.712Z"
   },
   {
    "duration": 55,
    "start_time": "2023-03-28T10:01:01.733Z"
   },
   {
    "duration": 42,
    "start_time": "2023-03-28T10:01:01.789Z"
   },
   {
    "duration": 9,
    "start_time": "2023-03-28T10:01:01.833Z"
   },
   {
    "duration": 67,
    "start_time": "2023-03-28T10:01:01.844Z"
   },
   {
    "duration": 52,
    "start_time": "2023-03-28T10:01:01.913Z"
   },
   {
    "duration": 56,
    "start_time": "2023-03-28T10:01:01.967Z"
   },
   {
    "duration": 41,
    "start_time": "2023-03-28T10:01:02.025Z"
   },
   {
    "duration": 20369,
    "start_time": "2023-03-28T10:01:02.069Z"
   },
   {
    "duration": 300,
    "start_time": "2023-03-28T10:01:22.440Z"
   },
   {
    "duration": 97,
    "start_time": "2023-03-28T10:01:22.742Z"
   },
   {
    "duration": 15,
    "start_time": "2023-03-28T10:01:22.841Z"
   },
   {
    "duration": 9,
    "start_time": "2023-03-28T10:01:22.858Z"
   },
   {
    "duration": 286,
    "start_time": "2023-03-28T10:01:22.869Z"
   },
   {
    "duration": 4,
    "start_time": "2023-03-28T10:01:23.157Z"
   },
   {
    "duration": 1746,
    "start_time": "2023-03-28T10:16:22.654Z"
   },
   {
    "duration": 46,
    "start_time": "2023-03-28T10:16:24.403Z"
   },
   {
    "duration": 22,
    "start_time": "2023-03-28T10:16:24.451Z"
   },
   {
    "duration": 15,
    "start_time": "2023-03-28T10:16:24.475Z"
   },
   {
    "duration": 8,
    "start_time": "2023-03-28T10:16:24.493Z"
   },
   {
    "duration": 80,
    "start_time": "2023-03-28T10:16:24.503Z"
   },
   {
    "duration": 11,
    "start_time": "2023-03-28T10:16:24.585Z"
   },
   {
    "duration": 960,
    "start_time": "2023-03-28T10:16:24.598Z"
   },
   {
    "duration": 6602,
    "start_time": "2023-03-28T10:16:25.560Z"
   },
   {
    "duration": 21,
    "start_time": "2023-03-28T10:16:32.165Z"
   },
   {
    "duration": 71,
    "start_time": "2023-03-28T10:16:32.188Z"
   },
   {
    "duration": 43,
    "start_time": "2023-03-28T10:16:32.261Z"
   },
   {
    "duration": 11,
    "start_time": "2023-03-28T10:16:32.306Z"
   },
   {
    "duration": 45,
    "start_time": "2023-03-28T10:16:32.318Z"
   },
   {
    "duration": 8,
    "start_time": "2023-03-28T10:16:32.366Z"
   },
   {
    "duration": 24,
    "start_time": "2023-03-28T10:16:32.376Z"
   },
   {
    "duration": 43,
    "start_time": "2023-03-28T10:16:32.403Z"
   },
   {
    "duration": 30,
    "start_time": "2023-03-28T10:16:32.450Z"
   },
   {
    "duration": 26,
    "start_time": "2023-03-28T10:16:32.481Z"
   },
   {
    "duration": 28,
    "start_time": "2023-03-28T10:16:32.509Z"
   },
   {
    "duration": 11,
    "start_time": "2023-03-28T10:16:32.540Z"
   },
   {
    "duration": 42,
    "start_time": "2023-03-28T10:16:32.553Z"
   },
   {
    "duration": 8,
    "start_time": "2023-03-28T10:16:32.598Z"
   },
   {
    "duration": 39,
    "start_time": "2023-03-28T10:16:32.608Z"
   },
   {
    "duration": 6,
    "start_time": "2023-03-28T10:16:32.649Z"
   },
   {
    "duration": 25987,
    "start_time": "2023-03-28T10:16:32.657Z"
   },
   {
    "duration": 215,
    "start_time": "2023-03-28T10:16:58.646Z"
   },
   {
    "duration": 99,
    "start_time": "2023-03-28T10:16:58.865Z"
   },
   {
    "duration": 4,
    "start_time": "2023-03-28T10:16:58.966Z"
   },
   {
    "duration": 7,
    "start_time": "2023-03-28T10:16:58.971Z"
   },
   {
    "duration": 9,
    "start_time": "2023-03-28T10:16:58.980Z"
   },
   {
    "duration": 217,
    "start_time": "2023-03-28T10:16:58.991Z"
   },
   {
    "duration": 4,
    "start_time": "2023-03-28T10:25:32.434Z"
   },
   {
    "duration": 17,
    "start_time": "2023-03-28T10:27:54.887Z"
   },
   {
    "duration": 140,
    "start_time": "2023-03-28T10:28:59.451Z"
   },
   {
    "duration": 137,
    "start_time": "2023-03-28T10:31:01.261Z"
   },
   {
    "duration": 27,
    "start_time": "2023-03-28T10:31:07.782Z"
   },
   {
    "duration": 4,
    "start_time": "2023-03-28T10:31:14.253Z"
   },
   {
    "duration": 20,
    "start_time": "2023-03-28T10:31:19.306Z"
   },
   {
    "duration": 349,
    "start_time": "2023-03-28T10:34:09.024Z"
   },
   {
    "duration": 117,
    "start_time": "2023-03-28T10:37:11.908Z"
   },
   {
    "duration": 137,
    "start_time": "2023-03-28T10:50:21.072Z"
   },
   {
    "duration": 139,
    "start_time": "2023-03-28T10:50:38.915Z"
   },
   {
    "duration": 149,
    "start_time": "2023-03-28T10:50:56.806Z"
   },
   {
    "duration": 148,
    "start_time": "2023-03-28T10:51:23.276Z"
   },
   {
    "duration": 144,
    "start_time": "2023-03-28T10:51:32.425Z"
   },
   {
    "duration": 131,
    "start_time": "2023-03-28T10:51:41.257Z"
   },
   {
    "duration": 136,
    "start_time": "2023-03-28T10:52:00.801Z"
   },
   {
    "duration": 141,
    "start_time": "2023-03-28T10:52:11.346Z"
   },
   {
    "duration": 140,
    "start_time": "2023-03-28T10:52:48.523Z"
   },
   {
    "duration": 144,
    "start_time": "2023-03-28T10:53:07.585Z"
   },
   {
    "duration": 142,
    "start_time": "2023-03-28T10:57:57.616Z"
   },
   {
    "duration": 151,
    "start_time": "2023-03-28T10:58:08.064Z"
   },
   {
    "duration": 150,
    "start_time": "2023-03-28T10:58:52.794Z"
   },
   {
    "duration": 250,
    "start_time": "2023-03-28T10:58:59.033Z"
   },
   {
    "duration": 142,
    "start_time": "2023-03-28T10:59:11.173Z"
   },
   {
    "duration": 142,
    "start_time": "2023-03-28T10:59:16.045Z"
   },
   {
    "duration": 154,
    "start_time": "2023-03-28T10:59:44.153Z"
   },
   {
    "duration": 143,
    "start_time": "2023-03-28T10:59:49.037Z"
   },
   {
    "duration": 157,
    "start_time": "2023-03-28T11:00:02.305Z"
   },
   {
    "duration": 172,
    "start_time": "2023-03-28T11:00:20.409Z"
   },
   {
    "duration": 231,
    "start_time": "2023-03-28T11:00:35.167Z"
   },
   {
    "duration": 156,
    "start_time": "2023-03-28T11:00:43.239Z"
   },
   {
    "duration": 166,
    "start_time": "2023-03-28T11:00:49.968Z"
   },
   {
    "duration": 156,
    "start_time": "2023-03-28T11:00:55.067Z"
   },
   {
    "duration": 195,
    "start_time": "2023-03-28T11:01:08.121Z"
   },
   {
    "duration": 151,
    "start_time": "2023-03-28T11:01:14.794Z"
   },
   {
    "duration": 148,
    "start_time": "2023-03-28T11:02:16.061Z"
   },
   {
    "duration": 260,
    "start_time": "2023-03-28T11:02:27.273Z"
   },
   {
    "duration": 141,
    "start_time": "2023-03-28T11:02:35.515Z"
   },
   {
    "duration": 146,
    "start_time": "2023-03-28T11:02:42.280Z"
   },
   {
    "duration": 156,
    "start_time": "2023-03-28T11:02:51.728Z"
   },
   {
    "duration": 159,
    "start_time": "2023-03-28T11:05:27.650Z"
   },
   {
    "duration": 171,
    "start_time": "2023-03-28T11:05:47.932Z"
   },
   {
    "duration": 142,
    "start_time": "2023-03-28T11:06:18.979Z"
   },
   {
    "duration": 166,
    "start_time": "2023-03-28T11:06:39.577Z"
   },
   {
    "duration": 158,
    "start_time": "2023-03-28T11:07:10.938Z"
   },
   {
    "duration": 170,
    "start_time": "2023-03-28T11:07:26.407Z"
   },
   {
    "duration": 309,
    "start_time": "2023-03-28T11:07:33.522Z"
   },
   {
    "duration": 139,
    "start_time": "2023-03-28T11:07:45.786Z"
   },
   {
    "duration": 138,
    "start_time": "2023-03-28T11:07:53.817Z"
   },
   {
    "duration": 134,
    "start_time": "2023-03-28T11:07:58.284Z"
   },
   {
    "duration": 264,
    "start_time": "2023-03-28T11:08:03.312Z"
   },
   {
    "duration": 141,
    "start_time": "2023-03-28T11:08:07.467Z"
   },
   {
    "duration": 244,
    "start_time": "2023-03-28T11:12:57.782Z"
   },
   {
    "duration": 136,
    "start_time": "2023-03-28T11:14:31.095Z"
   },
   {
    "duration": 147,
    "start_time": "2023-03-28T11:14:38.017Z"
   },
   {
    "duration": 148,
    "start_time": "2023-03-28T11:14:48.873Z"
   },
   {
    "duration": 163,
    "start_time": "2023-03-28T11:16:15.505Z"
   },
   {
    "duration": 171,
    "start_time": "2023-03-28T11:16:40.608Z"
   },
   {
    "duration": 161,
    "start_time": "2023-03-28T11:17:30.450Z"
   },
   {
    "duration": 154,
    "start_time": "2023-03-28T11:18:07.630Z"
   },
   {
    "duration": 155,
    "start_time": "2023-03-28T11:18:11.220Z"
   },
   {
    "duration": 4,
    "start_time": "2023-03-28T11:20:08.414Z"
   },
   {
    "duration": 148,
    "start_time": "2023-03-28T11:20:21.197Z"
   },
   {
    "duration": 4,
    "start_time": "2023-03-28T11:21:34.694Z"
   },
   {
    "duration": 266,
    "start_time": "2023-03-28T11:21:48.653Z"
   },
   {
    "duration": 169,
    "start_time": "2023-03-28T11:21:59.802Z"
   },
   {
    "duration": 170,
    "start_time": "2023-03-28T11:22:13.976Z"
   },
   {
    "duration": 152,
    "start_time": "2023-03-28T11:22:19.507Z"
   },
   {
    "duration": 161,
    "start_time": "2023-03-28T11:22:22.937Z"
   },
   {
    "duration": 154,
    "start_time": "2023-03-28T11:22:30.409Z"
   },
   {
    "duration": 156,
    "start_time": "2023-03-28T11:22:42.540Z"
   },
   {
    "duration": 154,
    "start_time": "2023-03-28T11:23:06.353Z"
   },
   {
    "duration": 151,
    "start_time": "2023-03-28T11:23:55.733Z"
   },
   {
    "duration": 61,
    "start_time": "2023-03-28T11:26:54.449Z"
   },
   {
    "duration": 92,
    "start_time": "2023-03-28T11:27:00.892Z"
   },
   {
    "duration": 154,
    "start_time": "2023-03-28T11:27:03.709Z"
   },
   {
    "duration": 157,
    "start_time": "2023-03-28T11:27:51.258Z"
   },
   {
    "duration": 104,
    "start_time": "2023-03-28T11:28:02.331Z"
   },
   {
    "duration": 148,
    "start_time": "2023-03-28T11:28:07.987Z"
   },
   {
    "duration": 168,
    "start_time": "2023-03-28T11:28:15.830Z"
   },
   {
    "duration": 151,
    "start_time": "2023-03-28T11:28:28.373Z"
   },
   {
    "duration": 266,
    "start_time": "2023-03-28T11:28:37.250Z"
   },
   {
    "duration": 183,
    "start_time": "2023-03-28T11:28:53.082Z"
   },
   {
    "duration": 167,
    "start_time": "2023-03-28T11:33:36.056Z"
   },
   {
    "duration": 159,
    "start_time": "2023-03-28T11:33:41.923Z"
   },
   {
    "duration": 174,
    "start_time": "2023-03-28T11:35:23.783Z"
   },
   {
    "duration": 190,
    "start_time": "2023-03-28T11:35:27.914Z"
   },
   {
    "duration": 1572,
    "start_time": "2023-03-28T11:49:42.712Z"
   },
   {
    "duration": 43,
    "start_time": "2023-03-28T11:49:44.287Z"
   },
   {
    "duration": 27,
    "start_time": "2023-03-28T11:49:44.332Z"
   },
   {
    "duration": 14,
    "start_time": "2023-03-28T11:49:44.362Z"
   },
   {
    "duration": 15,
    "start_time": "2023-03-28T11:49:44.378Z"
   },
   {
    "duration": 62,
    "start_time": "2023-03-28T11:49:44.395Z"
   },
   {
    "duration": 10,
    "start_time": "2023-03-28T11:49:44.459Z"
   },
   {
    "duration": 912,
    "start_time": "2023-03-28T11:49:44.471Z"
   },
   {
    "duration": 5824,
    "start_time": "2023-03-28T11:49:45.385Z"
   },
   {
    "duration": 35,
    "start_time": "2023-03-28T11:49:51.212Z"
   },
   {
    "duration": 50,
    "start_time": "2023-03-28T11:49:51.249Z"
   },
   {
    "duration": 57,
    "start_time": "2023-03-28T11:49:51.301Z"
   },
   {
    "duration": 12,
    "start_time": "2023-03-28T11:49:51.360Z"
   },
   {
    "duration": 32,
    "start_time": "2023-03-28T11:49:51.374Z"
   },
   {
    "duration": 35,
    "start_time": "2023-03-28T11:49:51.408Z"
   },
   {
    "duration": 45,
    "start_time": "2023-03-28T11:49:51.445Z"
   },
   {
    "duration": 45,
    "start_time": "2023-03-28T11:49:51.492Z"
   },
   {
    "duration": 40,
    "start_time": "2023-03-28T11:49:51.539Z"
   },
   {
    "duration": 69,
    "start_time": "2023-03-28T11:49:51.581Z"
   },
   {
    "duration": 74,
    "start_time": "2023-03-28T11:49:51.653Z"
   },
   {
    "duration": 17,
    "start_time": "2023-03-28T11:49:51.729Z"
   },
   {
    "duration": 77,
    "start_time": "2023-03-28T11:49:51.748Z"
   },
   {
    "duration": 18,
    "start_time": "2023-03-28T11:49:51.827Z"
   },
   {
    "duration": 63,
    "start_time": "2023-03-28T11:49:51.846Z"
   },
   {
    "duration": 24,
    "start_time": "2023-03-28T11:49:51.911Z"
   },
   {
    "duration": 19801,
    "start_time": "2023-03-28T11:49:51.937Z"
   },
   {
    "duration": 279,
    "start_time": "2023-03-28T11:50:11.741Z"
   },
   {
    "duration": 128,
    "start_time": "2023-03-28T11:50:12.023Z"
   },
   {
    "duration": 3,
    "start_time": "2023-03-28T11:50:12.153Z"
   },
   {
    "duration": 8,
    "start_time": "2023-03-28T11:50:12.158Z"
   },
   {
    "duration": 9,
    "start_time": "2023-03-28T11:50:12.167Z"
   },
   {
    "duration": 221,
    "start_time": "2023-03-28T11:50:12.178Z"
   },
   {
    "duration": 20,
    "start_time": "2023-03-28T11:50:12.401Z"
   },
   {
    "duration": 491,
    "start_time": "2023-03-28T11:50:12.423Z"
   },
   {
    "duration": 20894,
    "start_time": "2023-03-28T11:50:40.343Z"
   },
   {
    "duration": 1668,
    "start_time": "2023-04-01T07:09:58.496Z"
   },
   {
    "duration": 189,
    "start_time": "2023-04-01T07:10:00.166Z"
   },
   {
    "duration": 39,
    "start_time": "2023-04-01T07:10:00.357Z"
   },
   {
    "duration": 35,
    "start_time": "2023-04-01T07:10:00.397Z"
   },
   {
    "duration": 74,
    "start_time": "2023-04-01T07:10:00.435Z"
   },
   {
    "duration": 55,
    "start_time": "2023-04-01T07:10:00.511Z"
   },
   {
    "duration": 29,
    "start_time": "2023-04-01T07:10:00.568Z"
   },
   {
    "duration": 856,
    "start_time": "2023-04-01T07:10:00.598Z"
   },
   {
    "duration": 5845,
    "start_time": "2023-04-01T07:10:01.456Z"
   },
   {
    "duration": 22,
    "start_time": "2023-04-01T07:10:07.303Z"
   },
   {
    "duration": 34,
    "start_time": "2023-04-01T07:10:07.326Z"
   },
   {
    "duration": 52,
    "start_time": "2023-04-01T07:10:07.362Z"
   },
   {
    "duration": 9,
    "start_time": "2023-04-01T07:10:07.416Z"
   },
   {
    "duration": 7,
    "start_time": "2023-04-01T07:10:07.429Z"
   },
   {
    "duration": 4,
    "start_time": "2023-04-01T07:10:07.438Z"
   },
   {
    "duration": 3,
    "start_time": "2023-04-01T07:10:07.444Z"
   },
   {
    "duration": 12,
    "start_time": "2023-04-01T07:10:07.449Z"
   },
   {
    "duration": 39,
    "start_time": "2023-04-01T07:10:07.462Z"
   },
   {
    "duration": 31,
    "start_time": "2023-04-01T07:10:07.503Z"
   },
   {
    "duration": 21,
    "start_time": "2023-04-01T07:10:07.536Z"
   },
   {
    "duration": 6,
    "start_time": "2023-04-01T07:10:07.559Z"
   },
   {
    "duration": 49,
    "start_time": "2023-04-01T07:10:07.567Z"
   },
   {
    "duration": 6,
    "start_time": "2023-04-01T07:10:07.618Z"
   },
   {
    "duration": 15,
    "start_time": "2023-04-01T07:10:07.626Z"
   },
   {
    "duration": 6,
    "start_time": "2023-04-01T07:10:07.643Z"
   },
   {
    "duration": 26455,
    "start_time": "2023-04-01T07:10:07.650Z"
   },
   {
    "duration": 244,
    "start_time": "2023-04-01T07:10:34.110Z"
   },
   {
    "duration": 96,
    "start_time": "2023-04-01T07:10:34.355Z"
   },
   {
    "duration": 2,
    "start_time": "2023-04-01T07:10:34.453Z"
   },
   {
    "duration": 8,
    "start_time": "2023-04-01T07:10:34.456Z"
   },
   {
    "duration": 13,
    "start_time": "2023-04-01T07:10:34.466Z"
   },
   {
    "duration": 227,
    "start_time": "2023-04-01T07:10:34.488Z"
   },
   {
    "duration": 14,
    "start_time": "2023-04-01T07:10:34.717Z"
   },
   {
    "duration": 376,
    "start_time": "2023-04-01T07:10:34.733Z"
   },
   {
    "duration": 40,
    "start_time": "2023-04-01T07:10:35.119Z"
   },
   {
    "duration": 1411,
    "start_time": "2023-04-01T07:11:34.813Z"
   },
   {
    "duration": 40,
    "start_time": "2023-04-01T07:11:36.226Z"
   },
   {
    "duration": 30,
    "start_time": "2023-04-01T07:11:36.268Z"
   },
   {
    "duration": 48,
    "start_time": "2023-04-01T07:11:36.300Z"
   },
   {
    "duration": 10,
    "start_time": "2023-04-01T07:11:36.351Z"
   },
   {
    "duration": 73,
    "start_time": "2023-04-01T07:11:36.363Z"
   },
   {
    "duration": 9,
    "start_time": "2023-04-01T07:11:36.437Z"
   },
   {
    "duration": 870,
    "start_time": "2023-04-01T07:11:36.447Z"
   },
   {
    "duration": 5976,
    "start_time": "2023-04-01T07:11:37.319Z"
   },
   {
    "duration": 24,
    "start_time": "2023-04-01T07:11:43.297Z"
   },
   {
    "duration": 37,
    "start_time": "2023-04-01T07:11:43.323Z"
   },
   {
    "duration": 42,
    "start_time": "2023-04-01T07:11:43.361Z"
   },
   {
    "duration": 18,
    "start_time": "2023-04-01T07:11:43.404Z"
   },
   {
    "duration": 8,
    "start_time": "2023-04-01T07:11:43.425Z"
   },
   {
    "duration": 11,
    "start_time": "2023-04-01T07:11:43.435Z"
   },
   {
    "duration": 18,
    "start_time": "2023-04-01T07:11:43.447Z"
   },
   {
    "duration": 52,
    "start_time": "2023-04-01T07:11:43.467Z"
   },
   {
    "duration": 9,
    "start_time": "2023-04-01T07:11:43.520Z"
   },
   {
    "duration": 37,
    "start_time": "2023-04-01T07:11:43.531Z"
   },
   {
    "duration": 45,
    "start_time": "2023-04-01T07:11:43.570Z"
   },
   {
    "duration": 6,
    "start_time": "2023-04-01T07:11:43.617Z"
   },
   {
    "duration": 24,
    "start_time": "2023-04-01T07:11:43.624Z"
   },
   {
    "duration": 6,
    "start_time": "2023-04-01T07:11:43.650Z"
   },
   {
    "duration": 56,
    "start_time": "2023-04-01T07:11:43.658Z"
   },
   {
    "duration": 6,
    "start_time": "2023-04-01T07:11:43.716Z"
   },
   {
    "duration": 28265,
    "start_time": "2023-04-01T07:11:43.724Z"
   },
   {
    "duration": 245,
    "start_time": "2023-04-01T07:12:11.994Z"
   },
   {
    "duration": 80,
    "start_time": "2023-04-01T07:12:12.241Z"
   },
   {
    "duration": 3,
    "start_time": "2023-04-01T07:12:12.323Z"
   },
   {
    "duration": 5,
    "start_time": "2023-04-01T07:12:12.327Z"
   },
   {
    "duration": 6,
    "start_time": "2023-04-01T07:12:12.333Z"
   },
   {
    "duration": 195,
    "start_time": "2023-04-01T07:12:12.341Z"
   },
   {
    "duration": 14,
    "start_time": "2023-04-01T07:12:12.538Z"
   },
   {
    "duration": 378,
    "start_time": "2023-04-01T07:12:12.554Z"
   },
   {
    "duration": 53,
    "start_time": "2023-04-01T07:18:44.815Z"
   },
   {
    "duration": 102,
    "start_time": "2023-04-01T07:18:53.513Z"
   },
   {
    "duration": 44,
    "start_time": "2023-04-01T07:19:09.718Z"
   },
   {
    "duration": 52,
    "start_time": "2023-04-01T07:19:40.256Z"
   },
   {
    "duration": 1681,
    "start_time": "2023-04-01T07:20:04.008Z"
   },
   {
    "duration": 70,
    "start_time": "2023-04-01T07:20:05.691Z"
   },
   {
    "duration": 39,
    "start_time": "2023-04-01T07:20:05.763Z"
   },
   {
    "duration": 49,
    "start_time": "2023-04-01T07:20:05.804Z"
   },
   {
    "duration": 11,
    "start_time": "2023-04-01T07:20:05.855Z"
   },
   {
    "duration": 98,
    "start_time": "2023-04-01T07:20:08.860Z"
   },
   {
    "duration": 59,
    "start_time": "2023-04-01T07:23:10.745Z"
   },
   {
    "duration": 34,
    "start_time": "2023-04-01T07:23:34.911Z"
   },
   {
    "duration": 138,
    "start_time": "2023-04-01T07:25:25.403Z"
   },
   {
    "duration": 38,
    "start_time": "2023-04-01T07:25:35.296Z"
   },
   {
    "duration": 38,
    "start_time": "2023-04-01T07:29:32.052Z"
   },
   {
    "duration": 68,
    "start_time": "2023-04-01T07:29:47.159Z"
   },
   {
    "duration": 86,
    "start_time": "2023-04-01T07:32:47.527Z"
   },
   {
    "duration": 35,
    "start_time": "2023-04-01T07:33:16.614Z"
   },
   {
    "duration": 36,
    "start_time": "2023-04-01T07:33:59.615Z"
   },
   {
    "duration": 37,
    "start_time": "2023-04-01T07:34:08.100Z"
   },
   {
    "duration": 39,
    "start_time": "2023-04-01T07:34:19.320Z"
   },
   {
    "duration": 58,
    "start_time": "2023-04-01T07:34:39.255Z"
   },
   {
    "duration": 40,
    "start_time": "2023-04-01T07:35:23.599Z"
   },
   {
    "duration": 32,
    "start_time": "2023-04-01T07:35:30.509Z"
   },
   {
    "duration": 37,
    "start_time": "2023-04-01T07:35:40.731Z"
   },
   {
    "duration": 34,
    "start_time": "2023-04-01T07:36:00.716Z"
   },
   {
    "duration": 37,
    "start_time": "2023-04-01T07:36:48.915Z"
   },
   {
    "duration": 33,
    "start_time": "2023-04-01T07:37:17.412Z"
   },
   {
    "duration": 58,
    "start_time": "2023-04-01T07:38:59.161Z"
   },
   {
    "duration": 53,
    "start_time": "2023-04-01T07:39:07.644Z"
   },
   {
    "duration": 32,
    "start_time": "2023-04-01T07:41:10.609Z"
   },
   {
    "duration": 49,
    "start_time": "2023-04-01T07:41:16.085Z"
   },
   {
    "duration": 32,
    "start_time": "2023-04-01T07:44:55.613Z"
   },
   {
    "duration": 43,
    "start_time": "2023-04-01T07:47:10.097Z"
   },
   {
    "duration": 36,
    "start_time": "2023-04-01T07:49:45.619Z"
   },
   {
    "duration": 92,
    "start_time": "2023-04-01T07:50:04.861Z"
   },
   {
    "duration": 62,
    "start_time": "2023-04-01T07:50:08.362Z"
   },
   {
    "duration": 34,
    "start_time": "2023-04-01T07:50:19.004Z"
   },
   {
    "duration": 31,
    "start_time": "2023-04-01T07:50:25.426Z"
   },
   {
    "duration": 34,
    "start_time": "2023-04-01T07:50:40.506Z"
   },
   {
    "duration": 34,
    "start_time": "2023-04-01T07:50:48.510Z"
   },
   {
    "duration": 50,
    "start_time": "2023-04-01T07:50:58.941Z"
   },
   {
    "duration": 43,
    "start_time": "2023-04-01T07:51:28.926Z"
   },
   {
    "duration": 44,
    "start_time": "2023-04-01T07:52:17.914Z"
   },
   {
    "duration": 42,
    "start_time": "2023-04-01T07:52:22.505Z"
   },
   {
    "duration": 45,
    "start_time": "2023-04-01T08:03:01.699Z"
   },
   {
    "duration": 39,
    "start_time": "2023-04-01T08:04:55.107Z"
   },
   {
    "duration": 69,
    "start_time": "2023-04-01T08:05:17.533Z"
   },
   {
    "duration": 41,
    "start_time": "2023-04-01T08:05:51.800Z"
   },
   {
    "duration": 55,
    "start_time": "2023-04-01T08:07:08.735Z"
   },
   {
    "duration": 53,
    "start_time": "2023-04-01T08:07:18.051Z"
   },
   {
    "duration": 90,
    "start_time": "2023-04-01T08:07:49.207Z"
   },
   {
    "duration": 211,
    "start_time": "2023-04-01T08:18:55.212Z"
   },
   {
    "duration": 69,
    "start_time": "2023-04-01T08:19:08.431Z"
   },
   {
    "duration": 6,
    "start_time": "2023-04-01T08:23:13.818Z"
   },
   {
    "duration": 12,
    "start_time": "2023-04-01T08:25:53.552Z"
   },
   {
    "duration": 1340,
    "start_time": "2023-04-01T08:26:09.645Z"
   },
   {
    "duration": 39,
    "start_time": "2023-04-01T08:26:10.998Z"
   },
   {
    "duration": 17,
    "start_time": "2023-04-01T08:26:11.039Z"
   },
   {
    "duration": 12,
    "start_time": "2023-04-01T08:26:11.058Z"
   },
   {
    "duration": 40,
    "start_time": "2023-04-01T08:26:11.072Z"
   },
   {
    "duration": 103,
    "start_time": "2023-04-01T08:26:11.114Z"
   },
   {
    "duration": 9,
    "start_time": "2023-04-01T08:26:11.219Z"
   },
   {
    "duration": 886,
    "start_time": "2023-04-01T08:26:11.229Z"
   },
   {
    "duration": 6034,
    "start_time": "2023-04-01T08:26:12.117Z"
   },
   {
    "duration": 16,
    "start_time": "2023-04-01T08:26:18.153Z"
   },
   {
    "duration": 69,
    "start_time": "2023-04-01T08:26:18.171Z"
   },
   {
    "duration": 50,
    "start_time": "2023-04-01T08:26:18.243Z"
   },
   {
    "duration": 17,
    "start_time": "2023-04-01T08:26:18.295Z"
   },
   {
    "duration": 19,
    "start_time": "2023-04-01T08:26:18.314Z"
   },
   {
    "duration": 6,
    "start_time": "2023-04-01T08:26:18.335Z"
   },
   {
    "duration": 7,
    "start_time": "2023-04-01T08:26:18.342Z"
   },
   {
    "duration": 4,
    "start_time": "2023-04-01T08:26:20.649Z"
   },
   {
    "duration": 144,
    "start_time": "2023-04-01T08:26:54.417Z"
   },
   {
    "duration": 1409,
    "start_time": "2023-04-01T08:27:08.061Z"
   },
   {
    "duration": 50,
    "start_time": "2023-04-01T08:27:09.479Z"
   },
   {
    "duration": 20,
    "start_time": "2023-04-01T08:27:09.530Z"
   },
   {
    "duration": 62,
    "start_time": "2023-04-01T08:27:09.552Z"
   },
   {
    "duration": 8,
    "start_time": "2023-04-01T08:27:09.616Z"
   },
   {
    "duration": 127,
    "start_time": "2023-04-01T08:27:09.626Z"
   },
   {
    "duration": 11,
    "start_time": "2023-04-01T08:27:09.755Z"
   },
   {
    "duration": 870,
    "start_time": "2023-04-01T08:27:09.774Z"
   },
   {
    "duration": 5805,
    "start_time": "2023-04-01T08:27:10.646Z"
   },
   {
    "duration": 34,
    "start_time": "2023-04-01T08:27:16.454Z"
   },
   {
    "duration": 37,
    "start_time": "2023-04-01T08:27:16.499Z"
   },
   {
    "duration": 46,
    "start_time": "2023-04-01T08:27:16.537Z"
   },
   {
    "duration": 14,
    "start_time": "2023-04-01T08:27:16.585Z"
   },
   {
    "duration": 17,
    "start_time": "2023-04-01T08:27:16.601Z"
   },
   {
    "duration": 6,
    "start_time": "2023-04-01T08:27:16.620Z"
   },
   {
    "duration": 5,
    "start_time": "2023-04-01T08:27:16.627Z"
   },
   {
    "duration": 16,
    "start_time": "2023-04-01T08:27:18.099Z"
   },
   {
    "duration": 1267,
    "start_time": "2023-04-01T08:27:56.733Z"
   },
   {
    "duration": 42,
    "start_time": "2023-04-01T08:27:58.002Z"
   },
   {
    "duration": 16,
    "start_time": "2023-04-01T08:27:58.045Z"
   },
   {
    "duration": 28,
    "start_time": "2023-04-01T08:27:58.063Z"
   },
   {
    "duration": 30,
    "start_time": "2023-04-01T08:27:58.098Z"
   },
   {
    "duration": 86,
    "start_time": "2023-04-01T08:27:58.129Z"
   },
   {
    "duration": 9,
    "start_time": "2023-04-01T08:27:58.217Z"
   },
   {
    "duration": 866,
    "start_time": "2023-04-01T08:27:58.227Z"
   },
   {
    "duration": 5572,
    "start_time": "2023-04-01T08:27:59.095Z"
   },
   {
    "duration": 24,
    "start_time": "2023-04-01T08:28:04.669Z"
   },
   {
    "duration": 56,
    "start_time": "2023-04-01T08:28:04.695Z"
   },
   {
    "duration": 56,
    "start_time": "2023-04-01T08:28:04.753Z"
   },
   {
    "duration": 11,
    "start_time": "2023-04-01T08:28:04.811Z"
   },
   {
    "duration": 20,
    "start_time": "2023-04-01T08:28:04.824Z"
   },
   {
    "duration": 10,
    "start_time": "2023-04-01T08:28:04.846Z"
   },
   {
    "duration": 7,
    "start_time": "2023-04-01T08:28:04.857Z"
   },
   {
    "duration": 7,
    "start_time": "2023-04-01T08:28:06.823Z"
   },
   {
    "duration": 1424,
    "start_time": "2023-04-01T08:28:42.934Z"
   },
   {
    "duration": 67,
    "start_time": "2023-04-01T08:28:44.360Z"
   },
   {
    "duration": 18,
    "start_time": "2023-04-01T08:28:44.428Z"
   },
   {
    "duration": 12,
    "start_time": "2023-04-01T08:28:44.449Z"
   },
   {
    "duration": 7,
    "start_time": "2023-04-01T08:28:44.462Z"
   },
   {
    "duration": 118,
    "start_time": "2023-04-01T08:28:44.480Z"
   },
   {
    "duration": 12,
    "start_time": "2023-04-01T08:28:44.599Z"
   },
   {
    "duration": 896,
    "start_time": "2023-04-01T08:28:44.612Z"
   },
   {
    "duration": 5610,
    "start_time": "2023-04-01T08:28:45.509Z"
   },
   {
    "duration": 16,
    "start_time": "2023-04-01T08:28:51.122Z"
   },
   {
    "duration": 42,
    "start_time": "2023-04-01T08:28:51.140Z"
   },
   {
    "duration": 41,
    "start_time": "2023-04-01T08:28:51.183Z"
   },
   {
    "duration": 12,
    "start_time": "2023-04-01T08:28:51.226Z"
   },
   {
    "duration": 10,
    "start_time": "2023-04-01T08:28:51.240Z"
   },
   {
    "duration": 26,
    "start_time": "2023-04-01T08:28:51.251Z"
   },
   {
    "duration": 10,
    "start_time": "2023-04-01T08:28:51.279Z"
   },
   {
    "duration": 6,
    "start_time": "2023-04-01T08:28:59.255Z"
   },
   {
    "duration": 128,
    "start_time": "2023-04-01T08:29:19.010Z"
   },
   {
    "duration": 1490,
    "start_time": "2023-04-01T08:30:03.455Z"
   },
   {
    "duration": 46,
    "start_time": "2023-04-01T08:30:04.947Z"
   },
   {
    "duration": 22,
    "start_time": "2023-04-01T08:30:04.995Z"
   },
   {
    "duration": 12,
    "start_time": "2023-04-01T08:30:05.019Z"
   },
   {
    "duration": 29,
    "start_time": "2023-04-01T08:30:05.032Z"
   },
   {
    "duration": 96,
    "start_time": "2023-04-01T08:30:05.063Z"
   },
   {
    "duration": 28,
    "start_time": "2023-04-01T08:30:05.161Z"
   },
   {
    "duration": 890,
    "start_time": "2023-04-01T08:30:05.199Z"
   },
   {
    "duration": 5564,
    "start_time": "2023-04-01T08:30:06.091Z"
   },
   {
    "duration": 23,
    "start_time": "2023-04-01T08:30:11.657Z"
   },
   {
    "duration": 53,
    "start_time": "2023-04-01T08:30:11.683Z"
   },
   {
    "duration": 33,
    "start_time": "2023-04-01T08:30:11.738Z"
   },
   {
    "duration": 19,
    "start_time": "2023-04-01T08:30:11.788Z"
   },
   {
    "duration": 8,
    "start_time": "2023-04-01T08:30:11.809Z"
   },
   {
    "duration": 6,
    "start_time": "2023-04-01T08:30:11.819Z"
   },
   {
    "duration": 14,
    "start_time": "2023-04-01T08:30:11.826Z"
   },
   {
    "duration": 6,
    "start_time": "2023-04-01T08:30:12.529Z"
   },
   {
    "duration": 18,
    "start_time": "2023-04-01T08:30:30.931Z"
   },
   {
    "duration": 14,
    "start_time": "2023-04-01T08:31:52.951Z"
   },
   {
    "duration": 7,
    "start_time": "2023-04-01T08:31:55.551Z"
   },
   {
    "duration": 54,
    "start_time": "2023-04-01T08:45:08.958Z"
   },
   {
    "duration": 1676,
    "start_time": "2023-04-01T08:45:21.577Z"
   },
   {
    "duration": 63,
    "start_time": "2023-04-01T08:45:23.254Z"
   },
   {
    "duration": 16,
    "start_time": "2023-04-01T08:45:23.319Z"
   },
   {
    "duration": 13,
    "start_time": "2023-04-01T08:45:23.337Z"
   },
   {
    "duration": 16,
    "start_time": "2023-04-01T08:45:23.353Z"
   },
   {
    "duration": 136,
    "start_time": "2023-04-01T08:45:23.371Z"
   },
   {
    "duration": 12,
    "start_time": "2023-04-01T08:45:23.509Z"
   },
   {
    "duration": 875,
    "start_time": "2023-04-01T08:45:23.522Z"
   },
   {
    "duration": 5555,
    "start_time": "2023-04-01T08:45:24.400Z"
   },
   {
    "duration": 24,
    "start_time": "2023-04-01T08:45:29.956Z"
   },
   {
    "duration": 55,
    "start_time": "2023-04-01T08:45:29.983Z"
   },
   {
    "duration": 33,
    "start_time": "2023-04-01T08:45:30.039Z"
   },
   {
    "duration": 12,
    "start_time": "2023-04-01T08:45:30.073Z"
   },
   {
    "duration": 40,
    "start_time": "2023-04-01T08:45:30.089Z"
   },
   {
    "duration": 8,
    "start_time": "2023-04-01T08:45:30.131Z"
   },
   {
    "duration": 11,
    "start_time": "2023-04-01T08:45:30.141Z"
   },
   {
    "duration": 54,
    "start_time": "2023-04-01T08:45:30.153Z"
   },
   {
    "duration": 30,
    "start_time": "2023-04-01T08:45:30.209Z"
   },
   {
    "duration": 77,
    "start_time": "2023-04-01T08:45:30.241Z"
   },
   {
    "duration": 98,
    "start_time": "2023-04-01T08:45:30.320Z"
   },
   {
    "duration": 53,
    "start_time": "2023-04-01T08:45:34.948Z"
   },
   {
    "duration": 28,
    "start_time": "2023-04-01T08:46:19.115Z"
   },
   {
    "duration": 46,
    "start_time": "2023-04-01T08:47:36.451Z"
   },
   {
    "duration": 149,
    "start_time": "2023-04-01T08:50:25.954Z"
   },
   {
    "duration": 44,
    "start_time": "2023-04-01T08:51:04.055Z"
   },
   {
    "duration": 42,
    "start_time": "2023-04-01T08:51:12.697Z"
   },
   {
    "duration": 27,
    "start_time": "2023-04-01T08:51:21.315Z"
   },
   {
    "duration": 32,
    "start_time": "2023-04-01T08:51:31.801Z"
   },
   {
    "duration": 33,
    "start_time": "2023-04-01T08:51:40.501Z"
   },
   {
    "duration": 35,
    "start_time": "2023-04-01T08:51:52.861Z"
   },
   {
    "duration": 30,
    "start_time": "2023-04-01T08:52:11.201Z"
   },
   {
    "duration": 30,
    "start_time": "2023-04-01T08:53:21.199Z"
   },
   {
    "duration": 33,
    "start_time": "2023-04-01T08:53:40.703Z"
   },
   {
    "duration": 1205,
    "start_time": "2023-04-01T08:53:51.313Z"
   },
   {
    "duration": 29,
    "start_time": "2023-04-01T08:53:56.816Z"
   },
   {
    "duration": 54,
    "start_time": "2023-04-01T08:54:04.163Z"
   },
   {
    "duration": 26,
    "start_time": "2023-04-01T08:54:25.008Z"
   },
   {
    "duration": 30,
    "start_time": "2023-04-01T08:54:29.904Z"
   },
   {
    "duration": 6,
    "start_time": "2023-04-01T08:55:49.147Z"
   },
   {
    "duration": 41,
    "start_time": "2023-04-01T08:55:51.558Z"
   },
   {
    "duration": 12,
    "start_time": "2023-04-01T08:56:15.463Z"
   },
   {
    "duration": 4,
    "start_time": "2023-04-01T08:56:27.242Z"
   },
   {
    "duration": 4,
    "start_time": "2023-04-01T08:56:50.504Z"
   },
   {
    "duration": 1286,
    "start_time": "2023-04-01T09:28:41.741Z"
   },
   {
    "duration": 39,
    "start_time": "2023-04-01T09:28:43.028Z"
   },
   {
    "duration": 42,
    "start_time": "2023-04-01T09:28:43.068Z"
   },
   {
    "duration": 28,
    "start_time": "2023-04-01T09:28:43.113Z"
   },
   {
    "duration": 8,
    "start_time": "2023-04-01T09:28:43.143Z"
   },
   {
    "duration": 110,
    "start_time": "2023-04-01T09:28:43.153Z"
   },
   {
    "duration": 34,
    "start_time": "2023-04-01T09:28:43.265Z"
   },
   {
    "duration": 868,
    "start_time": "2023-04-01T09:28:43.300Z"
   },
   {
    "duration": 5768,
    "start_time": "2023-04-01T09:28:44.171Z"
   },
   {
    "duration": 17,
    "start_time": "2023-04-01T09:28:49.940Z"
   },
   {
    "duration": 56,
    "start_time": "2023-04-01T09:28:49.958Z"
   },
   {
    "duration": 35,
    "start_time": "2023-04-01T09:28:50.015Z"
   },
   {
    "duration": 46,
    "start_time": "2023-04-01T09:28:50.051Z"
   },
   {
    "duration": 12,
    "start_time": "2023-04-01T09:28:50.100Z"
   },
   {
    "duration": 5,
    "start_time": "2023-04-01T09:28:50.113Z"
   },
   {
    "duration": 10,
    "start_time": "2023-04-01T09:28:50.119Z"
   },
   {
    "duration": 9,
    "start_time": "2023-04-01T09:28:50.130Z"
   },
   {
    "duration": 21,
    "start_time": "2023-04-01T09:28:50.141Z"
   },
   {
    "duration": 30,
    "start_time": "2023-04-01T09:28:50.163Z"
   },
   {
    "duration": 12,
    "start_time": "2023-04-01T09:28:50.195Z"
   },
   {
    "duration": 41,
    "start_time": "2023-04-01T09:28:50.209Z"
   },
   {
    "duration": 6,
    "start_time": "2023-04-01T09:28:50.252Z"
   },
   {
    "duration": 43,
    "start_time": "2023-04-01T09:28:50.259Z"
   },
   {
    "duration": 4,
    "start_time": "2023-04-01T09:28:50.304Z"
   },
   {
    "duration": 10,
    "start_time": "2023-04-01T09:28:50.309Z"
   },
   {
    "duration": 21,
    "start_time": "2023-04-01T09:28:50.320Z"
   },
   {
    "duration": 63,
    "start_time": "2023-04-01T09:28:54.996Z"
   },
   {
    "duration": 141,
    "start_time": "2023-04-01T09:29:05.182Z"
   },
   {
    "duration": 42,
    "start_time": "2023-04-01T09:29:24.426Z"
   },
   {
    "duration": 6,
    "start_time": "2023-04-01T09:29:31.749Z"
   },
   {
    "duration": 26667,
    "start_time": "2023-04-01T09:29:34.817Z"
   },
   {
    "duration": 7,
    "start_time": "2023-04-01T09:31:01.825Z"
   },
   {
    "duration": 24993,
    "start_time": "2023-04-01T09:31:07.296Z"
   },
   {
    "duration": 6,
    "start_time": "2023-04-01T09:36:25.237Z"
   },
   {
    "duration": 24381,
    "start_time": "2023-04-01T09:36:33.018Z"
   },
   {
    "duration": 18426,
    "start_time": "2023-04-01T09:38:33.950Z"
   },
   {
    "duration": 18888,
    "start_time": "2023-04-01T09:40:38.517Z"
   },
   {
    "duration": 261,
    "start_time": "2023-04-01T09:41:33.761Z"
   },
   {
    "duration": 39254,
    "start_time": "2023-04-01T09:45:00.443Z"
   },
   {
    "duration": 40722,
    "start_time": "2023-04-01T09:47:37.659Z"
   },
   {
    "duration": 50,
    "start_time": "2023-04-01T09:49:03.655Z"
   },
   {
    "duration": 265,
    "start_time": "2023-04-01T09:53:57.838Z"
   },
   {
    "duration": 257,
    "start_time": "2023-04-01T09:54:25.100Z"
   },
   {
    "duration": 1457,
    "start_time": "2023-04-01T09:54:43.944Z"
   },
   {
    "duration": 48,
    "start_time": "2023-04-01T09:54:45.403Z"
   },
   {
    "duration": 17,
    "start_time": "2023-04-01T09:54:45.452Z"
   },
   {
    "duration": 29,
    "start_time": "2023-04-01T09:54:45.471Z"
   },
   {
    "duration": 12,
    "start_time": "2023-04-01T09:54:45.503Z"
   },
   {
    "duration": 128,
    "start_time": "2023-04-01T09:54:45.516Z"
   },
   {
    "duration": 9,
    "start_time": "2023-04-01T09:54:45.646Z"
   },
   {
    "duration": 951,
    "start_time": "2023-04-01T09:54:45.657Z"
   },
   {
    "duration": 5953,
    "start_time": "2023-04-01T09:54:46.610Z"
   },
   {
    "duration": 17,
    "start_time": "2023-04-01T09:54:52.565Z"
   },
   {
    "duration": 54,
    "start_time": "2023-04-01T09:54:52.583Z"
   },
   {
    "duration": 31,
    "start_time": "2023-04-01T09:54:52.639Z"
   },
   {
    "duration": 34,
    "start_time": "2023-04-01T09:54:52.671Z"
   },
   {
    "duration": 25,
    "start_time": "2023-04-01T09:54:52.707Z"
   },
   {
    "duration": 9,
    "start_time": "2023-04-01T09:54:52.733Z"
   },
   {
    "duration": 20,
    "start_time": "2023-04-01T09:54:52.744Z"
   },
   {
    "duration": 51,
    "start_time": "2023-04-01T09:54:52.766Z"
   },
   {
    "duration": 24,
    "start_time": "2023-04-01T09:54:52.819Z"
   },
   {
    "duration": 12,
    "start_time": "2023-04-01T09:54:52.844Z"
   },
   {
    "duration": 6,
    "start_time": "2023-04-01T09:54:52.858Z"
   },
   {
    "duration": 73,
    "start_time": "2023-04-01T09:54:52.866Z"
   },
   {
    "duration": 6,
    "start_time": "2023-04-01T09:54:52.941Z"
   },
   {
    "duration": 36,
    "start_time": "2023-04-01T09:54:52.949Z"
   },
   {
    "duration": 33,
    "start_time": "2023-04-01T09:54:52.986Z"
   },
   {
    "duration": 12,
    "start_time": "2023-04-01T09:54:53.021Z"
   },
   {
    "duration": 18,
    "start_time": "2023-04-01T09:54:53.035Z"
   },
   {
    "duration": 6,
    "start_time": "2023-04-01T09:54:53.055Z"
   },
   {
    "duration": 26321,
    "start_time": "2023-04-01T09:54:53.064Z"
   },
   {
    "duration": 17096,
    "start_time": "2023-04-01T09:55:19.393Z"
   },
   {
    "duration": 324,
    "start_time": "2023-04-01T09:55:36.498Z"
   },
   {
    "duration": 37665,
    "start_time": "2023-04-01T09:55:36.824Z"
   },
   {
    "duration": 130,
    "start_time": "2023-04-01T09:56:14.491Z"
   },
   {
    "duration": 3,
    "start_time": "2023-04-01T09:56:14.622Z"
   },
   {
    "duration": 9,
    "start_time": "2023-04-01T09:56:14.626Z"
   },
   {
    "duration": 8,
    "start_time": "2023-04-01T09:56:14.637Z"
   },
   {
    "duration": 20,
    "start_time": "2023-04-01T09:58:50.405Z"
   },
   {
    "duration": 264,
    "start_time": "2023-04-01T10:02:07.363Z"
   },
   {
    "duration": 275,
    "start_time": "2023-04-01T10:02:14.356Z"
   },
   {
    "duration": 129,
    "start_time": "2023-04-01T10:03:33.894Z"
   },
   {
    "duration": 15,
    "start_time": "2023-04-01T10:04:22.012Z"
   },
   {
    "duration": 15,
    "start_time": "2023-04-01T10:04:56.433Z"
   },
   {
    "duration": 21,
    "start_time": "2023-04-01T10:05:06.398Z"
   },
   {
    "duration": 19,
    "start_time": "2023-04-01T10:05:15.530Z"
   },
   {
    "duration": 18,
    "start_time": "2023-04-01T10:05:29.094Z"
   },
   {
    "duration": 41,
    "start_time": "2023-04-01T10:05:41.448Z"
   },
   {
    "duration": 1376,
    "start_time": "2023-04-01T10:05:58.995Z"
   },
   {
    "duration": 41,
    "start_time": "2023-04-01T10:06:00.386Z"
   },
   {
    "duration": 31,
    "start_time": "2023-04-01T10:06:00.429Z"
   },
   {
    "duration": 68,
    "start_time": "2023-04-01T10:06:00.461Z"
   },
   {
    "duration": 29,
    "start_time": "2023-04-01T10:06:00.532Z"
   },
   {
    "duration": 139,
    "start_time": "2023-04-01T10:06:00.562Z"
   },
   {
    "duration": 10,
    "start_time": "2023-04-01T10:06:00.703Z"
   },
   {
    "duration": 963,
    "start_time": "2023-04-01T10:06:00.714Z"
   },
   {
    "duration": 5551,
    "start_time": "2023-04-01T10:06:01.692Z"
   },
   {
    "duration": 17,
    "start_time": "2023-04-01T10:06:07.244Z"
   },
   {
    "duration": 76,
    "start_time": "2023-04-01T10:06:07.263Z"
   },
   {
    "duration": 30,
    "start_time": "2023-04-01T10:06:07.340Z"
   },
   {
    "duration": 12,
    "start_time": "2023-04-01T10:06:07.382Z"
   },
   {
    "duration": 29,
    "start_time": "2023-04-01T10:06:07.398Z"
   },
   {
    "duration": 12,
    "start_time": "2023-04-01T10:06:07.429Z"
   },
   {
    "duration": 6,
    "start_time": "2023-04-01T10:06:07.443Z"
   },
   {
    "duration": 7,
    "start_time": "2023-04-01T10:06:07.451Z"
   },
   {
    "duration": 37,
    "start_time": "2023-04-01T10:06:07.460Z"
   },
   {
    "duration": 28,
    "start_time": "2023-04-01T10:06:07.498Z"
   },
   {
    "duration": 20,
    "start_time": "2023-04-01T10:06:07.528Z"
   },
   {
    "duration": 50,
    "start_time": "2023-04-01T10:06:07.549Z"
   },
   {
    "duration": 6,
    "start_time": "2023-04-01T10:06:07.600Z"
   },
   {
    "duration": 27,
    "start_time": "2023-04-01T10:06:07.608Z"
   },
   {
    "duration": 4,
    "start_time": "2023-04-01T10:06:07.636Z"
   },
   {
    "duration": 5,
    "start_time": "2023-04-01T10:06:07.642Z"
   },
   {
    "duration": 67,
    "start_time": "2023-04-01T10:06:07.649Z"
   },
   {
    "duration": 11,
    "start_time": "2023-04-01T10:06:07.717Z"
   },
   {
    "duration": 24663,
    "start_time": "2023-04-01T10:06:07.730Z"
   },
   {
    "duration": 19004,
    "start_time": "2023-04-01T10:06:32.401Z"
   },
   {
    "duration": 270,
    "start_time": "2023-04-01T10:06:51.487Z"
   },
   {
    "duration": 36826,
    "start_time": "2023-04-01T10:06:51.759Z"
   },
   {
    "duration": 132,
    "start_time": "2023-04-01T10:07:28.589Z"
   },
   {
    "duration": 2,
    "start_time": "2023-04-01T10:07:28.723Z"
   },
   {
    "duration": 8,
    "start_time": "2023-04-01T10:07:28.726Z"
   },
   {
    "duration": 4,
    "start_time": "2023-04-01T10:07:28.735Z"
   },
   {
    "duration": 258,
    "start_time": "2023-04-01T10:07:28.740Z"
   },
   {
    "duration": 19,
    "start_time": "2023-04-01T10:07:29.000Z"
   },
   {
    "duration": 248,
    "start_time": "2023-04-01T10:07:29.021Z"
   },
   {
    "duration": 18499,
    "start_time": "2023-04-01T10:30:01.795Z"
   },
   {
    "duration": 1892,
    "start_time": "2023-04-01T10:35:13.769Z"
   },
   {
    "duration": 62,
    "start_time": "2023-04-01T10:35:15.663Z"
   },
   {
    "duration": 20,
    "start_time": "2023-04-01T10:35:15.726Z"
   },
   {
    "duration": 41,
    "start_time": "2023-04-01T10:35:15.748Z"
   },
   {
    "duration": 23,
    "start_time": "2023-04-01T10:35:15.798Z"
   },
   {
    "duration": 93,
    "start_time": "2023-04-01T10:35:15.823Z"
   },
   {
    "duration": 10,
    "start_time": "2023-04-01T10:35:15.918Z"
   },
   {
    "duration": 936,
    "start_time": "2023-04-01T10:35:15.929Z"
   },
   {
    "duration": 5596,
    "start_time": "2023-04-01T10:35:16.885Z"
   },
   {
    "duration": 24,
    "start_time": "2023-04-01T10:35:22.483Z"
   },
   {
    "duration": 36,
    "start_time": "2023-04-01T10:35:22.508Z"
   },
   {
    "duration": 46,
    "start_time": "2023-04-01T10:35:22.546Z"
   },
   {
    "duration": 10,
    "start_time": "2023-04-01T10:35:22.594Z"
   },
   {
    "duration": 11,
    "start_time": "2023-04-01T10:35:22.605Z"
   },
   {
    "duration": 21,
    "start_time": "2023-04-01T10:35:22.617Z"
   },
   {
    "duration": 13,
    "start_time": "2023-04-01T10:35:22.640Z"
   },
   {
    "duration": 8,
    "start_time": "2023-04-01T10:35:22.654Z"
   },
   {
    "duration": 30,
    "start_time": "2023-04-01T10:35:22.663Z"
   },
   {
    "duration": 22,
    "start_time": "2023-04-01T10:35:22.694Z"
   },
   {
    "duration": 7,
    "start_time": "2023-04-01T10:35:22.718Z"
   },
   {
    "duration": 35,
    "start_time": "2023-04-01T10:35:22.727Z"
   },
   {
    "duration": 28,
    "start_time": "2023-04-01T10:35:22.764Z"
   },
   {
    "duration": 241,
    "start_time": "2023-04-01T10:35:22.793Z"
   },
   {
    "duration": 8,
    "start_time": "2023-04-01T10:35:23.036Z"
   },
   {
    "duration": 6,
    "start_time": "2023-04-01T10:35:23.046Z"
   },
   {
    "duration": 45,
    "start_time": "2023-04-01T10:35:23.053Z"
   },
   {
    "duration": 8,
    "start_time": "2023-04-01T10:35:23.099Z"
   },
   {
    "duration": 24384,
    "start_time": "2023-04-01T10:35:23.109Z"
   },
   {
    "duration": 17803,
    "start_time": "2023-04-01T10:35:47.495Z"
   },
   {
    "duration": 325,
    "start_time": "2023-04-01T10:36:05.300Z"
   },
   {
    "duration": 36158,
    "start_time": "2023-04-01T10:36:05.626Z"
   },
   {
    "duration": 132,
    "start_time": "2023-04-01T10:36:41.788Z"
   },
   {
    "duration": 2,
    "start_time": "2023-04-01T10:36:41.921Z"
   },
   {
    "duration": 17,
    "start_time": "2023-04-01T10:36:41.925Z"
   },
   {
    "duration": 8,
    "start_time": "2023-04-01T10:36:41.944Z"
   },
   {
    "duration": 261,
    "start_time": "2023-04-01T10:36:41.954Z"
   },
   {
    "duration": 18,
    "start_time": "2023-04-01T10:36:42.216Z"
   },
   {
    "duration": 262,
    "start_time": "2023-04-01T10:36:42.235Z"
   },
   {
    "duration": 69,
    "start_time": "2023-04-01T10:37:56.266Z"
   },
   {
    "duration": 23534,
    "start_time": "2023-04-01T10:38:02.067Z"
   },
   {
    "duration": 23898,
    "start_time": "2023-04-01T10:38:46.895Z"
   },
   {
    "duration": 67,
    "start_time": "2023-04-03T08:36:28.327Z"
   },
   {
    "duration": 1539,
    "start_time": "2023-04-03T08:41:39.007Z"
   },
   {
    "duration": 174,
    "start_time": "2023-04-03T08:41:40.548Z"
   },
   {
    "duration": 29,
    "start_time": "2023-04-03T08:41:40.724Z"
   },
   {
    "duration": 16,
    "start_time": "2023-04-03T08:41:40.756Z"
   },
   {
    "duration": 26,
    "start_time": "2023-04-03T08:41:40.774Z"
   },
   {
    "duration": 96,
    "start_time": "2023-04-03T08:41:43.586Z"
   },
   {
    "duration": 49,
    "start_time": "2023-04-05T11:56:33.762Z"
   },
   {
    "duration": 1490,
    "start_time": "2023-04-05T11:56:37.568Z"
   },
   {
    "duration": 161,
    "start_time": "2023-04-05T11:56:39.060Z"
   },
   {
    "duration": 16,
    "start_time": "2023-04-05T11:56:39.222Z"
   },
   {
    "duration": 30,
    "start_time": "2023-04-05T11:56:39.239Z"
   },
   {
    "duration": 16,
    "start_time": "2023-04-05T11:56:39.271Z"
   },
   {
    "duration": 89,
    "start_time": "2023-04-05T11:56:39.289Z"
   },
   {
    "duration": 10,
    "start_time": "2023-04-05T11:56:39.379Z"
   },
   {
    "duration": 831,
    "start_time": "2023-04-05T11:56:39.391Z"
   },
   {
    "duration": 4931,
    "start_time": "2023-04-05T11:56:40.224Z"
   },
   {
    "duration": 17,
    "start_time": "2023-04-05T11:56:45.158Z"
   },
   {
    "duration": 37,
    "start_time": "2023-04-05T11:56:45.176Z"
   },
   {
    "duration": 69,
    "start_time": "2023-04-05T11:56:45.214Z"
   },
   {
    "duration": 9,
    "start_time": "2023-04-05T11:56:45.284Z"
   },
   {
    "duration": 26,
    "start_time": "2023-04-05T11:56:45.294Z"
   },
   {
    "duration": 9,
    "start_time": "2023-04-05T11:56:45.321Z"
   },
   {
    "duration": 4,
    "start_time": "2023-04-05T11:56:45.332Z"
   },
   {
    "duration": 14,
    "start_time": "2023-04-05T11:56:45.337Z"
   },
   {
    "duration": 17,
    "start_time": "2023-04-05T11:56:45.352Z"
   },
   {
    "duration": 13,
    "start_time": "2023-04-05T11:56:45.371Z"
   },
   {
    "duration": 7,
    "start_time": "2023-04-05T11:56:45.386Z"
   },
   {
    "duration": 79,
    "start_time": "2023-04-05T11:56:45.395Z"
   },
   {
    "duration": 6,
    "start_time": "2023-04-05T11:56:45.475Z"
   },
   {
    "duration": 19,
    "start_time": "2023-04-05T11:56:45.483Z"
   },
   {
    "duration": 3,
    "start_time": "2023-04-05T11:56:45.504Z"
   },
   {
    "duration": 41,
    "start_time": "2023-04-05T11:56:45.508Z"
   },
   {
    "duration": 33,
    "start_time": "2023-04-05T11:56:45.551Z"
   },
   {
    "duration": 6,
    "start_time": "2023-04-05T11:56:45.586Z"
   },
   {
    "duration": 14856,
    "start_time": "2023-04-05T11:56:45.594Z"
   },
   {
    "duration": 15601,
    "start_time": "2023-04-05T11:57:00.452Z"
   },
   {
    "duration": 332,
    "start_time": "2023-04-05T11:57:16.054Z"
   },
   {
    "duration": 14669,
    "start_time": "2023-04-05T11:57:16.388Z"
   },
   {
    "duration": 129,
    "start_time": "2023-04-05T11:57:31.059Z"
   },
   {
    "duration": 3,
    "start_time": "2023-04-05T11:57:31.189Z"
   },
   {
    "duration": 36,
    "start_time": "2023-04-05T11:57:31.193Z"
   },
   {
    "duration": 30,
    "start_time": "2023-04-05T11:57:31.231Z"
   },
   {
    "duration": 305,
    "start_time": "2023-04-05T11:57:31.263Z"
   },
   {
    "duration": 19,
    "start_time": "2023-04-05T11:57:31.570Z"
   },
   {
    "duration": 276,
    "start_time": "2023-04-05T11:57:31.591Z"
   },
   {
    "duration": 104,
    "start_time": "2023-04-05T11:58:52.657Z"
   },
   {
    "duration": 36,
    "start_time": "2023-04-05T11:58:55.412Z"
   },
   {
    "duration": 1390,
    "start_time": "2023-04-05T11:59:14.264Z"
   },
   {
    "duration": 40,
    "start_time": "2023-04-05T11:59:15.656Z"
   },
   {
    "duration": 16,
    "start_time": "2023-04-05T11:59:15.697Z"
   },
   {
    "duration": 12,
    "start_time": "2023-04-05T11:59:15.715Z"
   },
   {
    "duration": 5,
    "start_time": "2023-04-05T11:59:15.729Z"
   },
   {
    "duration": 76,
    "start_time": "2023-04-05T11:59:20.705Z"
   },
   {
    "duration": 49,
    "start_time": "2023-04-05T11:59:24.405Z"
   }
  ],
  "kernelspec": {
   "display_name": "Python 3 (ipykernel)",
   "language": "python",
   "name": "python3"
  },
  "language_info": {
   "codemirror_mode": {
    "name": "ipython",
    "version": 3
   },
   "file_extension": ".py",
   "mimetype": "text/x-python",
   "name": "python",
   "nbconvert_exporter": "python",
   "pygments_lexer": "ipython3",
   "version": "3.9.5"
  },
  "toc": {
   "base_numbering": 1,
   "nav_menu": {},
   "number_sections": true,
   "sideBar": true,
   "skip_h1_title": true,
   "title_cell": "Содержание",
   "title_sidebar": "Contents",
   "toc_cell": true,
   "toc_position": {},
   "toc_section_display": true,
   "toc_window_display": false
  },
  "colab": {
   "provenance": []
  }
 },
 "nbformat": 4,
 "nbformat_minor": 0
}